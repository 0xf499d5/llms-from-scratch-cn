{
 "cells": [
  {
   "cell_type": "markdown",
   "id": "16d3193d",
   "metadata": {},
   "source": [
    "# 用于文本分类的微调"
   ]
  },
  {
   "cell_type": "markdown",
   "id": "04a8ee0a",
   "metadata": {},
   "source": [
    "内容大纲：\n",
    "1. 构建数据集\n",
    "   1. 下载数据集\n",
    "   2. 平衡数据集中各个分类的数目\n",
    "   3. 划分数据集\n",
    "2. 创建数据加载器\n",
    "3. 加载预训练的LLM\n",
    "4. 修改模型结构以适应针对分类任务的微调\n",
    "5. 检查模型的损失\n",
    "6. 提取回复\n",
    "7. 量化评估\n",
    "8.  对回复打分\n",
    "9.  LoRA微调"
   ]
  },
  {
   "cell_type": "markdown",
   "id": "6fc6aa50",
   "metadata": {},
   "source": [
    "## 1. 构建数据集\n",
    "\n",
    "本小节将会准备用于分类微调的数据集，我们将会构建包含垃圾短信和非垃圾短信的文本数据集."
   ]
  },
  {
   "cell_type": "code",
   "execution_count": 1,
   "id": "6786fa23",
   "metadata": {},
   "outputs": [],
   "source": [
    "from pathlib import Path \n",
    "import os\n",
    "import zipfile\n",
    "\n",
    "import requests\n",
    "\n",
    "\n",
    "def download_and_unzip_spam_data(\n",
    "    url: str,\n",
    "    zip_path: str,\n",
    "    extracted_path: str,\n",
    "    data_file_path: Path\n",
    "):\n",
    "    if data_file_path.exists():\n",
    "        print(f\"{data_file_path} already exists. We'll skip download and extraction.\")\n",
    "        return\n",
    "\n",
    "    # 下载文件\n",
    "    resp = requests.get(url)\n",
    "    with open(zip_path, \"wb\") as out_file:\n",
    "        out_file.write(resp.content)\n",
    "\n",
    "    # 解压文件\n",
    "    with zipfile.ZipFile(zip_path, \"r\") as zip_ref:\n",
    "        zip_ref.extractall(extracted_path)\n",
    "\n",
    "    # 添加 .tsv 文件名后缀\n",
    "    original_file_path = Path(extracted_path) / \"SMSSpamCollection\"\n",
    "    os.rename(original_file_path, data_file_path)\n",
    "    print(f\"File downloaed and saved as {data_file_path}\")"
   ]
  },
  {
   "cell_type": "code",
   "execution_count": 2,
   "id": "d7ff2a5f",
   "metadata": {},
   "outputs": [
    {
     "name": "stdout",
     "output_type": "stream",
     "text": [
      "data file path: sms_spam_collection/SMSSpamCollection.tsv\n",
      "sms_spam_collection/SMSSpamCollection.tsv already exists. We'll skip download and extraction.\n"
     ]
    }
   ],
   "source": [
    "url = \"https://archive.ics.uci.edu/static/public/228/sms+spam+collection.zip\"\n",
    "zip_path = \"sms_spam_collection.zip\"\n",
    "extracted_path = \"sms_spam_collection\"\n",
    "data_file_path = Path(extracted_path) / \"SMSSpamCollection.tsv\"\n",
    "print(f\"data file path: {data_file_path}\")\n",
    "\n",
    "download_and_unzip_spam_data(\n",
    "    url=url,\n",
    "    zip_path=zip_path,\n",
    "    extracted_path=extracted_path,\n",
    "    data_file_path=data_file_path\n",
    ")"
   ]
  },
  {
   "cell_type": "markdown",
   "id": "cf495cbe",
   "metadata": {},
   "source": [
    "使用 pandas 将 .tsv 文件读到内存中的 dataframe："
   ]
  },
  {
   "cell_type": "code",
   "execution_count": 3,
   "id": "3b21c704",
   "metadata": {},
   "outputs": [
    {
     "data": {
      "text/html": [
       "<div>\n",
       "<style scoped>\n",
       "    .dataframe tbody tr th:only-of-type {\n",
       "        vertical-align: middle;\n",
       "    }\n",
       "\n",
       "    .dataframe tbody tr th {\n",
       "        vertical-align: top;\n",
       "    }\n",
       "\n",
       "    .dataframe thead th {\n",
       "        text-align: right;\n",
       "    }\n",
       "</style>\n",
       "<table border=\"1\" class=\"dataframe\">\n",
       "  <thead>\n",
       "    <tr style=\"text-align: right;\">\n",
       "      <th></th>\n",
       "      <th>Label</th>\n",
       "      <th>Text</th>\n",
       "    </tr>\n",
       "  </thead>\n",
       "  <tbody>\n",
       "    <tr>\n",
       "      <th>0</th>\n",
       "      <td>ham</td>\n",
       "      <td>Go until jurong point, crazy.. Available only ...</td>\n",
       "    </tr>\n",
       "    <tr>\n",
       "      <th>1</th>\n",
       "      <td>ham</td>\n",
       "      <td>Ok lar... Joking wif u oni...</td>\n",
       "    </tr>\n",
       "    <tr>\n",
       "      <th>2</th>\n",
       "      <td>spam</td>\n",
       "      <td>Free entry in 2 a wkly comp to win FA Cup fina...</td>\n",
       "    </tr>\n",
       "    <tr>\n",
       "      <th>3</th>\n",
       "      <td>ham</td>\n",
       "      <td>U dun say so early hor... U c already then say...</td>\n",
       "    </tr>\n",
       "    <tr>\n",
       "      <th>4</th>\n",
       "      <td>ham</td>\n",
       "      <td>Nah I don't think he goes to usf, he lives aro...</td>\n",
       "    </tr>\n",
       "    <tr>\n",
       "      <th>5</th>\n",
       "      <td>spam</td>\n",
       "      <td>FreeMsg Hey there darling it's been 3 week's n...</td>\n",
       "    </tr>\n",
       "    <tr>\n",
       "      <th>6</th>\n",
       "      <td>ham</td>\n",
       "      <td>Even my brother is not like to speak with me. ...</td>\n",
       "    </tr>\n",
       "    <tr>\n",
       "      <th>7</th>\n",
       "      <td>ham</td>\n",
       "      <td>As per your request 'Melle Melle (Oru Minnamin...</td>\n",
       "    </tr>\n",
       "    <tr>\n",
       "      <th>8</th>\n",
       "      <td>spam</td>\n",
       "      <td>WINNER!! As a valued network customer you have...</td>\n",
       "    </tr>\n",
       "    <tr>\n",
       "      <th>9</th>\n",
       "      <td>spam</td>\n",
       "      <td>Had your mobile 11 months or more? U R entitle...</td>\n",
       "    </tr>\n",
       "  </tbody>\n",
       "</table>\n",
       "</div>"
      ],
      "text/plain": [
       "  Label                                               Text\n",
       "0   ham  Go until jurong point, crazy.. Available only ...\n",
       "1   ham                      Ok lar... Joking wif u oni...\n",
       "2  spam  Free entry in 2 a wkly comp to win FA Cup fina...\n",
       "3   ham  U dun say so early hor... U c already then say...\n",
       "4   ham  Nah I don't think he goes to usf, he lives aro...\n",
       "5  spam  FreeMsg Hey there darling it's been 3 week's n...\n",
       "6   ham  Even my brother is not like to speak with me. ...\n",
       "7   ham  As per your request 'Melle Melle (Oru Minnamin...\n",
       "8  spam  WINNER!! As a valued network customer you have...\n",
       "9  spam  Had your mobile 11 months or more? U R entitle..."
      ]
     },
     "execution_count": 3,
     "metadata": {},
     "output_type": "execute_result"
    }
   ],
   "source": [
    "import pandas as pd \n",
    "\n",
    "df = pd.read_csv(\n",
    "    data_file_path,\n",
    "    sep=\"\\t\",\n",
    "    header=None,\n",
    "    names=[\"Label\", \"Text\"]\n",
    ")\n",
    "\n",
    "df.head(n=10)"
   ]
  },
  {
   "cell_type": "markdown",
   "id": "c2deb44a",
   "metadata": {},
   "source": [
    "接着，我们看一下垃圾信息和非垃圾信息的分布："
   ]
  },
  {
   "cell_type": "code",
   "execution_count": 4,
   "id": "5fcfc800",
   "metadata": {},
   "outputs": [
    {
     "data": {
      "text/plain": [
       "Label\n",
       "ham     4825\n",
       "spam     747\n",
       "Name: count, dtype: int64"
      ]
     },
     "execution_count": 4,
     "metadata": {},
     "output_type": "execute_result"
    }
   ],
   "source": [
    "df[\"Label\"].value_counts()"
   ]
  },
  {
   "cell_type": "markdown",
   "id": "53a93259",
   "metadata": {},
   "source": [
    "可以看到，这两个类别的分布非常不均匀，所以我们需要平衡一下它们的比例。"
   ]
  },
  {
   "cell_type": "markdown",
   "id": "cd9c81fd",
   "metadata": {},
   "source": [
    "### 1.2 平衡数据集中各个分类的数目"
   ]
  },
  {
   "cell_type": "code",
   "execution_count": 5,
   "id": "14cd3107",
   "metadata": {},
   "outputs": [],
   "source": [
    "def create_balanced_dataset(df: pd.DataFrame):\n",
    "    spam_set = df[df[\"Label\"] == \"spam\"]\n",
    "    ham_set = df[df[\"Label\"] == \"ham\"]\n",
    "    n_spam, n_ham = len(spam_set), len(ham_set)\n",
    "\n",
    "    if n_spam > n_ham:\n",
    "        spam_set = spam_set.sample(n=n_ham, random_state=123)\n",
    "    else:\n",
    "        ham_set = ham_set.sample(n=n_spam, random_state=123)\n",
    "\n",
    "    balanced_df = pd.concat([spam_set, ham_set])\n",
    "    return balanced_df"
   ]
  },
  {
   "cell_type": "code",
   "execution_count": 6,
   "id": "60da65cb",
   "metadata": {},
   "outputs": [
    {
     "data": {
      "text/plain": [
       "Label\n",
       "spam    747\n",
       "ham     747\n",
       "Name: count, dtype: int64"
      ]
     },
     "execution_count": 6,
     "metadata": {},
     "output_type": "execute_result"
    }
   ],
   "source": [
    "balanced_df = create_balanced_dataset(df=df)\n",
    "balanced_df[\"Label\"].value_counts()"
   ]
  },
  {
   "cell_type": "markdown",
   "id": "7b8166b8",
   "metadata": {},
   "source": [
    "OK，现在两个类别的样本数目已经一致，接下来我们需要将字符类标签\"ham\"和\"spam\"更改为整数类标签0和1："
   ]
  },
  {
   "cell_type": "code",
   "execution_count": 7,
   "id": "064d4079",
   "metadata": {},
   "outputs": [
    {
     "data": {
      "text/html": [
       "<div>\n",
       "<style scoped>\n",
       "    .dataframe tbody tr th:only-of-type {\n",
       "        vertical-align: middle;\n",
       "    }\n",
       "\n",
       "    .dataframe tbody tr th {\n",
       "        vertical-align: top;\n",
       "    }\n",
       "\n",
       "    .dataframe thead th {\n",
       "        text-align: right;\n",
       "    }\n",
       "</style>\n",
       "<table border=\"1\" class=\"dataframe\">\n",
       "  <thead>\n",
       "    <tr style=\"text-align: right;\">\n",
       "      <th></th>\n",
       "      <th>Label</th>\n",
       "      <th>Text</th>\n",
       "    </tr>\n",
       "  </thead>\n",
       "  <tbody>\n",
       "    <tr>\n",
       "      <th>2</th>\n",
       "      <td>1</td>\n",
       "      <td>Free entry in 2 a wkly comp to win FA Cup fina...</td>\n",
       "    </tr>\n",
       "    <tr>\n",
       "      <th>5</th>\n",
       "      <td>1</td>\n",
       "      <td>FreeMsg Hey there darling it's been 3 week's n...</td>\n",
       "    </tr>\n",
       "    <tr>\n",
       "      <th>8</th>\n",
       "      <td>1</td>\n",
       "      <td>WINNER!! As a valued network customer you have...</td>\n",
       "    </tr>\n",
       "    <tr>\n",
       "      <th>9</th>\n",
       "      <td>1</td>\n",
       "      <td>Had your mobile 11 months or more? U R entitle...</td>\n",
       "    </tr>\n",
       "    <tr>\n",
       "      <th>11</th>\n",
       "      <td>1</td>\n",
       "      <td>SIX chances to win CASH! From 100 to 20,000 po...</td>\n",
       "    </tr>\n",
       "    <tr>\n",
       "      <th>...</th>\n",
       "      <td>...</td>\n",
       "      <td>...</td>\n",
       "    </tr>\n",
       "    <tr>\n",
       "      <th>4707</th>\n",
       "      <td>0</td>\n",
       "      <td>Wow so healthy. Old airport rd lor. Cant thk o...</td>\n",
       "    </tr>\n",
       "    <tr>\n",
       "      <th>3293</th>\n",
       "      <td>0</td>\n",
       "      <td>Dear good morning how you feeling dear</td>\n",
       "    </tr>\n",
       "    <tr>\n",
       "      <th>1278</th>\n",
       "      <td>0</td>\n",
       "      <td>Dont put your phone on silent mode ok</td>\n",
       "    </tr>\n",
       "    <tr>\n",
       "      <th>4079</th>\n",
       "      <td>0</td>\n",
       "      <td>Gam gone after outstanding innings.</td>\n",
       "    </tr>\n",
       "    <tr>\n",
       "      <th>4468</th>\n",
       "      <td>0</td>\n",
       "      <td>She said,'' do u mind if I go into the bedroom...</td>\n",
       "    </tr>\n",
       "  </tbody>\n",
       "</table>\n",
       "<p>1494 rows × 2 columns</p>\n",
       "</div>"
      ],
      "text/plain": [
       "      Label                                               Text\n",
       "2         1  Free entry in 2 a wkly comp to win FA Cup fina...\n",
       "5         1  FreeMsg Hey there darling it's been 3 week's n...\n",
       "8         1  WINNER!! As a valued network customer you have...\n",
       "9         1  Had your mobile 11 months or more? U R entitle...\n",
       "11        1  SIX chances to win CASH! From 100 to 20,000 po...\n",
       "...     ...                                                ...\n",
       "4707      0  Wow so healthy. Old airport rd lor. Cant thk o...\n",
       "3293      0             Dear good morning how you feeling dear\n",
       "1278      0              Dont put your phone on silent mode ok\n",
       "4079      0                Gam gone after outstanding innings.\n",
       "4468      0  She said,'' do u mind if I go into the bedroom...\n",
       "\n",
       "[1494 rows x 2 columns]"
      ]
     },
     "execution_count": 7,
     "metadata": {},
     "output_type": "execute_result"
    }
   ],
   "source": [
    "balanced_df[\"Label\"] = balanced_df[\"Label\"].map({\"ham\": 0, \"spam\": 1})\n",
    "balanced_df"
   ]
  },
  {
   "cell_type": "markdown",
   "id": "f34180ea",
   "metadata": {},
   "source": [
    "### 1.3 划分数据集"
   ]
  },
  {
   "cell_type": "code",
   "execution_count": 8,
   "id": "00fceedf",
   "metadata": {},
   "outputs": [],
   "source": [
    "def split_dataset(\n",
    "    df: pd.DataFrame,\n",
    "    train_frac: float,\n",
    "    valid_frac: float\n",
    "):\n",
    "    df = df.sample(frac=1, random_state=123).reset_index(drop=True)\n",
    "\n",
    "    n = len(df)\n",
    "    t = int(n * train_frac)\n",
    "    v = t + int(n * valid_frac)\n",
    "\n",
    "    train_df = df[:t]\n",
    "    valid_df = df[t:v]\n",
    "    test_df = df[v:]\n",
    "    return train_df, valid_df, test_df"
   ]
  },
  {
   "cell_type": "code",
   "execution_count": 9,
   "id": "20c31b0a",
   "metadata": {},
   "outputs": [
    {
     "name": "stdout",
     "output_type": "stream",
     "text": [
      "train set size: 1045\n",
      "valid set size: 149\n",
      "test set size: 300\n"
     ]
    }
   ],
   "source": [
    "train_df, valid_df, test_df = split_dataset(\n",
    "    df=balanced_df,\n",
    "    train_frac=0.7,\n",
    "    valid_frac=0.1\n",
    ")\n",
    "\n",
    "# 将各个数据集导出为csv文件：\n",
    "train_df.to_csv(\"train.csv\", index=None)\n",
    "valid_df.to_csv(\"valid.csv\", index=None)\n",
    "test_df.to_csv(\"test.csv\", index=None)\n",
    "\n",
    "# 查看各个数据集的长度：\n",
    "print(f\"train set size: {len(train_df)}\")\n",
    "print(f\"valid set size: {len(valid_df)}\")\n",
    "print(f\"test set size: {len(test_df)}\")"
   ]
  },
  {
   "cell_type": "markdown",
   "id": "abd1c9d3",
   "metadata": {},
   "source": [
    "## 2. 创建数据加载器"
   ]
  },
  {
   "cell_type": "markdown",
   "id": "90fc0ecc",
   "metadata": {},
   "source": [
    "文本序列有不同的长度，在这里，我们将会将所有消息填充到数据集或者数据批中最长序列的长度。填充占位符使用”<|endoftext|>“来表示。"
   ]
  },
  {
   "cell_type": "code",
   "execution_count": 10,
   "id": "93c9d1fb",
   "metadata": {},
   "outputs": [
    {
     "name": "stdout",
     "output_type": "stream",
     "text": [
      "padding token id: [50256]\n"
     ]
    }
   ],
   "source": [
    "import tiktoken\n",
    "\n",
    "tokenizer = tiktoken.get_encoding(\"gpt2\")\n",
    "padding_token = \"<|endoftext|>\"\n",
    "padding_token_id = tokenizer.encode(padding_token, allowed_special={padding_token})\n",
    "print(f\"padding token id: {padding_token_id}\")"
   ]
  },
  {
   "cell_type": "markdown",
   "id": "3b107e20",
   "metadata": {},
   "source": [
    "使用刚才的csv数据创建Dataset类："
   ]
  },
  {
   "cell_type": "code",
   "execution_count": 11,
   "id": "9544830c",
   "metadata": {},
   "outputs": [],
   "source": [
    "from torch.utils.data import Dataset\n",
    "import torch\n",
    "\n",
    "\n",
    "class SpamDataset(Dataset):\n",
    "    def __init__(\n",
    "        self,\n",
    "        csv_file: str,\n",
    "        tokenizer: tiktoken.Encoding,\n",
    "        max_length: int = None,\n",
    "        padding_token_id: int = 50256\n",
    "    ):\n",
    "        self.data = pd.read_csv(csv_file)\n",
    "        self.token_ids = [\n",
    "            tokenizer.encode(token)\n",
    "            for token in self.data[\"Text\"]\n",
    "        ]\n",
    "        self.padding_token_id = padding_token_id\n",
    "        # self.max_length = self._get_max_length()\n",
    "        self.max_length = 0\n",
    "        self._build_dataset(max_length=max_length)\n",
    "\n",
    "    def _build_dataset(self, max_length: int = None):\n",
    "        if max_length is None:\n",
    "            self.max_length = self._get_max_length()\n",
    "        else:\n",
    "            self.max_length = max_length\n",
    "        \n",
    "        # 如果文本序列的长度大于 max_length，就截断它\n",
    "        self.token_ids = [\n",
    "            token[:self.max_length]\n",
    "            for token in self.token_ids\n",
    "        ]\n",
    "\n",
    "        # 将文本序列填充到最长序列\n",
    "        self.token_ids = [\n",
    "            token + [self.padding_token_id] * (self.max_length - len(token))\n",
    "            for token in self.token_ids\n",
    "        ]\n",
    "\n",
    "    def _get_max_length(self):\n",
    "        max_len = 0\n",
    "        for token in self.token_ids:\n",
    "            length = len(token)\n",
    "            max_len = max(max_len, length)\n",
    "        return max_len\n",
    "\n",
    "    def __getitem__(self, index):\n",
    "        tokens = self.token_ids[index]  # token ids\n",
    "        # labels = self.data.at[index, \"Label\"]\n",
    "        labels = self.data.iloc[index][\"Label\"]\n",
    "        return (\n",
    "            torch.tensor(tokens, dtype=torch.long),\n",
    "            torch.tensor(labels, dtype=torch.long)\n",
    "        )\n",
    "\n",
    "    def __len__(self):\n",
    "        return len(self.data)"
   ]
  },
  {
   "cell_type": "markdown",
   "id": "3b6ddfe5",
   "metadata": {},
   "source": [
    "OK，现在就可以分割数据集了："
   ]
  },
  {
   "cell_type": "code",
   "execution_count": 12,
   "id": "1dfe0183",
   "metadata": {},
   "outputs": [],
   "source": [
    "train_dataset = SpamDataset(\n",
    "    csv_file=\"train.csv\",\n",
    "    max_length=None,\n",
    "    tokenizer=tokenizer\n",
    ")\n",
    "\n",
    "valid_dataset = SpamDataset(\n",
    "    csv_file=\"valid.csv\",\n",
    "    max_length=train_dataset.max_length,\n",
    "    tokenizer=tokenizer\n",
    ")\n",
    "\n",
    "test_dataset = SpamDataset(\n",
    "    csv_file=\"test.csv\",\n",
    "    max_length=train_dataset.max_length,\n",
    "    tokenizer=tokenizer\n",
    ")"
   ]
  },
  {
   "cell_type": "code",
   "execution_count": 13,
   "id": "130624a8",
   "metadata": {},
   "outputs": [
    {
     "name": "stdout",
     "output_type": "stream",
     "text": [
      "train set's max length: 120\n",
      "valid set's max length: 120\n",
      "test set's max length: 120\n"
     ]
    }
   ],
   "source": [
    "print(f\"train set's max length: {train_dataset.max_length}\")\n",
    "print(f\"valid set's max length: {valid_dataset.max_length}\")\n",
    "print(f\"test set's max length: {test_dataset.max_length}\")"
   ]
  },
  {
   "cell_type": "markdown",
   "id": "b8891b55",
   "metadata": {},
   "source": [
    "接下来就是创建批量数据的加载器："
   ]
  },
  {
   "cell_type": "code",
   "execution_count": 14,
   "id": "fcdd0d5f",
   "metadata": {},
   "outputs": [],
   "source": [
    "from torch.utils.data import DataLoader\n",
    "\n",
    "torch.manual_seed(123)\n",
    "num_workers = 0\n",
    "batch_size = 8\n",
    "\n",
    "train_loader = DataLoader(\n",
    "    dataset=train_dataset,\n",
    "    batch_size=batch_size,\n",
    "    shuffle=True,\n",
    "    num_workers=num_workers,\n",
    "    drop_last=True\n",
    ")\n",
    "\n",
    "valid_loader = DataLoader(\n",
    "    dataset=valid_dataset,\n",
    "    batch_size=batch_size,\n",
    "    # shuffle=True,\n",
    "    num_workers=num_workers,\n",
    "    drop_last=False\n",
    ")\n",
    "\n",
    "test_loader = DataLoader(\n",
    "    dataset=test_dataset,\n",
    "    batch_size=batch_size,\n",
    "    # shuffle=True,\n",
    "    num_workers=num_workers,\n",
    "    drop_last=False\n",
    ")"
   ]
  },
  {
   "cell_type": "code",
   "execution_count": 15,
   "id": "2a054451",
   "metadata": {},
   "outputs": [
    {
     "name": "stdout",
     "output_type": "stream",
     "text": [
      "train set loader:\n",
      "torch.Size([8, 120])\n",
      "tensor([1, 1, 0, 1, 1, 1, 0, 1])\n",
      "train size: 1045\n",
      "valid size: 149\n",
      "test size: 300\n"
     ]
    }
   ],
   "source": [
    "print(\"train set loader:\")\n",
    "for ib, tb in train_loader:\n",
    "    print(ib.shape)\n",
    "    print(tb)\n",
    "    break\n",
    "\n",
    "print(f\"train size: {len(train_loader.dataset)}\")\n",
    "print(f\"valid size: {len(valid_loader.dataset)}\")\n",
    "print(f\"test size: {len(test_loader.dataset)}\")"
   ]
  },
  {
   "cell_type": "markdown",
   "id": "63bd8e49",
   "metadata": {},
   "source": [
    "## 3. 加载预训练的LLM\n",
    "\n",
    "在这里，我们将会像上一章那样，将OpenAI开源的GPT2权重加载到我们自己实现的GPT2Small模型当中，并且，我们将会看到，在未经分类微调的情况下，预训练的模型在面对分类任务时的表现。"
   ]
  },
  {
   "cell_type": "markdown",
   "id": "3a4f8bc0",
   "metadata": {},
   "source": [
    "首先，我们需要加载模型："
   ]
  },
  {
   "cell_type": "code",
   "execution_count": 16,
   "id": "795d2b25",
   "metadata": {},
   "outputs": [],
   "source": [
    "from gpt_download import download_and_load_gpt2\n",
    "from previous_chapters import GPT2Small, load_weights_into_gpt\n",
    "\n",
    "model_config = {\n",
    "    \"vocab_size\": 50257,\n",
    "    \"ctx_len\": 1024,\n",
    "    \"emb_dim\": 768,\n",
    "    \"n_heads\": 12,\n",
    "    \"n_layers\": 12,\n",
    "    \"dropout_rate\": 0.0,\n",
    "    \"with_bias\": True,\n",
    "    \"with_mask\": True\n",
    "}\n",
    "model_size = \"124M\"\n",
    "_, params = download_and_load_gpt2(model_size=model_size, models_dir=\"gpt2\")\n",
    "model = GPT2Small(**model_config)\n",
    "load_weights_into_gpt(gpt2=model, params=params)\n",
    "model.eval();"
   ]
  },
  {
   "cell_type": "markdown",
   "id": "f0104f82",
   "metadata": {},
   "source": [
    "验证模型是否已经成功加载："
   ]
  },
  {
   "cell_type": "code",
   "execution_count": 17,
   "id": "47c2bef4",
   "metadata": {},
   "outputs": [
    {
     "name": "stdout",
     "output_type": "stream",
     "text": [
      "Every effort moves you forward.\n",
      "\n",
      "The first step is to understand the importance of the work\n"
     ]
    }
   ],
   "source": [
    "from previous_chapters import (\n",
    "    generate_text_simple,\n",
    "    text_to_token_ids,\n",
    "    token_ids_to_text\n",
    ")\n",
    "\n",
    "\n",
    "text_1 = \"Every effort moves you\"\n",
    "\n",
    "token_ids = generate_text_simple(\n",
    "    model=model,\n",
    "    indices=text_to_token_ids(text_1, tokenizer),\n",
    "    max_new_tokens=15,\n",
    "    context_size=model_config[\"ctx_len\"]\n",
    ")\n",
    "\n",
    "print(token_ids_to_text(token_ids, tokenizer))"
   ]
  },
  {
   "cell_type": "markdown",
   "id": "d3623ae0",
   "metadata": {},
   "source": [
    "然后，我们将会看到，未经过分类微调的大模型对文本分类任务无能为力："
   ]
  },
  {
   "cell_type": "code",
   "execution_count": 18,
   "id": "5abede9f",
   "metadata": {},
   "outputs": [
    {
     "name": "stdout",
     "output_type": "stream",
     "text": [
      "Is the following text 'spam'? Answer with 'yes' or 'no': 'You are a winner you have been specially selected to receive $1000 cash or a $2000 award.' Answer with 'yes' or 'no'. Answer with 'yes' or 'no'. Answer with 'yes' or 'no'. Answer with 'yes'\n"
     ]
    }
   ],
   "source": [
    "text_2 = (\n",
    "    \"Is the following text 'spam'? Answer with 'yes' or 'no':\"\n",
    "    \" 'You are a winner you have been specially\"\n",
    "    \" selected to receive $1000 cash or a $2000 award.'\"\n",
    "    \" Answer with 'yes' or 'no'.\"\n",
    ")\n",
    "\n",
    "token_ids = generate_text_simple(\n",
    "    model=model,\n",
    "    indices=text_to_token_ids(text_2, tokenizer),\n",
    "    max_new_tokens=23,\n",
    "    context_size=model_config[\"ctx_len\"]\n",
    ")\n",
    "\n",
    "print(token_ids_to_text(token_ids, tokenizer))"
   ]
  },
  {
   "cell_type": "markdown",
   "id": "8e56ff9d",
   "metadata": {},
   "source": [
    "## 4. 修改模型结构以适应针对分类任务的微调"
   ]
  },
  {
   "cell_type": "markdown",
   "id": "3f2ad68e",
   "metadata": {},
   "source": [
    "在这里，我们将会把原来预训练好的大模型的输出层由包含一个形状如(emb_dim, vocab_size)的线性层改为所包含的权重矩阵的形状为(emb_dim, num_classification)的线性层，同时，我们设置输出层、输出层前面的归一化层以及Decoder最后一个block为可训练的，而将其余层组件冻结。"
   ]
  },
  {
   "cell_type": "markdown",
   "id": "74065726",
   "metadata": {},
   "source": [
    "首先，我们先来回顾一下预训练好的大模型的网络架构："
   ]
  },
  {
   "cell_type": "code",
   "execution_count": 19,
   "id": "55a85102",
   "metadata": {},
   "outputs": [
    {
     "name": "stdout",
     "output_type": "stream",
     "text": [
      "GPT2Small(\n",
      "  (tok_emb): Embedding(50257, 768)\n",
      "  (pos_emb): Embedding(1024, 768)\n",
      "  (decoder): Sequential(\n",
      "    (0): TransformerDecoderOnly(\n",
      "      (drop): Dropout(p=0.0, inplace=False)\n",
      "      (norm1): LayerNorm()\n",
      "      (mha): MultiHeadAttention(\n",
      "        (wq): Linear(in_features=768, out_features=768, bias=True)\n",
      "        (wk): Linear(in_features=768, out_features=768, bias=True)\n",
      "        (wv): Linear(in_features=768, out_features=768, bias=True)\n",
      "        (dropout): Dropout(p=0.0, inplace=False)\n",
      "        (out_proj): Linear(in_features=768, out_features=768, bias=True)\n",
      "      )\n",
      "      (norm2): LayerNorm()\n",
      "      (ffn): FeedForward(\n",
      "        (layers): Sequential(\n",
      "          (0): Linear(in_features=768, out_features=3072, bias=True)\n",
      "          (1): GELU()\n",
      "          (2): Linear(in_features=3072, out_features=768, bias=True)\n",
      "          (3): Dropout(p=0.0, inplace=False)\n",
      "        )\n",
      "      )\n",
      "    )\n",
      "    (1): TransformerDecoderOnly(\n",
      "      (drop): Dropout(p=0.0, inplace=False)\n",
      "      (norm1): LayerNorm()\n",
      "      (mha): MultiHeadAttention(\n",
      "        (wq): Linear(in_features=768, out_features=768, bias=True)\n",
      "        (wk): Linear(in_features=768, out_features=768, bias=True)\n",
      "        (wv): Linear(in_features=768, out_features=768, bias=True)\n",
      "        (dropout): Dropout(p=0.0, inplace=False)\n",
      "        (out_proj): Linear(in_features=768, out_features=768, bias=True)\n",
      "      )\n",
      "      (norm2): LayerNorm()\n",
      "      (ffn): FeedForward(\n",
      "        (layers): Sequential(\n",
      "          (0): Linear(in_features=768, out_features=3072, bias=True)\n",
      "          (1): GELU()\n",
      "          (2): Linear(in_features=3072, out_features=768, bias=True)\n",
      "          (3): Dropout(p=0.0, inplace=False)\n",
      "        )\n",
      "      )\n",
      "    )\n",
      "    (2): TransformerDecoderOnly(\n",
      "      (drop): Dropout(p=0.0, inplace=False)\n",
      "      (norm1): LayerNorm()\n",
      "      (mha): MultiHeadAttention(\n",
      "        (wq): Linear(in_features=768, out_features=768, bias=True)\n",
      "        (wk): Linear(in_features=768, out_features=768, bias=True)\n",
      "        (wv): Linear(in_features=768, out_features=768, bias=True)\n",
      "        (dropout): Dropout(p=0.0, inplace=False)\n",
      "        (out_proj): Linear(in_features=768, out_features=768, bias=True)\n",
      "      )\n",
      "      (norm2): LayerNorm()\n",
      "      (ffn): FeedForward(\n",
      "        (layers): Sequential(\n",
      "          (0): Linear(in_features=768, out_features=3072, bias=True)\n",
      "          (1): GELU()\n",
      "          (2): Linear(in_features=3072, out_features=768, bias=True)\n",
      "          (3): Dropout(p=0.0, inplace=False)\n",
      "        )\n",
      "      )\n",
      "    )\n",
      "    (3): TransformerDecoderOnly(\n",
      "      (drop): Dropout(p=0.0, inplace=False)\n",
      "      (norm1): LayerNorm()\n",
      "      (mha): MultiHeadAttention(\n",
      "        (wq): Linear(in_features=768, out_features=768, bias=True)\n",
      "        (wk): Linear(in_features=768, out_features=768, bias=True)\n",
      "        (wv): Linear(in_features=768, out_features=768, bias=True)\n",
      "        (dropout): Dropout(p=0.0, inplace=False)\n",
      "        (out_proj): Linear(in_features=768, out_features=768, bias=True)\n",
      "      )\n",
      "      (norm2): LayerNorm()\n",
      "      (ffn): FeedForward(\n",
      "        (layers): Sequential(\n",
      "          (0): Linear(in_features=768, out_features=3072, bias=True)\n",
      "          (1): GELU()\n",
      "          (2): Linear(in_features=3072, out_features=768, bias=True)\n",
      "          (3): Dropout(p=0.0, inplace=False)\n",
      "        )\n",
      "      )\n",
      "    )\n",
      "    (4): TransformerDecoderOnly(\n",
      "      (drop): Dropout(p=0.0, inplace=False)\n",
      "      (norm1): LayerNorm()\n",
      "      (mha): MultiHeadAttention(\n",
      "        (wq): Linear(in_features=768, out_features=768, bias=True)\n",
      "        (wk): Linear(in_features=768, out_features=768, bias=True)\n",
      "        (wv): Linear(in_features=768, out_features=768, bias=True)\n",
      "        (dropout): Dropout(p=0.0, inplace=False)\n",
      "        (out_proj): Linear(in_features=768, out_features=768, bias=True)\n",
      "      )\n",
      "      (norm2): LayerNorm()\n",
      "      (ffn): FeedForward(\n",
      "        (layers): Sequential(\n",
      "          (0): Linear(in_features=768, out_features=3072, bias=True)\n",
      "          (1): GELU()\n",
      "          (2): Linear(in_features=3072, out_features=768, bias=True)\n",
      "          (3): Dropout(p=0.0, inplace=False)\n",
      "        )\n",
      "      )\n",
      "    )\n",
      "    (5): TransformerDecoderOnly(\n",
      "      (drop): Dropout(p=0.0, inplace=False)\n",
      "      (norm1): LayerNorm()\n",
      "      (mha): MultiHeadAttention(\n",
      "        (wq): Linear(in_features=768, out_features=768, bias=True)\n",
      "        (wk): Linear(in_features=768, out_features=768, bias=True)\n",
      "        (wv): Linear(in_features=768, out_features=768, bias=True)\n",
      "        (dropout): Dropout(p=0.0, inplace=False)\n",
      "        (out_proj): Linear(in_features=768, out_features=768, bias=True)\n",
      "      )\n",
      "      (norm2): LayerNorm()\n",
      "      (ffn): FeedForward(\n",
      "        (layers): Sequential(\n",
      "          (0): Linear(in_features=768, out_features=3072, bias=True)\n",
      "          (1): GELU()\n",
      "          (2): Linear(in_features=3072, out_features=768, bias=True)\n",
      "          (3): Dropout(p=0.0, inplace=False)\n",
      "        )\n",
      "      )\n",
      "    )\n",
      "    (6): TransformerDecoderOnly(\n",
      "      (drop): Dropout(p=0.0, inplace=False)\n",
      "      (norm1): LayerNorm()\n",
      "      (mha): MultiHeadAttention(\n",
      "        (wq): Linear(in_features=768, out_features=768, bias=True)\n",
      "        (wk): Linear(in_features=768, out_features=768, bias=True)\n",
      "        (wv): Linear(in_features=768, out_features=768, bias=True)\n",
      "        (dropout): Dropout(p=0.0, inplace=False)\n",
      "        (out_proj): Linear(in_features=768, out_features=768, bias=True)\n",
      "      )\n",
      "      (norm2): LayerNorm()\n",
      "      (ffn): FeedForward(\n",
      "        (layers): Sequential(\n",
      "          (0): Linear(in_features=768, out_features=3072, bias=True)\n",
      "          (1): GELU()\n",
      "          (2): Linear(in_features=3072, out_features=768, bias=True)\n",
      "          (3): Dropout(p=0.0, inplace=False)\n",
      "        )\n",
      "      )\n",
      "    )\n",
      "    (7): TransformerDecoderOnly(\n",
      "      (drop): Dropout(p=0.0, inplace=False)\n",
      "      (norm1): LayerNorm()\n",
      "      (mha): MultiHeadAttention(\n",
      "        (wq): Linear(in_features=768, out_features=768, bias=True)\n",
      "        (wk): Linear(in_features=768, out_features=768, bias=True)\n",
      "        (wv): Linear(in_features=768, out_features=768, bias=True)\n",
      "        (dropout): Dropout(p=0.0, inplace=False)\n",
      "        (out_proj): Linear(in_features=768, out_features=768, bias=True)\n",
      "      )\n",
      "      (norm2): LayerNorm()\n",
      "      (ffn): FeedForward(\n",
      "        (layers): Sequential(\n",
      "          (0): Linear(in_features=768, out_features=3072, bias=True)\n",
      "          (1): GELU()\n",
      "          (2): Linear(in_features=3072, out_features=768, bias=True)\n",
      "          (3): Dropout(p=0.0, inplace=False)\n",
      "        )\n",
      "      )\n",
      "    )\n",
      "    (8): TransformerDecoderOnly(\n",
      "      (drop): Dropout(p=0.0, inplace=False)\n",
      "      (norm1): LayerNorm()\n",
      "      (mha): MultiHeadAttention(\n",
      "        (wq): Linear(in_features=768, out_features=768, bias=True)\n",
      "        (wk): Linear(in_features=768, out_features=768, bias=True)\n",
      "        (wv): Linear(in_features=768, out_features=768, bias=True)\n",
      "        (dropout): Dropout(p=0.0, inplace=False)\n",
      "        (out_proj): Linear(in_features=768, out_features=768, bias=True)\n",
      "      )\n",
      "      (norm2): LayerNorm()\n",
      "      (ffn): FeedForward(\n",
      "        (layers): Sequential(\n",
      "          (0): Linear(in_features=768, out_features=3072, bias=True)\n",
      "          (1): GELU()\n",
      "          (2): Linear(in_features=3072, out_features=768, bias=True)\n",
      "          (3): Dropout(p=0.0, inplace=False)\n",
      "        )\n",
      "      )\n",
      "    )\n",
      "    (9): TransformerDecoderOnly(\n",
      "      (drop): Dropout(p=0.0, inplace=False)\n",
      "      (norm1): LayerNorm()\n",
      "      (mha): MultiHeadAttention(\n",
      "        (wq): Linear(in_features=768, out_features=768, bias=True)\n",
      "        (wk): Linear(in_features=768, out_features=768, bias=True)\n",
      "        (wv): Linear(in_features=768, out_features=768, bias=True)\n",
      "        (dropout): Dropout(p=0.0, inplace=False)\n",
      "        (out_proj): Linear(in_features=768, out_features=768, bias=True)\n",
      "      )\n",
      "      (norm2): LayerNorm()\n",
      "      (ffn): FeedForward(\n",
      "        (layers): Sequential(\n",
      "          (0): Linear(in_features=768, out_features=3072, bias=True)\n",
      "          (1): GELU()\n",
      "          (2): Linear(in_features=3072, out_features=768, bias=True)\n",
      "          (3): Dropout(p=0.0, inplace=False)\n",
      "        )\n",
      "      )\n",
      "    )\n",
      "    (10): TransformerDecoderOnly(\n",
      "      (drop): Dropout(p=0.0, inplace=False)\n",
      "      (norm1): LayerNorm()\n",
      "      (mha): MultiHeadAttention(\n",
      "        (wq): Linear(in_features=768, out_features=768, bias=True)\n",
      "        (wk): Linear(in_features=768, out_features=768, bias=True)\n",
      "        (wv): Linear(in_features=768, out_features=768, bias=True)\n",
      "        (dropout): Dropout(p=0.0, inplace=False)\n",
      "        (out_proj): Linear(in_features=768, out_features=768, bias=True)\n",
      "      )\n",
      "      (norm2): LayerNorm()\n",
      "      (ffn): FeedForward(\n",
      "        (layers): Sequential(\n",
      "          (0): Linear(in_features=768, out_features=3072, bias=True)\n",
      "          (1): GELU()\n",
      "          (2): Linear(in_features=3072, out_features=768, bias=True)\n",
      "          (3): Dropout(p=0.0, inplace=False)\n",
      "        )\n",
      "      )\n",
      "    )\n",
      "    (11): TransformerDecoderOnly(\n",
      "      (drop): Dropout(p=0.0, inplace=False)\n",
      "      (norm1): LayerNorm()\n",
      "      (mha): MultiHeadAttention(\n",
      "        (wq): Linear(in_features=768, out_features=768, bias=True)\n",
      "        (wk): Linear(in_features=768, out_features=768, bias=True)\n",
      "        (wv): Linear(in_features=768, out_features=768, bias=True)\n",
      "        (dropout): Dropout(p=0.0, inplace=False)\n",
      "        (out_proj): Linear(in_features=768, out_features=768, bias=True)\n",
      "      )\n",
      "      (norm2): LayerNorm()\n",
      "      (ffn): FeedForward(\n",
      "        (layers): Sequential(\n",
      "          (0): Linear(in_features=768, out_features=3072, bias=True)\n",
      "          (1): GELU()\n",
      "          (2): Linear(in_features=3072, out_features=768, bias=True)\n",
      "          (3): Dropout(p=0.0, inplace=False)\n",
      "        )\n",
      "      )\n",
      "    )\n",
      "  )\n",
      "  (norm): LayerNorm()\n",
      "  (out): Linear(in_features=768, out_features=50257, bias=True)\n",
      ")\n"
     ]
    }
   ],
   "source": [
    "print(model)"
   ]
  },
  {
   "cell_type": "markdown",
   "id": "acb6a343",
   "metadata": {},
   "source": [
    "接着，冻结所有层以标记为不可训练："
   ]
  },
  {
   "cell_type": "code",
   "execution_count": 20,
   "id": "e2f9930a",
   "metadata": {},
   "outputs": [],
   "source": [
    "for param in model.parameters():\n",
    "    param.requires_grad = False"
   ]
  },
  {
   "cell_type": "markdown",
   "id": "58237769",
   "metadata": {},
   "source": [
    "再接着，我们需要如上述所说的那样替换输出层："
   ]
  },
  {
   "cell_type": "code",
   "execution_count": 21,
   "id": "e8c760d9",
   "metadata": {},
   "outputs": [
    {
     "name": "stdout",
     "output_type": "stream",
     "text": [
      "torch.Size([2, 768])\n"
     ]
    }
   ],
   "source": [
    "torch.manual_seed(123)\n",
    "\n",
    "num_classes = 2\n",
    "model.out = torch.nn.Linear(\n",
    "    in_features=model_config[\"emb_dim\"],\n",
    "    out_features=num_classes\n",
    ")\n",
    "print(model.out.weight.shape)"
   ]
  },
  {
   "cell_type": "markdown",
   "id": "62c47d6a",
   "metadata": {},
   "source": [
    "然后，将最后一个decoder block以及最后一个归一化层标记为可训练："
   ]
  },
  {
   "cell_type": "code",
   "execution_count": 22,
   "id": "ae05e452",
   "metadata": {},
   "outputs": [],
   "source": [
    "for param in model.decoder[-1].parameters():\n",
    "    param.requires_grad = True\n",
    "\n",
    "for param in model.norm.parameters():\n",
    "    param.requires_grad = True"
   ]
  },
  {
   "cell_type": "markdown",
   "id": "26304a34",
   "metadata": {},
   "source": [
    "最后，简单地测试一下模型的输入和输出："
   ]
  },
  {
   "cell_type": "code",
   "execution_count": 23,
   "id": "c95e72de",
   "metadata": {},
   "outputs": [
    {
     "name": "stdout",
     "output_type": "stream",
     "text": [
      "inputs: tensor([[5211,  345,  423,  640]])\n",
      "inputs dimensions: torch.Size([1, 4])\n",
      "outputs: tensor([[[-1.5854,  0.9903],\n",
      "         [-3.7235,  7.4548],\n",
      "         [-2.2661,  6.6049],\n",
      "         [-3.5983,  3.9902]]])\n",
      "outputs' dimensions: torch.Size([1, 4, 2])\n",
      "last output token: tensor([[-3.5983,  3.9902]])\n"
     ]
    }
   ],
   "source": [
    "inputs = tokenizer.encode(\"Do you have time\")\n",
    "inputs = torch.tensor(inputs).unsqueeze(0)\n",
    "print(f\"inputs: {inputs}\")\n",
    "print(f\"inputs dimensions: {inputs.shape}\")\n",
    "\n",
    "with torch.no_grad():\n",
    "    outputs = model(inputs)\n",
    "print(f\"outputs: {outputs}\")\n",
    "print(f\"outputs' dimensions: {outputs.shape}\")\n",
    "\n",
    "print(f\"last output token: {outputs[:, -1, :]}\")"
   ]
  },
  {
   "cell_type": "markdown",
   "id": "9bde5056",
   "metadata": {},
   "source": [
    "## 5. 计算分类准确率和分类损失"
   ]
  },
  {
   "cell_type": "markdown",
   "id": "393c2021",
   "metadata": {},
   "source": [
    "### 5.1 计算分类准确率"
   ]
  },
  {
   "cell_type": "code",
   "execution_count": 24,
   "id": "b2e35707",
   "metadata": {},
   "outputs": [],
   "source": [
    "# def calc_accuracy_epoch(\n",
    "#     data_loader,\n",
    "#     model,\n",
    "#     device,\n",
    "#     num_batches=None\n",
    "# ):\n",
    "#     model.eval()\n",
    "#     correct_predictions, num_samples = 0, 0\n",
    "#     if num_batches is None:\n",
    "#         num_batches = len(data_loader)\n",
    "#     else:\n",
    "#         num_batches = min(num_batches, len(data_loader))\n",
    "#     for i, (input_batch, target_batch) in enumerate(data_loader):\n",
    "#         if i < num_batches:\n",
    "#             input_batch, target_batch = input_batch.to(device), target_batch.to(device)\n",
    "#             with torch.no_grad():\n",
    "#                 logits = model(input_batch)[:, -1, :]\n",
    "#             predicted_labels = torch.argmax(logits, dim=-1)\n",
    "#             num_samples += predicted_labels.shape[0]\n",
    "#             correct_predictions += (predicted_labels == target_batch).sum().item()\n",
    "#         else:\n",
    "#             break\n",
    "#     # model.train()\n",
    "#     return correct_predictions / num_samples\n",
    "\n",
    "\n",
    "def calc_accuracy_epoch(data_loader, model, device, num_batches=None):\n",
    "    model.eval()\n",
    "    correct_predictions, num_examples = 0, 0\n",
    "\n",
    "    if num_batches is None:\n",
    "        num_batches = len(data_loader)\n",
    "    else:\n",
    "        num_batches = min(num_batches, len(data_loader))\n",
    "    for i, (input_batch, target_batch) in enumerate(data_loader):\n",
    "        if i < num_batches:\n",
    "            input_batch, target_batch = input_batch.to(device), target_batch.to(device)\n",
    "\n",
    "            with torch.no_grad():\n",
    "                logits = model(input_batch)[:, -1, :]  # 最后输出标记的 Logits\n",
    "            predicted_labels = torch.argmax(logits, dim=-1)\n",
    "\n",
    "            num_examples += predicted_labels.shape[0]\n",
    "            correct_predictions += (predicted_labels == target_batch).sum().item()\n",
    "        else:\n",
    "            break\n",
    "    return correct_predictions / num_examples"
   ]
  },
  {
   "cell_type": "code",
   "execution_count": 25,
   "id": "de88cc10",
   "metadata": {},
   "outputs": [
    {
     "name": "stdout",
     "output_type": "stream",
     "text": [
      "Training accuracy: 53.75%\n",
      "Validation accuracy: 55.00%\n",
      "Test accuracy: 51.25%\n"
     ]
    }
   ],
   "source": [
    "device = torch.device(\"cuda\" if torch.cuda.is_available() else \"cpu\")\n",
    "model.to(device) # nn.Module 类不需要分配 model = model.to(device)\n",
    "\n",
    "torch.manual_seed(123) # For reproducibility due to the shuffling in the training data loader\n",
    "\n",
    "train_accuracy = calc_accuracy_epoch(train_loader, model, device, num_batches=10)\n",
    "val_accuracy = calc_accuracy_epoch(valid_loader, model, device, num_batches=10)\n",
    "test_accuracy = calc_accuracy_epoch(test_loader, model, device, num_batches=10)\n",
    "\n",
    "print(f\"Training accuracy: {train_accuracy*100:.2f}%\")\n",
    "print(f\"Validation accuracy: {val_accuracy*100:.2f}%\")\n",
    "print(f\"Test accuracy: {test_accuracy*100:.2f}%\")"
   ]
  },
  {
   "cell_type": "markdown",
   "id": "0548b727",
   "metadata": {},
   "source": [
    "### 5.3 计算分类损失"
   ]
  },
  {
   "cell_type": "markdown",
   "id": "0bcc5a74",
   "metadata": {},
   "source": [
    "计算单批数据的分类损失：\n"
   ]
  },
  {
   "cell_type": "code",
   "execution_count": 26,
   "id": "d898dacb",
   "metadata": {},
   "outputs": [],
   "source": [
    "\n",
    "def calc_loss_batch(input_batch, target_batch, model, device):\n",
    "    input_batch = input_batch.to(device)\n",
    "    target_batch = target_batch.to(device)\n",
    "    logits = model(input_batch)[:, -1, :]  # 只需要最后那个token的logits\n",
    "    loss = torch.nn.functional.cross_entropy(logits, target_batch)\n",
    "    return loss"
   ]
  },
  {
   "cell_type": "markdown",
   "id": "e1b42329",
   "metadata": {},
   "source": [
    "计算整个数据集的分类损失："
   ]
  },
  {
   "cell_type": "code",
   "execution_count": 27,
   "id": "3e0e1293",
   "metadata": {},
   "outputs": [],
   "source": [
    "def calc_loss_epoch(data_loader, model, device, num_batches=None):\n",
    "    if len(data_loader) == 0:\n",
    "        return float(\"nan\")\n",
    "    \n",
    "    total_loss = 0.0\n",
    "    if num_batches is None:\n",
    "        num_batches = len(data_loader)\n",
    "    else:\n",
    "        num_batches = min(num_batches, len(data_loader))\n",
    "\n",
    "    for i, (input_batch, target_batch) in enumerate(data_loader):\n",
    "        if i < num_batches:\n",
    "            loss = calc_loss_batch(\n",
    "                input_batch=input_batch,\n",
    "                target_batch=target_batch,\n",
    "                model=model,\n",
    "                device=device\n",
    "            )\n",
    "            total_loss += loss\n",
    "        else:\n",
    "            break\n",
    "    return total_loss / num_batches"
   ]
  },
  {
   "cell_type": "markdown",
   "id": "4b8a0674",
   "metadata": {},
   "source": [
    "OK，现在可以计算微调之前的分类损失："
   ]
  },
  {
   "cell_type": "code",
   "execution_count": 28,
   "id": "ce229790",
   "metadata": {},
   "outputs": [
    {
     "name": "stdout",
     "output_type": "stream",
     "text": [
      "train loss: 2.6862545013427734\n",
      "valid loss: 2.578883647918701\n",
      "test loss: 2.8424019813537598\n"
     ]
    }
   ],
   "source": [
    "with torch.no_grad():\n",
    "    train_loss = calc_loss_epoch(train_loader, model, device, num_batches=5)\n",
    "    valid_loss = calc_loss_epoch(valid_loader, model, device, num_batches=5)\n",
    "    test_loss = calc_loss_epoch(test_loader, model, device, num_batches=5)\n",
    "\n",
    "print(f\"train loss: {train_loss}\")\n",
    "print(F\"valid loss: {valid_loss}\")\n",
    "print(f\"test loss: {test_loss}\")\n"
   ]
  },
  {
   "cell_type": "markdown",
   "id": "fa27ee96",
   "metadata": {},
   "source": [
    "## 6. 微调模型"
   ]
  },
  {
   "cell_type": "markdown",
   "id": "c3041d36",
   "metadata": {},
   "source": [
    "### 6.1 定义用于微调的训练函数"
   ]
  },
  {
   "cell_type": "code",
   "execution_count": 29,
   "id": "383d3acb",
   "metadata": {},
   "outputs": [],
   "source": [
    "# Same as chapter 5\n",
    "def evaluate_model(\n",
    "    model, \n",
    "    train_loader, \n",
    "    val_loader, \n",
    "    device, \n",
    "    eval_iter\n",
    "):\n",
    "    model.eval()\n",
    "    with torch.no_grad():\n",
    "        train_loss = calc_loss_epoch(train_loader, model, device, num_batches=eval_iter)\n",
    "        val_loss = calc_loss_epoch(val_loader, model, device, num_batches=eval_iter)\n",
    "    model.train()\n",
    "    return train_loss, val_loss\n",
    "\n",
    "def fine_tuning(\n",
    "    model,\n",
    "    train_loader,\n",
    "    valid_loader,\n",
    "    optimizer,\n",
    "    device,\n",
    "    num_epochs,\n",
    "    eval_freq,\n",
    "    eval_iter,\n",
    "    tokenizer\n",
    "):\n",
    "    # 初始化用来跟踪损失以及已经训练过的样本\n",
    "    train_losses = []\n",
    "    valid_losses = []\n",
    "    train_accs = []\n",
    "    valid_accs = []\n",
    "    sample_seen = 0\n",
    "    global_step = -1\n",
    "    for e in range(num_epochs):\n",
    "        model.train()\n",
    "        for ib, tb in train_loader:\n",
    "            optimizer.zero_grad()\n",
    "            loss = calc_loss_batch(ib, tb, model, device)\n",
    "            loss.backward()\n",
    "            optimizer.step()\n",
    "            sample_seen += ib.shape[0]\n",
    "            global_step += 1\n",
    "            # 评估收敛情况：\n",
    "            if global_step % eval_freq == 0:\n",
    "                train_loss, valid_loss = evaluate_model(\n",
    "                    model=model,\n",
    "                    train_loader=train_loader,\n",
    "                    val_loader=valid_loader,\n",
    "                    device=device,\n",
    "                    eval_iter=eval_iter\n",
    "                )\n",
    "                train_losses.append(train_loss)\n",
    "                valid_losses.append(valid_loss)\n",
    "                print(f\"Epoch {e + 1} (Step {global_step:06d}): Train loss: {train_loss:.3f}, Val loss: {valid_loss:.3f}\")\n",
    "        # 计算每个 epoch 后的准确率\n",
    "        train_acc = calc_accuracy_epoch(train_loader, model, device, num_batches=eval_iter)\n",
    "        valid_acc = calc_accuracy_epoch(valid_loader, model, device, num_batches=eval_iter)\n",
    "        print(f\"Training accuracy: {train_acc * 100:.2f}%, Valid accuracy: {valid_acc * 100:.2f}%\")\n",
    "        train_accs.append(train_acc)\n",
    "        valid_accs.append(valid_acc)\n",
    "    return train_losses, valid_losses, train_accs, valid_accs, sample_seen"
   ]
  },
  {
   "cell_type": "markdown",
   "id": "1983a2ec",
   "metadata": {},
   "source": [
    "### 6.2 进行微调训练"
   ]
  },
  {
   "cell_type": "code",
   "execution_count": 30,
   "id": "de644075",
   "metadata": {},
   "outputs": [
    {
     "name": "stdout",
     "output_type": "stream",
     "text": [
      "Epoch 1 (Step 000000): Train loss: 2.628, Val loss: 2.387\n",
      "Epoch 1 (Step 000050): Train loss: 0.667, Val loss: 0.651\n",
      "Epoch 1 (Step 000100): Train loss: 0.677, Val loss: 0.544\n",
      "Training accuracy: 65.00%, Valid accuracy: 67.50%\n",
      "Epoch 2 (Step 000150): Train loss: 0.557, Val loss: 0.527\n",
      "Epoch 2 (Step 000200): Train loss: 0.462, Val loss: 0.432\n",
      "Epoch 2 (Step 000250): Train loss: 0.425, Val loss: 0.468\n",
      "Training accuracy: 95.00%, Valid accuracy: 77.50%\n",
      "Epoch 3 (Step 000300): Train loss: 0.369, Val loss: 0.421\n",
      "Epoch 3 (Step 000350): Train loss: 0.381, Val loss: 0.441\n",
      "Training accuracy: 90.00%, Valid accuracy: 82.50%\n",
      "Epoch 4 (Step 000400): Train loss: 0.325, Val loss: 0.451\n",
      "Epoch 4 (Step 000450): Train loss: 0.400, Val loss: 0.394\n",
      "Epoch 4 (Step 000500): Train loss: 0.177, Val loss: 0.217\n",
      "Training accuracy: 87.50%, Valid accuracy: 95.00%\n",
      "Epoch 5 (Step 000550): Train loss: 0.267, Val loss: 0.116\n",
      "Epoch 5 (Step 000600): Train loss: 0.069, Val loss: 0.104\n",
      "Training accuracy: 97.50%, Valid accuracy: 95.00%\n",
      "Training completed in 17.58 minutes.\n"
     ]
    }
   ],
   "source": [
    "import time\n",
    "\n",
    "start_time = time.time()\n",
    "\n",
    "torch.manual_seed(123)\n",
    "\n",
    "optimizer = torch.optim.AdamW(model.parameters(), lr=5e-5, weight_decay=0.1)\n",
    "\n",
    "num_epochs = 5\n",
    "train_losses, val_losses, train_accs, val_accs, examples_seen = fine_tuning(\n",
    "    model, train_loader, valid_loader, optimizer, device,\n",
    "    num_epochs=num_epochs, eval_freq=50, eval_iter=5,\n",
    "    tokenizer=tokenizer\n",
    ")\n",
    "\n",
    "end_time = time.time()\n",
    "execution_time_minutes = (end_time - start_time) / 60\n",
    "print(f\"Training completed in {execution_time_minutes:.2f} minutes.\")"
   ]
  },
  {
   "cell_type": "markdown",
   "id": "558dceeb",
   "metadata": {},
   "source": [
    "### 6.3 绘制收敛曲线"
   ]
  },
  {
   "cell_type": "code",
   "execution_count": 31,
   "id": "abeda340",
   "metadata": {},
   "outputs": [],
   "source": [
    "import matplotlib.pyplot as plt\n",
    "\n",
    "def plot_values(epochs_seen, examples_seen, train_values, val_values, label=\"loss\"):\n",
    "    fig, ax1 = plt.subplots(figsize=(5, 3))\n",
    "\n",
    "    # 绘制针对 epoch 的训练和验证损失\n",
    "    ax1.plot(epochs_seen, train_values, label=f\"Training {label}\")\n",
    "    ax1.plot(epochs_seen, val_values, linestyle=\"-.\", label=f\"Validation {label}\")\n",
    "    ax1.set_xlabel(\"Epochs\")\n",
    "    ax1.set_ylabel(label.capitalize())\n",
    "    ax1.legend()\n",
    "\n",
    "    # 为所见示例创建第二个 x 轴\n",
    "    ax2 = ax1.twiny()  # 创建共享相同 y 轴的第二个 x 轴\n",
    "    ax2.plot(examples_seen, train_values, alpha=0)  # 用于对齐刻度的不可见图\n",
    "    ax2.set_xlabel(\"Examples seen\")\n",
    "\n",
    "    fig.tight_layout()  # 调整布局以腾出空间\n",
    "    plt.savefig(f\"{label}-plot.pdf\")\n",
    "    plt.show()"
   ]
  },
  {
   "cell_type": "markdown",
   "id": "f929c0cf",
   "metadata": {},
   "source": [
    "绘制分类损失函数曲线："
   ]
  },
  {
   "cell_type": "code",
   "execution_count": 32,
   "id": "af0e0cc4",
   "metadata": {},
   "outputs": [
    {
     "data": {
      "image/png": "[encoded data removed]",
      "text/plain": [
       "<Figure size 500x300 with 2 Axes>"
      ]
     },
     "metadata": {},
     "output_type": "display_data"
    }
   ],
   "source": [
    "epochs_tensor = torch.linspace(0, num_epochs, len(train_losses))\n",
    "examples_seen_tensor = torch.linspace(0, examples_seen, len(train_losses))\n",
    "\n",
    "plot_values(epochs_tensor, examples_seen_tensor, train_losses, val_losses)"
   ]
  },
  {
   "cell_type": "markdown",
   "id": "a6fcf074",
   "metadata": {},
   "source": [
    "绘制分类损失精度曲线："
   ]
  },
  {
   "cell_type": "code",
   "execution_count": 33,
   "id": "5d9f5fa2",
   "metadata": {},
   "outputs": [
    {
     "data": {
      "image/png": "[encoded data removed]",
      "text/plain": [
       "<Figure size 500x300 with 2 Axes>"
      ]
     },
     "metadata": {},
     "output_type": "display_data"
    }
   ],
   "source": [
    "epochs_tensor = torch.linspace(0, num_epochs, len(train_accs))\n",
    "examples_seen_tensor = torch.linspace(0, examples_seen, len(train_accs))\n",
    "\n",
    "plot_values(epochs_tensor, examples_seen_tensor, train_accs, val_accs, label=\"accuracy\")"
   ]
  },
  {
   "cell_type": "markdown",
   "id": "386081a1",
   "metadata": {},
   "source": [
    "打印一下各个数据集的分类精度："
   ]
  },
  {
   "cell_type": "code",
   "execution_count": 34,
   "id": "40ef80c2",
   "metadata": {},
   "outputs": [
    {
     "name": "stdout",
     "output_type": "stream",
     "text": [
      "Training accuracy: 96.44%\n",
      "Validation accuracy: 97.32%\n",
      "Test accuracy: 97.67%\n"
     ]
    }
   ],
   "source": [
    "train_accuracy = calc_accuracy_epoch(train_loader, model, device)\n",
    "val_accuracy = calc_accuracy_epoch(valid_loader, model, device)\n",
    "test_accuracy = calc_accuracy_epoch(test_loader, model, device)\n",
    "\n",
    "print(f\"Training accuracy: {train_accuracy*100:.2f}%\")\n",
    "print(f\"Validation accuracy: {val_accuracy*100:.2f}%\")\n",
    "print(f\"Test accuracy: {test_accuracy*100:.2f}%\")"
   ]
  },
  {
   "cell_type": "markdown",
   "id": "b15941b1",
   "metadata": {},
   "source": [
    "## 7. 测试经过微调的模型"
   ]
  },
  {
   "cell_type": "code",
   "execution_count": 35,
   "id": "e8859504",
   "metadata": {},
   "outputs": [],
   "source": [
    "def classify(text, model, tokenizer, device, max_length=None, pad_token_id=50256):\n",
    "    model.eval()\n",
    "\n",
    "    # 准备模型的输入\n",
    "    input_ids = tokenizer.encode(text)\n",
    "    supported_context_length = model.pos_emb.weight.shape[1]\n",
    "\n",
    "    # 如果序列太长则截断\n",
    "    input_ids = input_ids[:min(max_length, supported_context_length)]\n",
    "\n",
    "    # 将序列填充到最长序列\n",
    "    input_ids += [pad_token_id] * (max_length - len(input_ids))\n",
    "    input_tensor = torch.tensor(input_ids, device=device).unsqueeze(0) # 添加批次维度\n",
    "\n",
    "    # 模型推理\n",
    "    with torch.no_grad():\n",
    "        logits = model(input_tensor)[:, -1, :]  # 最后一个输出 token 的 Logits\n",
    "    predicted_label = torch.argmax(logits, dim=-1).item()\n",
    "\n",
    "    # 返回分类结果\n",
    "    return \"spam\" if predicted_label == 1 else \"not spam\""
   ]
  },
  {
   "cell_type": "markdown",
   "id": "5291e6bf",
   "metadata": {},
   "source": [
    "跑几个消息看看是否是垃圾短信："
   ]
  },
  {
   "cell_type": "code",
   "execution_count": 36,
   "id": "bf185060",
   "metadata": {},
   "outputs": [
    {
     "name": "stdout",
     "output_type": "stream",
     "text": [
      "spam\n"
     ]
    }
   ],
   "source": [
    "text_1 = (\n",
    "    \"You are a winner you have been specially\"\n",
    "    \" selected to receive $1000 cash or a $2000 award.\"\n",
    ")\n",
    "\n",
    "print(classify(\n",
    "    text_1, \n",
    "    model, \n",
    "    tokenizer, \n",
    "    device, \n",
    "    max_length=train_dataset.max_length\n",
    "))"
   ]
  },
  {
   "cell_type": "code",
   "execution_count": 37,
   "id": "1a98b492",
   "metadata": {},
   "outputs": [
    {
     "name": "stdout",
     "output_type": "stream",
     "text": [
      "not spam\n"
     ]
    }
   ],
   "source": [
    "text_2 = (\n",
    "    \"Hey, just wanted to check if we're still on\"\n",
    "    \" for dinner tonight? Let me know!\"\n",
    ")\n",
    "\n",
    "print(classify(\n",
    "    text_2, \n",
    "    model, \n",
    "    tokenizer, \n",
    "    device, \n",
    "    max_length=train_dataset.max_length\n",
    "))"
   ]
  },
  {
   "cell_type": "markdown",
   "id": "6d4119dc",
   "metadata": {},
   "source": [
    "最后，让我们保存一下微调好的模型！"
   ]
  },
  {
   "cell_type": "code",
   "execution_count": 38,
   "id": "200bb84c",
   "metadata": {},
   "outputs": [],
   "source": [
    "torch.save(model.state_dict(), \"text_classifier_based_on_gpt2_small.pth\")"
   ]
  }
 ],
 "metadata": {
  "kernelspec": {
   "display_name": "llm",
   "language": "python",
   "name": "python3"
  },
  "language_info": {
   "codemirror_mode": {
    "name": "ipython",
    "version": 3
   },
   "file_extension": ".py",
   "mimetype": "text/x-python",
   "name": "python",
   "nbconvert_exporter": "python",
   "pygments_lexer": "ipython3",
   "version": "3.12.10"
  }
 },
 "nbformat": 4,
 "nbformat_minor": 5
}
