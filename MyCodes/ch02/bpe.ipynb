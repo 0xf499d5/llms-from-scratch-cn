{
 "cells": [
  {
   "cell_type": "code",
   "execution_count": 7,
   "id": "7cf04284",
   "metadata": {},
   "outputs": [
    {
     "name": "stdout",
     "output_type": "stream",
     "text": [
      "The next word is\n"
     ]
    }
   ],
   "source": [
    "from tiktoken_educational import SimpleBytePairEncoding\n",
    "\n",
    "corpus = \"The LLM is trained to predict the next word.\"\n",
    "re_pattern = r\"\"\"\n",
    "    's|'t|'re|'ve|'m|'ll|'d| ?[\\p{L}]+| ?[\\p{N}]+| ?[^\\s\\p{L}\\p{N}]+|\\s+(?!\\S)|\\s+\n",
    "\"\"\"\n",
    "tokenizer = SimpleBytePairEncoding.train(corpus, vocab_size=500, pat_str=re_pattern, visualise=None)\n",
    "\n",
    "input_text = \"The next word is\"\n",
    "tokens = tokenizer.encode(input_text, visualise=None)\n",
    "output_text = tokenizer.decode(tokens)\n",
    "print(f\"{output_text}\")\n",
    "\n",
    "# 看一下分词器内部的状态：\n",
    "from pprint import pprint\n",
    "# pprint(tokenizer.mergeable_ranks)"
   ]
  },
  {
   "cell_type": "code",
   "execution_count": 8,
   "id": "086d2d37",
   "metadata": {},
   "outputs": [
    {
     "name": "stdout",
     "output_type": "stream",
     "text": [
      "encoded tokens: [259, 281, 285, 264]\n",
      "decoded tokens: The next word is\n"
     ]
    }
   ],
   "source": [
    "from pprint import pprint\n",
    "\n",
    "from bpe import BPETokenizer\n",
    "\n",
    "re_pattern = r\"\"\"\n",
    "    's|'t|'re|'ve|'m|'ll|'d| ?[\\p{L}]+| ?[\\p{N}]+| ?[^\\s\\p{L}\\p{N}]+|\\s+(?!\\S)|\\s+\n",
    "\"\"\"\n",
    "bpe = BPETokenizer(re_pattern=re_pattern)\n",
    "corpus = \"The LLM is trained to predict the next word.\"\n",
    "vocab_size = 500\n",
    "end_word_token = \"\"\n",
    "bpe.train(corpus, vocab_size)\n",
    "\n",
    "# pprint(bpe.token_to_id)\n",
    "assert bpe.token_to_id == tokenizer.mergeable_ranks\n",
    "\n",
    "inputs = \"The next word is\"\n",
    "tokens = bpe.encode(inputs)\n",
    "print(f\"encoded tokens: {tokens}\")\n",
    "outputs = bpe.decode(tokens)\n",
    "print(f\"decoded tokens: {outputs}\")\n"
   ]
  },
  {
   "cell_type": "code",
   "execution_count": 9,
   "id": "1fed5752",
   "metadata": {},
   "outputs": [
    {
     "name": "stdout",
     "output_type": "stream",
     "text": [
      "Hello, do you like tea? <|endoftext|> In the sunlit terraces of someunknownPlace.\n"
     ]
    }
   ],
   "source": [
    "from tiktoken_educational import SimpleBytePairEncoding\n",
    "\n",
    "with open(\"the-verdict.txt\", \"r\", encoding=\"utf-8\") as f:\n",
    "    corpus = f.read()\n",
    "\n",
    "re_pattern = r\"\"\"\n",
    "    's|'t|'re|'ve|'m|'ll|'d| ?[\\p{L}]+| ?[\\p{N}]+| ?[^\\s\\p{L}\\p{N}]+|\\s+(?!\\S)|\\s+\n",
    "\"\"\"\n",
    "\n",
    "tokenizer = SimpleBytePairEncoding.train(corpus, vocab_size=500, pat_str=re_pattern, visualise=None)\n",
    "inputs = \"Hello, do you like tea? <|endoftext|> In the sunlit terraces of someunknownPlace.\"\n",
    "encoded = tokenizer.encode(inputs, visualise=None)\n",
    "decoded = tokenizer.decode(encoded)\n",
    "print(f\"{decoded}\")"
   ]
  },
  {
   "cell_type": "code",
   "execution_count": 10,
   "id": "f0c25621",
   "metadata": {},
   "outputs": [
    {
     "name": "stdout",
     "output_type": "stream",
     "text": [
      "Hello, do you like tea? <|endoftext|> In the sunlit terraces of someunknownPlace.\n"
     ]
    }
   ],
   "source": [
    "from pprint import pprint\n",
    "\n",
    "from bpe import BPETokenizer\n",
    "\n",
    "re_pattern = r\"\"\"\n",
    "    's|'t|'re|'ve|'m|'ll|'d| ?[\\p{L}]+| ?[\\p{N}]+| ?[^\\s\\p{L}\\p{N}]+|\\s+(?!\\S)|\\s+\n",
    "\"\"\"\n",
    "bpe = BPETokenizer(re_pattern=re_pattern)\n",
    "with open(\"the-verdict.txt\", \"r\", encoding=\"utf-8\") as f:\n",
    "    corpus = f.read()\n",
    "word_end_token=\"<|endoftext|>\"\n",
    "bpe.train(corpus, vocab_size=500)\n",
    "inputs = \"Hello, do you like tea? <|endoftext|> In the sunlit terraces of someunknownPlace.\"\n",
    "encoded = bpe.encode(inputs)\n",
    "decoded = bpe.decode(encoded)\n",
    "print(f\"{decoded}\")"
   ]
  }
 ],
 "metadata": {
  "kernelspec": {
   "display_name": "llm",
   "language": "python",
   "name": "python3"
  },
  "language_info": {
   "codemirror_mode": {
    "name": "ipython",
    "version": 3
   },
   "file_extension": ".py",
   "mimetype": "text/x-python",
   "name": "python",
   "nbconvert_exporter": "python",
   "pygments_lexer": "ipython3",
   "version": "3.12.10"
  }
 },
 "nbformat": 4,
 "nbformat_minor": 5
}
