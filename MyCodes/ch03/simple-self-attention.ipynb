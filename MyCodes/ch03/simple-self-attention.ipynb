{
 "cells": [
  {
   "cell_type": "code",
   "execution_count": 1,
   "metadata": {},
   "outputs": [],
   "source": [
    "import torch"
   ]
  },
  {
   "cell_type": "markdown",
   "metadata": {},
   "source": [
    "# 使用不包含可训练权重的自注意力机制来计算关于输入向量的上下文向量\n",
    "计算步骤：\n",
    "1. 构造一个输入矩阵Inputs\n",
    "2. 计算注意力分数，即：attention_scores = Inputs @ Inputs.T\n",
    "3. 将注意力分数归一化，即：attention_weights = softmax(attention_scores, dim=1)\n",
    "4. 将注意力分数与输入矩阵相乘，得到上下文向量，即：contexts = softmax(attention_scores) @ Inputs"
   ]
  },
  {
   "cell_type": "code",
   "execution_count": 2,
   "metadata": {},
   "outputs": [
    {
     "name": "stdout",
     "output_type": "stream",
     "text": [
      "inputs' shape is: torch.Size([6, 3])\n"
     ]
    }
   ],
   "source": [
    "# 1. 构造一个输入矩阵inputs\n",
    "# 以“Your journey starts with one step”为例，并将其转换为嵌入向量：\n",
    "inputs = torch.tensor(\n",
    "  [[0.43, 0.15, 0.89], # Your     (x^1)\n",
    "   [0.55, 0.87, 0.66], # journey  (x^2)\n",
    "   [0.57, 0.85, 0.64], # starts   (x^3)\n",
    "   [0.22, 0.58, 0.33], # with     (x^4)\n",
    "   [0.77, 0.25, 0.10], # one      (x^5)\n",
    "   [0.05, 0.80, 0.55]] # step     (x^6)\n",
    ")\n",
    "print(f\"inputs' shape is: {inputs.shape}\")"
   ]
  },
  {
   "cell_type": "code",
   "execution_count": 3,
   "metadata": {},
   "outputs": [
    {
     "name": "stdout",
     "output_type": "stream",
     "text": [
      "attention_scores' shape is: torch.Size([6, 6])\n",
      "attention_scores is:\n",
      "tensor([[0.9995, 0.9544, 0.9422, 0.4753, 0.4576, 0.6310],\n",
      "        [0.9544, 1.4950, 1.4754, 0.8434, 0.7070, 1.0865],\n",
      "        [0.9422, 1.4754, 1.4570, 0.8296, 0.7154, 1.0605],\n",
      "        [0.4753, 0.8434, 0.8296, 0.4937, 0.3474, 0.6565],\n",
      "        [0.4576, 0.7070, 0.7154, 0.3474, 0.6654, 0.2935],\n",
      "        [0.6310, 1.0865, 1.0605, 0.6565, 0.2935, 0.9450]])\n"
     ]
    }
   ],
   "source": [
    "# 2. 计算注意力分数，即：attention_scores = Inputs @ Inputs.T\n",
    "attention_scores = inputs @ inputs.T\n",
    "print(f\"attention_scores' shape is: {attention_scores.shape}\")\n",
    "print(f\"attention_scores is:\\n{attention_scores}\")"
   ]
  },
  {
   "cell_type": "code",
   "execution_count": 5,
   "metadata": {},
   "outputs": [
    {
     "name": "stdout",
     "output_type": "stream",
     "text": [
      "attention_weights' shape is: torch.Size([6, 6])\n",
      "attention_weights is:\n",
      "tensor([[0.2098, 0.2006, 0.1981, 0.1242, 0.1220, 0.1452],\n",
      "        [0.1385, 0.2379, 0.2333, 0.1240, 0.1082, 0.1581],\n",
      "        [0.1390, 0.2369, 0.2326, 0.1242, 0.1108, 0.1565],\n",
      "        [0.1435, 0.2074, 0.2046, 0.1462, 0.1263, 0.1720],\n",
      "        [0.1526, 0.1958, 0.1975, 0.1367, 0.1879, 0.1295],\n",
      "        [0.1385, 0.2184, 0.2128, 0.1420, 0.0988, 0.1896]])\n",
      "attention_weights的每一行总和为：\n",
      "tensor([1.0000, 1.0000, 1.0000, 1.0000, 1.0000, 1.0000])\n"
     ]
    }
   ],
   "source": [
    "# 3. 将注意力分数归一化，即：softmax(attention_scores)\n",
    "attention_weights = torch.softmax(attention_scores, dim=1)\n",
    "print(f\"attention_weights' shape is: {attention_weights.shape}\")\n",
    "print(f\"attention_weights is:\\n{attention_weights}\")\n",
    "# 验证attention_weights的每一行的综合为1：\n",
    "# print(f\"attention_weights.sum(dim=1) is:\\n{attention_weights.sum(dim=1)}\")\n",
    "print(\"attention_weights的每一行总和为：\")\n",
    "attention_weights_sum_per_row = attention_weights.sum(dim=1)\n",
    "print(attention_weights_sum_per_row)"
   ]
  },
  {
   "cell_type": "code",
   "execution_count": 16,
   "metadata": {},
   "outputs": [
    {
     "name": "stdout",
     "output_type": "stream",
     "text": [
      "contexts' shape is: torch.Size([6, 3]), and it's dtype is: torch.float32\n",
      "contexts are: \n",
      "tensor([[0.4421, 0.5931, 0.5790],\n",
      "        [0.4419, 0.6515, 0.5683],\n",
      "        [0.4431, 0.6496, 0.5671],\n",
      "        [0.4304, 0.6298, 0.5510],\n",
      "        [0.4671, 0.5910, 0.5266],\n",
      "        [0.4177, 0.6503, 0.5645]])\n"
     ]
    }
   ],
   "source": [
    "# 4. 将注意力分数与输入矩阵相乘，得到上下文向量\n",
    "contexts = attention_weights @ inputs\n",
    "print(f\"contexts' shape is: {contexts.shape}, and it's dtype is: {contexts.dtype}\")\n",
    "print(f\"contexts are: \\n{contexts}\")\n",
    "# 验证上下文向量是否符合预期：\n",
    "expected = torch.tensor(\n",
    "    [[0.4421, 0.5931, 0.5790],\n",
    "     [0.4419, 0.6515, 0.5683],\n",
    "     [0.4431, 0.6496, 0.5671],\n",
    "     [0.4304, 0.6298, 0.5510],\n",
    "     [0.4671, 0.5910, 0.5266],\n",
    "     [0.4177, 0.6503, 0.5645]],\n",
    "     dtype=torch.float32\n",
    ")\n",
    "# assert torch.equal(contexts, expected)\n",
    "# print(expected)\n",
    "# 对于浮点数类型的两个张量的比较，需要允许误差的存在，例如这里可以设定误差为：1e-4\n",
    "assert torch.allclose(contexts, expected, atol=1e-4)\n"
   ]
  }
 ],
 "metadata": {
  "kernelspec": {
   "display_name": "llm",
   "language": "python",
   "name": "python3"
  },
  "language_info": {
   "codemirror_mode": {
    "name": "ipython",
    "version": 3
   },
   "file_extension": ".py",
   "mimetype": "text/x-python",
   "name": "python",
   "nbconvert_exporter": "python",
   "pygments_lexer": "ipython3",
   "version": "3.13.3"
  }
 },
 "nbformat": 4,
 "nbformat_minor": 2
}
