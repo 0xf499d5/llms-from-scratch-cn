{
 "cells": [
  {
   "cell_type": "markdown",
   "id": "c0460763",
   "metadata": {},
   "source": [
    "# 在未标记的数据集上进行预训练"
   ]
  },
  {
   "cell_type": "code",
   "execution_count": 1,
   "id": "5c9945b4",
   "metadata": {},
   "outputs": [],
   "source": [
    "import matplotlib.pyplot as plt\n",
    "import tiktoken\n",
    "import torch\n",
    "\n",
    "from previous_chapters import *"
   ]
  },
  {
   "cell_type": "markdown",
   "id": "3a872cbc",
   "metadata": {},
   "source": [
    "# 0. 模型配置"
   ]
  },
  {
   "cell_type": "code",
   "execution_count": 37,
   "id": "69ca72ef",
   "metadata": {},
   "outputs": [
    {
     "data": {
      "text/plain": [
       "<torch._C.Generator at 0x10b2b0ef0>"
      ]
     },
     "execution_count": 37,
     "metadata": {},
     "output_type": "execute_result"
    }
   ],
   "source": [
    "model_config = {\n",
    "    \"vocab_size\": 50257,\n",
    "    \"ctx_len\": 256,\n",
    "    \"emb_dim\": 768,\n",
    "    \"n_heads\": 12,\n",
    "    \"n_layers\": 12,\n",
    "    \"dropout_rate\": 0.1,\n",
    "    \"with_bias\": False,\n",
    "    \"with_mask\": True\n",
    "}\n",
    "\n",
    "torch.manual_seed(123)"
   ]
  },
  {
   "cell_type": "markdown",
   "id": "29e54b50",
   "metadata": {},
   "source": [
    "## 1. 生成文本"
   ]
  },
  {
   "cell_type": "markdown",
   "id": "38eaffe2",
   "metadata": {},
   "source": [
    "实现两个辅助函数以双向转换token ids和tokens\n"
   ]
  },
  {
   "cell_type": "code",
   "execution_count": 19,
   "id": "7a3bac06",
   "metadata": {},
   "outputs": [],
   "source": [
    "def text_to_token_ids(text: str, tokenizer: tiktoken.Encoding) -> torch.Tensor:\n",
    "    token_ids = tokenizer.encode(text, allowed_special={\"<|endoftext|>\"})\n",
    "    token_ids = torch.tensor(token_ids).reshape(1, -1)\n",
    "    # token_ids = torch.Tensor(token_ids).unsqueeze(0)\n",
    "    return token_ids\n",
    "\n",
    "def token_ids_to_text(token_ids: torch.Tensor, tokenizer: tiktoken.Encoding) -> str:\n",
    "    token_ids = token_ids.reshape(-1).tolist()\n",
    "    text = tokenizer.decode(token_ids)\n",
    "    return text"
   ]
  },
  {
   "cell_type": "markdown",
   "id": "2c54c0a4",
   "metadata": {},
   "source": [
    "调用GPT2Small和generate_text_simple函数以生成文本"
   ]
  },
  {
   "cell_type": "code",
   "execution_count": 39,
   "id": "9ce4ad2e",
   "metadata": {},
   "outputs": [
    {
     "name": "stdout",
     "output_type": "stream",
     "text": [
      "input ids' shape: torch.Size([1, 4])\n",
      "input token ids: \n",
      "tensor([[6109, 3626, 6100,  345]])\n",
      "\n",
      "output ids' shape: torch.Size([1, 14])\n",
      "output_ids: \n",
      "tensor([[ 6109,  3626,  6100,   345, 34245,  5139,  2492, 25405, 17434, 17853,\n",
      "          5308,  3398, 13174, 43071]])\n",
      "output text: \n",
      "Every effort moves you rentingetic wasnم refres RexMeCHicular stren\n"
     ]
    }
   ],
   "source": [
    "model = GPT2Small(\n",
    "    vocab_size=model_config[\"vocab_size\"],\n",
    "    ctx_len=model_config[\"ctx_len\"],\n",
    "    emb_dim=model_config[\"emb_dim\"],\n",
    "    n_heads=model_config[\"n_heads\"],\n",
    "    n_layers=model_config[\"n_layers\"],\n",
    "    dropout_rate=model_config[\"dropout_rate\"],\n",
    "    with_bias=model_config[\"with_bias\"],\n",
    "    with_mask=model_config[\"with_mask\"]\n",
    ")\n",
    "model.eval()\n",
    "\n",
    "start_context = \"Every effort moves you\"\n",
    "tokenizer = tiktoken.get_encoding(\"gpt2\")\n",
    "input_ids = text_to_token_ids(start_context, tokenizer)\n",
    "print(f\"input ids' shape: {input_ids.shape}\")\n",
    "print(f\"input token ids: \\n{input_ids}\\n\")\n",
    "\n",
    "output_ids = generate_text_simple(\n",
    "    model=model,\n",
    "    indices=input_ids,\n",
    "    max_new_tokens=10,\n",
    "    context_size=256\n",
    ")\n",
    "print(f\"output ids' shape: {output_ids.shape}\")\n",
    "print(f\"output_ids: \\n{output_ids}\")\n",
    "\n",
    "output_text = token_ids_to_text(output_ids, tokenizer)\n",
    "print(f\"output text: \\n{output_text}\")"
   ]
  },
  {
   "cell_type": "markdown",
   "id": "583f2283",
   "metadata": {},
   "source": [
    "# 2. 计算文本生成的好坏：多分类交叉熵损失函数和困惑度"
   ]
  },
  {
   "cell_type": "markdown",
   "id": "0314f5f1",
   "metadata": {},
   "source": [
    "## 2.1 多分类交叉熵损失函数\n",
    "多分类交叉熵损失函数公式如下：\n",
    "$$\n",
    "L = \\frac{1}{N}\\sum_{i} L_i = - \\frac{1}{N}\\sum_{i} \\sum_{c=1}^My_{ic}\\log(p_{ic}) \\\\\n",
    "$$\n",
    "\n",
    "其中：\n",
    "- M ——类别的数量\n",
    "- y_{ic} ——符号函数（ 0 或 1 ），如果样本 i 的真实类别等于 c 取 1 ，否则取 0\n",
    "- p_{ic} ——观测样本 i 属于类别 c 的预测概率"
   ]
  },
  {
   "cell_type": "markdown",
   "id": "21b19a89",
   "metadata": {},
   "source": [
    "PyTorch已经实现了一个`cross_entropy`函数，可以直接使用。"
   ]
  },
  {
   "cell_type": "code",
   "execution_count": 40,
   "id": "aa4dac4a",
   "metadata": {},
   "outputs": [
    {
     "name": "stdout",
     "output_type": "stream",
     "text": [
      "tensor([[16833,  3626,  6100],\n",
      "        [   40,  1107,   588]])\n"
     ]
    }
   ],
   "source": [
    "# 先准备两个batch的输入张量：\n",
    "input_texts = [\n",
    "    \"every effort moves\",\n",
    "    \"I really like\"\n",
    "]\n",
    "input_ids = torch.cat([text_to_token_ids(text, tokenizer) for text in input_texts])\n",
    "print(input_ids)"
   ]
  },
  {
   "cell_type": "code",
   "execution_count": 41,
   "id": "21ec7f3f",
   "metadata": {},
   "outputs": [
    {
     "name": "stdout",
     "output_type": "stream",
     "text": [
      "tensor([[ 3626,  6100,   345],\n",
      "        [ 1107,   588, 11311]])\n"
     ]
    }
   ],
   "source": [
    "# 然后准备对应的两个目标输出张量：\n",
    "target_texts = [\n",
    "    \" effort moves you\",\n",
    "    \" really like chocolate\"\n",
    "]\n",
    "target_ids = torch.cat([text_to_token_ids(text, tokenizer) for text in target_texts])\n",
    "print(target_ids)"
   ]
  },
  {
   "cell_type": "code",
   "execution_count": 42,
   "id": "11463b7b",
   "metadata": {},
   "outputs": [
    {
     "name": "stdout",
     "output_type": "stream",
     "text": [
      "logits shape: torch.Size([2, 3, 50257])\n",
      "logits: tensor([[[ 0.1113, -0.1057, -0.3666,  ...,  0.2843, -0.8824,  0.1074],\n",
      "         [-0.6109, -0.5167, -0.7613,  ...,  0.5450, -1.0319, -0.2175],\n",
      "         [ 0.5707, -0.6459, -0.0701,  ...,  0.7419, -0.1806, -0.2217]],\n",
      "\n",
      "        [[-0.2968,  0.1949, -0.1649,  ..., -0.4867,  0.7218, -0.1714],\n",
      "         [-0.8375,  0.0612, -0.4641,  ...,  0.2327, -0.3889, -0.0770],\n",
      "         [ 0.5614,  0.6919,  0.8915,  ..., -0.9472,  1.2411, -0.2056]]])\n"
     ]
    }
   ],
   "source": [
    "# 使用模型计算预测概率：\n",
    "with torch.no_grad():\n",
    "    logits = model(input_ids)\n",
    "print(f\"logits shape: {logits.shape}\")\n",
    "print(f\"logits: {logits}\")"
   ]
  },
  {
   "cell_type": "code",
   "execution_count": 43,
   "id": "bafa2845",
   "metadata": {},
   "outputs": [
    {
     "ename": "RuntimeError",
     "evalue": "Expected target size [2, 50257], got [2, 3]",
     "output_type": "error",
     "traceback": [
      "\u001b[31m---------------------------------------------------------------------------\u001b[39m",
      "\u001b[31mRuntimeError\u001b[39m                              Traceback (most recent call last)",
      "\u001b[36mCell\u001b[39m\u001b[36m \u001b[39m\u001b[32mIn[43]\u001b[39m\u001b[32m, line 2\u001b[39m\n\u001b[32m      1\u001b[39m \u001b[38;5;66;03m# 调用entropy_loss函数计算交叉熵损失：\u001b[39;00m\n\u001b[32m----> \u001b[39m\u001b[32m2\u001b[39m loss = \u001b[43mtorch\u001b[49m\u001b[43m.\u001b[49m\u001b[43mnn\u001b[49m\u001b[43m.\u001b[49m\u001b[43mfunctional\u001b[49m\u001b[43m.\u001b[49m\u001b[43mcross_entropy\u001b[49m\u001b[43m(\u001b[49m\u001b[43mlogits\u001b[49m\u001b[43m,\u001b[49m\u001b[43m \u001b[49m\u001b[43mtarget_ids\u001b[49m\u001b[43m)\u001b[49m\n",
      "\u001b[36mFile \u001b[39m\u001b[32m~/miniconda3/envs/llm/lib/python3.12/site-packages/torch/nn/functional.py:3494\u001b[39m, in \u001b[36mcross_entropy\u001b[39m\u001b[34m(input, target, weight, size_average, ignore_index, reduce, reduction, label_smoothing)\u001b[39m\n\u001b[32m   3492\u001b[39m \u001b[38;5;28;01mif\u001b[39;00m size_average \u001b[38;5;129;01mis\u001b[39;00m \u001b[38;5;129;01mnot\u001b[39;00m \u001b[38;5;28;01mNone\u001b[39;00m \u001b[38;5;129;01mor\u001b[39;00m reduce \u001b[38;5;129;01mis\u001b[39;00m \u001b[38;5;129;01mnot\u001b[39;00m \u001b[38;5;28;01mNone\u001b[39;00m:\n\u001b[32m   3493\u001b[39m     reduction = _Reduction.legacy_get_string(size_average, reduce)\n\u001b[32m-> \u001b[39m\u001b[32m3494\u001b[39m \u001b[38;5;28;01mreturn\u001b[39;00m \u001b[43mtorch\u001b[49m\u001b[43m.\u001b[49m\u001b[43m_C\u001b[49m\u001b[43m.\u001b[49m\u001b[43m_nn\u001b[49m\u001b[43m.\u001b[49m\u001b[43mcross_entropy_loss\u001b[49m\u001b[43m(\u001b[49m\n\u001b[32m   3495\u001b[39m \u001b[43m    \u001b[49m\u001b[38;5;28;43minput\u001b[39;49m\u001b[43m,\u001b[49m\n\u001b[32m   3496\u001b[39m \u001b[43m    \u001b[49m\u001b[43mtarget\u001b[49m\u001b[43m,\u001b[49m\n\u001b[32m   3497\u001b[39m \u001b[43m    \u001b[49m\u001b[43mweight\u001b[49m\u001b[43m,\u001b[49m\n\u001b[32m   3498\u001b[39m \u001b[43m    \u001b[49m\u001b[43m_Reduction\u001b[49m\u001b[43m.\u001b[49m\u001b[43mget_enum\u001b[49m\u001b[43m(\u001b[49m\u001b[43mreduction\u001b[49m\u001b[43m)\u001b[49m\u001b[43m,\u001b[49m\n\u001b[32m   3499\u001b[39m \u001b[43m    \u001b[49m\u001b[43mignore_index\u001b[49m\u001b[43m,\u001b[49m\n\u001b[32m   3500\u001b[39m \u001b[43m    \u001b[49m\u001b[43mlabel_smoothing\u001b[49m\u001b[43m,\u001b[49m\n\u001b[32m   3501\u001b[39m \u001b[43m\u001b[49m\u001b[43m)\u001b[49m\n",
      "\u001b[31mRuntimeError\u001b[39m: Expected target size [2, 50257], got [2, 3]"
     ]
    }
   ],
   "source": [
    "# 调用entropy_loss函数计算交叉熵损失：\n",
    "loss = torch.nn.functional.cross_entropy(logits, target_ids)"
   ]
  },
  {
   "cell_type": "code",
   "execution_count": 44,
   "id": "73a9cbfa",
   "metadata": {},
   "outputs": [
    {
     "name": "stdout",
     "output_type": "stream",
     "text": [
      "logits shape: torch.Size([6, 50257])\n",
      "targets shape: torch.Size([6])\n"
     ]
    }
   ],
   "source": [
    "# 如上所示，需要对logits和target_ids进行reshape操作，\n",
    "# logits: (batch_size, num_tokens, vocab_size) -> (num_tokens_total, vocab_size)\n",
    "# target_ids: (batch_size, num_tokens) -> (num_tokens_total,)\n",
    "logits = logits.reshape(-1, logits.shape[-1])\n",
    "targets = target_ids.reshape(-1)\n",
    "print(f\"logits shape: {logits.shape}\")\n",
    "print(f\"targets shape: {targets.shape}\")"
   ]
  },
  {
   "cell_type": "code",
   "execution_count": 45,
   "id": "99937995",
   "metadata": {},
   "outputs": [
    {
     "name": "stdout",
     "output_type": "stream",
     "text": [
      "loss is: 10.793963432312012\n"
     ]
    }
   ],
   "source": [
    "# reshape之后再重新计算损失：\n",
    "loss = torch.nn.functional.cross_entropy(logits, targets)\n",
    "print(f\"loss is: {loss}\")"
   ]
  },
  {
   "cell_type": "markdown",
   "id": "bb898867",
   "metadata": {},
   "source": [
    "## 2.2 困惑度\n",
    "关于困惑度的在不同场合下的定义，可以参考：[困惑度(perplexity)的基本概念及多种模型下的计算（N-gram, 主题模型, 神经网络）](https://zhuanlan.zhihu.com/p/114432097)。\n",
    "\n",
    "我们在这里只需要简单地认为困惑度就是交叉熵损失的指数函数的计算结果即可。"
   ]
  },
  {
   "cell_type": "code",
   "execution_count": 46,
   "id": "8ccc0160",
   "metadata": {},
   "outputs": [
    {
     "name": "stdout",
     "output_type": "stream",
     "text": [
      "perplexity is: 48725.7734375\n"
     ]
    }
   ],
   "source": [
    "perplexity = torch.exp(loss)\n",
    "print(f\"perplexity is: {perplexity}\")"
   ]
  },
  {
   "cell_type": "markdown",
   "id": "d7a4518a",
   "metadata": {},
   "source": [
    "# 3. 划分训练集和验证集\n",
    "内容大纲：\n",
    "1. 加载原始的文本数据集\n",
    "2. 将原始的数据集划分为训练集和验证集\n",
    "3. 实现损失计算"
   ]
  },
  {
   "cell_type": "markdown",
   "id": "72c419f2",
   "metadata": {},
   "source": [
    "## 3.1 加载原始的文本数据集"
   ]
  },
  {
   "cell_type": "code",
   "execution_count": 47,
   "id": "011e276f",
   "metadata": {},
   "outputs": [],
   "source": [
    "import os \n",
    "\n",
    "corpus_file_path = \"./the-verdict.txt\"\n",
    "with open(corpus_file_path, \"r\", encoding=\"utf-8\") as f:\n",
    "    corpus = f.read()"
   ]
  },
  {
   "cell_type": "code",
   "execution_count": 48,
   "id": "d17ac70e",
   "metadata": {},
   "outputs": [
    {
     "name": "stdout",
     "output_type": "stream",
     "text": [
      "number of total characters: 20479\n",
      "number of total tokens: 5145\n"
     ]
    }
   ],
   "source": [
    "num_total_chars = len(corpus)\n",
    "print(f\"number of total characters: {num_total_chars}\")\n",
    "\n",
    "num_total_tokens = len(tokenizer.encode(corpus))\n",
    "print(f\"number of total tokens: {num_total_tokens}\")"
   ]
  },
  {
   "cell_type": "markdown",
   "id": "55d0e612",
   "metadata": {},
   "source": [
    "## 3.2 将原始的数据集划分为训练集和验证集"
   ]
  },
  {
   "cell_type": "code",
   "execution_count": 49,
   "id": "09bf8578",
   "metadata": {},
   "outputs": [],
   "source": [
    "train_ratio = 0.9 ## 训练集占总数据量的比例\n",
    "split_idx = int(train_ratio * len(corpus))\n",
    "train_set = corpus[:split_idx]\n",
    "valid_set = corpus[split_idx:]"
   ]
  },
  {
   "cell_type": "code",
   "execution_count": 50,
   "id": "4263106f",
   "metadata": {},
   "outputs": [],
   "source": [
    "assert round(len(train_set) / len(valid_set)) == 9"
   ]
  },
  {
   "cell_type": "code",
   "execution_count": 51,
   "id": "be8a9cbe",
   "metadata": {},
   "outputs": [],
   "source": [
    "torch.manual_seed(123)\n",
    "\n",
    "# 加载训练集：\n",
    "train_loader = create_dataloader_v1(\n",
    "    txt=train_set,\n",
    "    batch_size=2,\n",
    "    max_length=model_config[\"ctx_len\"],\n",
    "    stride=model_config[\"ctx_len\"],\n",
    "    drop_last=True,\n",
    "    shuffle=True\n",
    ")\n",
    "\n",
    "# 加载验证集：\n",
    "valid_loader = create_dataloader_v1(\n",
    "    txt=valid_set,\n",
    "    batch_size=2,\n",
    "    max_length=model_config[\"ctx_len\"],\n",
    "    stride=model_config[\"ctx_len\"],\n",
    "    drop_last=True,\n",
    "    shuffle=True\n",
    ")"
   ]
  },
  {
   "cell_type": "code",
   "execution_count": 52,
   "id": "9202b660",
   "metadata": {},
   "outputs": [
    {
     "name": "stdout",
     "output_type": "stream",
     "text": [
      "train set loader:\n",
      "torch.Size([2, 256]) torch.Size([2, 256])\n",
      "torch.Size([2, 256]) torch.Size([2, 256])\n",
      "torch.Size([2, 256]) torch.Size([2, 256])\n",
      "torch.Size([2, 256]) torch.Size([2, 256])\n",
      "torch.Size([2, 256]) torch.Size([2, 256])\n",
      "torch.Size([2, 256]) torch.Size([2, 256])\n",
      "torch.Size([2, 256]) torch.Size([2, 256])\n",
      "torch.Size([2, 256]) torch.Size([2, 256])\n",
      "torch.Size([2, 256]) torch.Size([2, 256])\n",
      "valid set loader:\n",
      "torch.Size([2, 256]) torch.Size([2, 256])\n"
     ]
    }
   ],
   "source": [
    "# 检查数据是否能够正确加载：\n",
    "print(\"train set loader:\")\n",
    "for x, t in train_loader:\n",
    "    print(x.shape, t.shape)\n",
    "\n",
    "print(\"valid set loader:\")\n",
    "for x, t in valid_loader:\n",
    "    print(x.shape, t.shape)"
   ]
  },
  {
   "cell_type": "markdown",
   "id": "90ef1352",
   "metadata": {},
   "source": [
    "## 3.3 实现损失计算"
   ]
  },
  {
   "cell_type": "code",
   "execution_count": 53,
   "id": "88fb9882",
   "metadata": {},
   "outputs": [],
   "source": [
    "def calc_loss_batch(x_batch, t_batch, model: torch.nn.Module, device: torch.device):\n",
    "    x_batch = x_batch.to(device)\n",
    "    t_batch = t_batch.to(device)\n",
    "\n",
    "    logits = model(x_batch)\n",
    "    logits = logits.reshape(-1, logits.shape[-1])\n",
    "    targets = t_batch.reshape(-1)\n",
    "    loss = torch.nn.functional.cross_entropy(logits, targets)\n",
    "    return loss\n",
    "\n",
    "\n",
    "def calc_loss_epoch(dataloader, model, device, num_batches: int = None):\n",
    "    loss_sum = 0.\n",
    "    if num_batches is None:\n",
    "        num_batches = len(dataloader)\n",
    "    else:\n",
    "        num_batches = min(len(dataloader), num_batches)\n",
    "    \n",
    "    for i, (x_batch, t_batch) in enumerate(dataloader):\n",
    "        if i >= num_batches:\n",
    "            break\n",
    "        loss = calc_loss_batch(x_batch, t_batch, model, device)\n",
    "        loss_sum += loss\n",
    "    loss_mean = loss_sum / num_batches\n",
    "    return loss_mean"
   ]
  },
  {
   "cell_type": "code",
   "execution_count": 54,
   "id": "40ef21e8",
   "metadata": {},
   "outputs": [
    {
     "name": "stdout",
     "output_type": "stream",
     "text": [
      "Train loss: 10.98758316040039\n",
      "Validation loss: 10.981106758117676\n"
     ]
    }
   ],
   "source": [
    "device = torch.device(\"cuda\" if torch.cuda.is_available() else \"cpu\")\n",
    "# print(type(device))\n",
    "model.to(device)\n",
    "\n",
    "# 训练模型\n",
    "train_loss = calc_loss_epoch(train_loader, model, device)\n",
    "print(f\"Train loss: {train_loss}\")\n",
    "\n",
    "# 验证模型\n",
    "valid_loss = calc_loss_epoch(valid_loader, model, device)\n",
    "print(f\"Validation loss: {valid_loss}\")"
   ]
  },
  {
   "cell_type": "markdown",
   "id": "0d8bb09f",
   "metadata": {},
   "source": [
    "# 4. 训练模型\n",
    "内容大纲：\n",
    "1. 实现模型验证\n",
    "2. 生成文本\n",
    "3. 实现模型训练\n",
    "4. 可视化收敛情况"
   ]
  },
  {
   "cell_type": "markdown",
   "id": "ddf5be8b",
   "metadata": {},
   "source": [
    "## 4.1 实现模型验证"
   ]
  },
  {
   "cell_type": "code",
   "execution_count": 55,
   "id": "e3ebf874",
   "metadata": {},
   "outputs": [],
   "source": [
    "def evaluate(model, train_loader, valid_loader, device, num_batches):\n",
    "    model.eval()\n",
    "    with torch.no_grad():\n",
    "        train_loss = calc_loss_epoch(train_loader, model, device, num_batches)\n",
    "        valid_loss = calc_loss_epoch(valid_loader, model, device, num_batches)\n",
    "    model.train()\n",
    "    return train_loss, valid_loss"
   ]
  },
  {
   "cell_type": "code",
   "execution_count": 56,
   "id": "40ffb3ca",
   "metadata": {},
   "outputs": [
    {
     "name": "stdout",
     "output_type": "stream",
     "text": [
      "train_loss: 10.991314888000488, valid_loss: 10.981106758117676\n"
     ]
    }
   ],
   "source": [
    "train_loss, valid_losss = evaluate(model, train_loader, valid_loader, device, num_batches=2)\n",
    "print(f\"train_loss: {train_loss}, valid_loss: {valid_losss}\")"
   ]
  },
  {
   "cell_type": "markdown",
   "id": "c63d2fd4",
   "metadata": {},
   "source": [
    "## 4.2 在经过一个epoch的训练之后生成预测文本"
   ]
  },
  {
   "cell_type": "code",
   "execution_count": 57,
   "id": "8ae58207",
   "metadata": {},
   "outputs": [],
   "source": [
    "def generate_text(model, tokenizer, device, start_context) -> str:\n",
    "    model.eval()\n",
    "    ctx_size = model.tok_emb.weight.shape[0]\n",
    "    input_ids = text_to_token_ids(start_context, tokenizer)\n",
    "    with torch.no_grad():\n",
    "        output_ids = generate_text_simple(\n",
    "            model=model,\n",
    "            indices=input_ids,\n",
    "            max_new_tokens=50,\n",
    "            context_size=ctx_size\n",
    "        )\n",
    "        predicted_text = token_ids_to_text(output_ids, tokenizer)\n",
    "        print(predicted_text.replace(\"\\n\", \" \"))\n",
    "    model.train()"
   ]
  },
  {
   "cell_type": "markdown",
   "id": "afdae58a",
   "metadata": {},
   "source": [
    "## 4.3 实现模型训练"
   ]
  },
  {
   "cell_type": "code",
   "execution_count": 58,
   "id": "b00e50d1",
   "metadata": {},
   "outputs": [],
   "source": [
    "def train(\n",
    "    model,\n",
    "    train_loader,\n",
    "    valid_loader,\n",
    "    optimizer,\n",
    "    device,\n",
    "    num_epochs,\n",
    "    eval_freq,\n",
    "    num_batches,\n",
    "    start_context\n",
    "):\n",
    "    train_losses = []  # 训练周期内所有的损失值\n",
    "    valid_losses = []  # 训练周期内所有的损失值\n",
    "    total_tokens_seen = []  # 训练周期内总共处理的token数\n",
    "    tokens_seen = 0  # 当前epoch处理的token数\n",
    "    global_step = 0  # 当前经过训练的样本数\n",
    "\n",
    "    for e in range(num_epochs):\n",
    "        model.train()\n",
    "        for input_batch, target_batch in train_loader:\n",
    "            optimizer.zero_grad()\n",
    "            loss = calc_loss_batch(input_batch, target_batch, model, device)\n",
    "            loss.backward()\n",
    "            optimizer.step()\n",
    "            tokens_seen += input_batch.numel()\n",
    "            global_step += 1\n",
    "            if global_step % eval_freq == 0:\n",
    "                train_loss, valid_loss = evaluate(\n",
    "                    model,\n",
    "                    train_loader,\n",
    "                    valid_loader,\n",
    "                    device,\n",
    "                    num_batches\n",
    "                )\n",
    "                train_losses.append(train_loss)\n",
    "                valid_losses.append(valid_loss)\n",
    "                total_tokens_seen.append(tokens_seen)\n",
    "                print(f\"Epoch: {e}, Step: {global_step}, Train Loss: {train_loss:.3f}, Valid Loss: {valid_loss:.3f}\")\n",
    "        generate_text(model, tokenizer, device, start_context)\n",
    "    return train_losses, valid_losses, total_tokens_seen"
   ]
  },
  {
   "cell_type": "code",
   "execution_count": 59,
   "id": "307d66ce",
   "metadata": {},
   "outputs": [
    {
     "name": "stdout",
     "output_type": "stream",
     "text": [
      "Epoch: 0, Step: 5, Train Loss: 9.272, Valid Loss: 9.539\n",
      "Every effort moves you,,,,,,,,,,,,,,,,,,,,,,,,,,,,,,,,,,,,,,,,,,,,,,,,,,\n",
      "Epoch: 1, Step: 10, Train Loss: 8.781, Valid Loss: 8.975\n",
      "Epoch: 1, Step: 15, Train Loss: 8.294, Valid Loss: 8.497\n",
      "Every effort moves you, the, the the the the the the the, the the, the, the, the the, the the,, the the the, the, the the the, the the the the the, the, the the, the, the the\n",
      "Epoch: 2, Step: 20, Train Loss: 7.768, Valid Loss: 8.063\n",
      "Epoch: 2, Step: 25, Train Loss: 7.184, Valid Loss: 7.656\n",
      "Every effort moves you, the, the, the, the, the, the.                                     \n",
      "Epoch: 3, Step: 30, Train Loss: 6.738, Valid Loss: 7.325\n",
      "Epoch: 3, Step: 35, Train Loss: 6.275, Valid Loss: 7.061\n",
      "Every effort moves you, and, and the the. \". \". \".   \", and the   \" \" I had the the the \". \" \".  \". \", I\n",
      "Epoch: 4, Step: 40, Train Loss: 5.885, Valid Loss: 6.908\n",
      "Epoch: 4, Step: 45, Train Loss: 5.445, Valid Loss: 6.645\n",
      "Every effort moves you, and I had the the of the of the the of the.                                    \n",
      "Epoch: 5, Step: 50, Train Loss: 5.093, Valid Loss: 6.580\n",
      "Every effort moves you.       \"I, I had the. \"I was I was his I was I was.               \"I had the, I was his\n",
      "Epoch: 6, Step: 55, Train Loss: 4.741, Valid Loss: 6.462\n",
      "Epoch: 6, Step: 60, Train Loss: 4.440, Valid Loss: 6.375\n",
      "Every effort moves you know the, and in the of the picture to the of the.             \", I, I was, and, and he was his, the, and--I, I was his\n",
      "Epoch: 7, Step: 65, Train Loss: 3.973, Valid Loss: 6.364\n",
      "Epoch: 7, Step: 70, Train Loss: 3.766, Valid Loss: 6.354\n",
      "Every effort moves you know it was his pictures--I had been to the fact of the. \"I was--I had the, I had been to the the, and I had been the.   \"I, and--and, and in his\n",
      "Epoch: 8, Step: 75, Train Loss: 3.490, Valid Loss: 6.258\n",
      "Epoch: 8, Step: 80, Train Loss: 3.018, Valid Loss: 6.252\n",
      "Every effort moves you know.    \"--I he was a a me. \"I was--I--and it's the that, in the he had the his pictures--I had been his he had been the--I had been the his\n",
      "Epoch: 9, Step: 85, Train Loss: 2.840, Valid Loss: 6.299\n",
      "Epoch: 9, Step: 90, Train Loss: 2.607, Valid Loss: 6.295\n",
      "Every effort moves you know. \"I was a he was--I had a little to have to have to work, and to me to have to see a little of his pictures--and I had been his painting, the donkey.      \n"
     ]
    }
   ],
   "source": [
    "# 好了，现在可以预训练大模型了：\n",
    "torch.manual_seed(123)\n",
    "model = GPT2Small(\n",
    "    vocab_size=model_config[\"vocab_size\"],\n",
    "    ctx_len=model_config[\"ctx_len\"],\n",
    "    emb_dim=model_config[\"emb_dim\"],\n",
    "    n_heads=model_config[\"n_heads\"],\n",
    "    n_layers=model_config[\"n_layers\"],\n",
    "    dropout_rate=model_config[\"dropout_rate\"],\n",
    "    with_bias=model_config[\"with_bias\"],\n",
    "    with_mask=model_config[\"with_mask\"]\n",
    ")\n",
    "model.to(device)\n",
    "optimizer = torch.optim.AdamW(model.parameters(), lr=1e-4, weight_decay=0.1)\n",
    "\n",
    "num_epochs = 10\n",
    "train_losses, valid_losses, total_tokens_seen = train(\n",
    "    model=model,\n",
    "    train_loader=train_loader,\n",
    "    valid_loader=valid_loader,\n",
    "    optimizer=optimizer,\n",
    "    device=device,\n",
    "    num_epochs=num_epochs,\n",
    "    eval_freq=5,\n",
    "    num_batches=5,\n",
    "    start_context=\"Every effort moves you\"\n",
    ")"
   ]
  },
  {
   "cell_type": "markdown",
   "id": "1d648865",
   "metadata": {},
   "source": [
    "## 4.4 可视化收敛情况"
   ]
  },
  {
   "cell_type": "code",
   "execution_count": 60,
   "id": "572e318a",
   "metadata": {},
   "outputs": [],
   "source": [
    "def plot_losses(epochs_seen, tokens_seen, train_losses, val_losses):\n",
    "    fig, ax1 = plt.subplots()\n",
    "\n",
    "    # 绘制随着训练进行（epoch值增大）训练集损失和验证集损失的变化情况\n",
    "    ax1.plot(epochs_seen, train_losses, label=\"Training loss\")\n",
    "    ax1.plot(epochs_seen, val_losses, linestyle=\"-.\", label=\"Validation loss\")\n",
    "    ax1.set_xlabel(\"Epochs\")\n",
    "    ax1.set_ylabel(\"Loss\")\n",
    "    ax1.legend(loc=\"upper right\")\n",
    "\n",
    "    # 创建第二个x轴用于显示可观察的tokens\n",
    "    ax2 = ax1.twiny()  # 创建一个共享相同y轴的第二个x轴\n",
    "    ax2.plot(tokens_seen, train_losses, alpha=0)  # 用于对齐刻度的不可见图表\n",
    "    ax2.set_xlabel(\"Tokens seen\")\n",
    "\n",
    "    fig.tight_layout()  # 调整布局以节省空间\n",
    "    plt.savefig(\"loss-plot.pdf\")\n",
    "    plt.show()"
   ]
  },
  {
   "cell_type": "code",
   "execution_count": 61,
   "id": "58561a4d",
   "metadata": {},
   "outputs": [
    {
     "data": {
      "image/png": "[encoded data removed]",
      "text/plain": [
       "<Figure size 640x480 with 2 Axes>"
      ]
     },
     "metadata": {},
     "output_type": "display_data"
    }
   ],
   "source": [
    "\n",
    "epochs_tensor = torch.linspace(0, num_epochs, len(train_losses))\n",
    "plot_losses(epochs_tensor, total_tokens_seen, train_losses, valid_losses)"
   ]
  },
  {
   "cell_type": "markdown",
   "id": "941ea2a8",
   "metadata": {},
   "source": [
    "# 5. 文本生成的多样性"
   ]
  },
  {
   "cell_type": "code",
   "execution_count": 62,
   "id": "bd6a2108",
   "metadata": {},
   "outputs": [
    {
     "name": "stdout",
     "output_type": "stream",
     "text": [
      "output text: Every effort moves you know.\n",
      "\"I was a he was--I had a little to have to have to work, and to me to\n",
      "output text: Every effort moves you know.\n",
      "\"I was a he was--I had a little to have to have to work, and to me to\n",
      "output text: Every effort moves you know.\n",
      "\"I was a he was--I had a little to have to have to work, and to me to\n",
      "output text: Every effort moves you know.\n",
      "\"I was a he was--I had a little to have to have to work, and to me to\n",
      "output text: Every effort moves you know.\n",
      "\"I was a he was--I had a little to have to have to work, and to me to\n",
      "output text: Every effort moves you know.\n",
      "\"I was a he was--I had a little to have to have to work, and to me to\n",
      "output text: Every effort moves you know.\n",
      "\"I was a he was--I had a little to have to have to work, and to me to\n",
      "output text: Every effort moves you know.\n",
      "\"I was a he was--I had a little to have to have to work, and to me to\n",
      "output text: Every effort moves you know.\n",
      "\"I was a he was--I had a little to have to have to work, and to me to\n",
      "output text: Every effort moves you know.\n",
      "\"I was a he was--I had a little to have to have to work, and to me to\n"
     ]
    }
   ],
   "source": [
    "# 原有的文本生成策略是每次都会从词表中选择概率最大的那个token返回：\n",
    "model.to(\"cpu\")\n",
    "model.eval()\n",
    "\n",
    "tokenizer = tiktoken.get_encoding(\"gpt2\")\n",
    "for _ in range(10):\n",
    "    output_ids = generate_text_simple(\n",
    "        model=model,\n",
    "        indices=text_to_token_ids(\"Every effort moves you\", tokenizer=tokenizer),\n",
    "        max_new_tokens=25,\n",
    "        context_size=model_config[\"ctx_len\"]\n",
    "    )\n",
    "    output_text = token_ids_to_text(output_ids, tokenizer=tokenizer)\n",
    "    print(f\"output text: {output_text}\")"
   ]
  },
  {
   "cell_type": "markdown",
   "id": "bfa7b91d",
   "metadata": {},
   "source": [
    "如上所述，我们可以看到，对同一个上下文，重复生成的预测文本都是一样的。"
   ]
  },
  {
   "cell_type": "markdown",
   "id": "8156ebaf",
   "metadata": {},
   "source": [
    "## 5.1 可放回的多项式分布抽样\n",
    "\n",
    "为了增加生成文本的多样性，我们可以使用`torch.multinomial`函数从多项式分布中进行放回抽样。"
   ]
  },
  {
   "cell_type": "markdown",
   "id": "3cba5a51",
   "metadata": {},
   "source": [
    "首先，我们构造一个只有9个单词的小型词汇表："
   ]
  },
  {
   "cell_type": "code",
   "execution_count": 63,
   "id": "b8cad565",
   "metadata": {},
   "outputs": [],
   "source": [
    "vocab = { \n",
    "    \"closer\": 0,\n",
    "    \"every\": 1, \n",
    "    \"effort\": 2, \n",
    "    \"forward\": 3,\n",
    "    \"inches\": 4,\n",
    "    \"moves\": 5, \n",
    "    \"pizza\": 6,\n",
    "    \"toward\": 7,\n",
    "    \"you\": 8,\n",
    "} \n",
    "inversed_vocab = {v: k for k, v in vocab.items()}"
   ]
  },
  {
   "cell_type": "markdown",
   "id": "7447bbb3",
   "metadata": {},
   "source": [
    "现在，假设输入的文本是“Every effort moves you”，\n",
    "而模型返回的logits如下：\n"
   ]
  },
  {
   "cell_type": "code",
   "execution_count": 64,
   "id": "98f0e7ab",
   "metadata": {},
   "outputs": [],
   "source": [
    "logits = torch.tensor(\n",
    "    [4.51, 0.89, -1.90, 6.75, 1.63, -1.62, -1.89, 6.28, 1.79]\n",
    ")"
   ]
  },
  {
   "cell_type": "markdown",
   "id": "c7a114de",
   "metadata": {},
   "source": [
    "这时候我们使用softmax函数将上述logits转换为概率分布，如下所示："
   ]
  },
  {
   "cell_type": "code",
   "execution_count": 65,
   "id": "5700326d",
   "metadata": {},
   "outputs": [
    {
     "name": "stdout",
     "output_type": "stream",
     "text": [
      "next token: forward\n"
     ]
    }
   ],
   "source": [
    "probs = torch.softmax(logits, dim=0)\n",
    "next_token_id = torch.argmax(probs).item()\n",
    "next_token = inversed_vocab[next_token_id]\n",
    "print(f\"next token: {next_token}\")"
   ]
  },
  {
   "cell_type": "markdown",
   "id": "10feb63a",
   "metadata": {},
   "source": [
    "OK，这是之前的文本生成策略，现在，我们把`torch.argmax`改为`torch.multinomial`，以实现从概率分布中采样得到下一个token："
   ]
  },
  {
   "cell_type": "code",
   "execution_count": 66,
   "id": "98500751",
   "metadata": {},
   "outputs": [
    {
     "name": "stdout",
     "output_type": "stream",
     "text": [
      "next token:  forward\n"
     ]
    }
   ],
   "source": [
    "torch.manual_seed(123)\n",
    "next_token_id = torch.multinomial(probs, num_samples=1).item()\n",
    "print(\"next token: \", inversed_vocab[next_token_id])"
   ]
  },
  {
   "cell_type": "markdown",
   "id": "de5affb4",
   "metadata": {},
   "source": [
    "为了验证使用多项式分布采样来获取下一个token的随机性，我们可以使用`torch.bincount`方法来统计多次采样的结果："
   ]
  },
  {
   "cell_type": "code",
   "execution_count": 67,
   "id": "9943dbf5",
   "metadata": {},
   "outputs": [
    {
     "name": "stdout",
     "output_type": "stream",
     "text": [
      "closer: 73\n",
      "every: 0\n",
      "effort: 0\n",
      "forward: 581\n",
      "inches: 2\n",
      "moves: 0\n",
      "pizza: 0\n",
      "toward: 344\n"
     ]
    }
   ],
   "source": [
    "# 采样1000次：\n",
    "samples = [torch.multinomial(probs, num_samples=1).item() for _ in range(1000)]\n",
    "token_freqs = torch.bincount(torch.tensor(samples))\n",
    "for i, f in enumerate(token_freqs):\n",
    "    t = inversed_vocab[i]\n",
    "    print(f\"{t}: {f.item()}\")"
   ]
  },
  {
   "cell_type": "markdown",
   "id": "050eb3ae",
   "metadata": {},
   "source": [
    "所以，我们可以不再使用`torch.argmax`来避免每次生成同样的tokens，而是使用`torch.multinomial`来从概率分布中随机采样。"
   ]
  },
  {
   "cell_type": "markdown",
   "id": "08191ccc",
   "metadata": {},
   "source": [
    "## 5.2 温度缩放"
   ]
  },
  {
   "cell_type": "code",
   "execution_count": 68,
   "id": "d0d4a118",
   "metadata": {},
   "outputs": [],
   "source": [
    "def softmax_with_temperature(logits, temperature):\n",
    "    scaled_logits = logits / temperature\n",
    "    return torch.softmax(scaled_logits, dim=0)"
   ]
  },
  {
   "cell_type": "code",
   "execution_count": 69,
   "id": "ca024cad",
   "metadata": {},
   "outputs": [],
   "source": [
    "# 定义三个温度缩放因子以作比较：\n",
    "temperatures = [1, 0.1, 5]\n",
    "\n",
    "# 计算经过上述缩放因子缩放的概率分布：\n",
    "scaled_probs = [softmax_with_temperature(logits, t) for t in temperatures]\n",
    "# print(f\"scaled probs: \\n{scaled_probs}\")\n",
    "# print(f\"logits shape: {logits.shape}\")\n",
    "# print(f\"scaled_probs' shape: {scaled_probs.shape}\")"
   ]
  },
  {
   "cell_type": "markdown",
   "id": "af6458d9",
   "metadata": {},
   "source": [
    "接着，我们画出三个缩放因子下的概率分布："
   ]
  },
  {
   "cell_type": "code",
   "execution_count": 70,
   "id": "3501826d",
   "metadata": {},
   "outputs": [
    {
     "data": {
      "image/png": "[encoded data removed]",
      "text/plain": [
       "<Figure size 640x480 with 1 Axes>"
      ]
     },
     "metadata": {},
     "output_type": "display_data"
    }
   ],
   "source": [
    "# Plotting\n",
    "x = torch.arange(len(vocab))\n",
    "bar_width = 0.15\n",
    "\n",
    "fig, ax = plt.subplots()\n",
    "for i, T in enumerate(temperatures):\n",
    "    # 条形图的绘制，ax.bar()函数里面的参数分别为条形的x轴位置、高度、宽度、图例标签\n",
    "    rects = ax.bar(x + i * bar_width, scaled_probs[i], bar_width, label=f'Temperature = {T}')\n",
    "\n",
    "ax.set_ylabel('Probability')\n",
    "ax.set_xticks(x)\n",
    "ax.set_xticklabels(vocab.keys(), rotation=90)\n",
    "ax.legend()\n",
    "\n",
    "plt.tight_layout()\n",
    "# plt.savefig(\"temperature-plot.pdf\")\n",
    "plt.show()"
   ]
  },
  {
   "cell_type": "markdown",
   "id": "33c17a10",
   "metadata": {},
   "source": [
    "从上图可以看出，当缩放因子为1的时候，相当于没有进行缩放；而当缩放因子小于1的时候，会让这个概率分布变得更加集中；反之，当缩放因子大于1的时候，会让这个概率分布变得更加均匀。"
   ]
  },
  {
   "cell_type": "markdown",
   "id": "8c1c1db2",
   "metadata": {},
   "source": [
    "# 5.3 TopK采样"
   ]
  },
  {
   "cell_type": "markdown",
   "id": "48218e19",
   "metadata": {},
   "source": [
    "为了能够使得生成文本更具多样性，并降低无异议句子的出现概率，我们可以降采样的下一个token限制在最有可能出现的K个候选token中："
   ]
  },
  {
   "cell_type": "code",
   "execution_count": 71,
   "id": "327c68ac",
   "metadata": {},
   "outputs": [
    {
     "name": "stdout",
     "output_type": "stream",
     "text": [
      "top logits: tensor([6.7500, 6.2800, 4.5100])\n",
      "top positions: tensor([3, 7, 0])\n"
     ]
    }
   ],
   "source": [
    "topk = 3\n",
    "top_logits, top_pos = torch.topk(logits, topk)\n",
    "print(f\"top logits: {top_logits}\")\n",
    "print(f\"top positions: {top_pos}\")"
   ]
  },
  {
   "cell_type": "markdown",
   "id": "16caec13",
   "metadata": {},
   "source": [
    "接着，我们可以构造一个类似mask-attention那样的掩码矩阵，用来屏蔽不在K个候选token集合中的其他token："
   ]
  },
  {
   "cell_type": "code",
   "execution_count": 72,
   "id": "709d3782",
   "metadata": {},
   "outputs": [
    {
     "name": "stdout",
     "output_type": "stream",
     "text": [
      "tensor([4.5100,   -inf,   -inf, 6.7500,   -inf,   -inf,   -inf, 6.2800,   -inf])\n"
     ]
    }
   ],
   "source": [
    "masked_logits = torch.where(\n",
    "    condition=logits < top_logits[-1],\n",
    "    input=torch.tensor(float(\"-inf\")),  # 用来填充不在K个候选token对应的logits元素\n",
    "    other=logits,  # 其余元素保持不变\n",
    ")\n",
    "print(masked_logits)"
   ]
  },
  {
   "cell_type": "markdown",
   "id": "4ab78523",
   "metadata": {},
   "source": [
    "最后，继续使用softmax函数将masked_logits转换为概率分布："
   ]
  },
  {
   "cell_type": "code",
   "execution_count": 73,
   "id": "59a37a68",
   "metadata": {},
   "outputs": [
    {
     "name": "stdout",
     "output_type": "stream",
     "text": [
      "tensor([0.0615, 0.0000, 0.0000, 0.5775, 0.0000, 0.0000, 0.0000, 0.3610, 0.0000])\n"
     ]
    }
   ],
   "source": [
    "topk_probs = torch.softmax(masked_logits, dim=0)\n",
    "print(topk_probs)"
   ]
  },
  {
   "cell_type": "markdown",
   "id": "0a9f08e0",
   "metadata": {},
   "source": [
    "# 5.4 包含温度缩放以及TopK采样的文本生成策略"
   ]
  },
  {
   "cell_type": "code",
   "execution_count": 17,
   "id": "c93da20b",
   "metadata": {},
   "outputs": [],
   "source": [
    "def generate(model, idx, max_new_tokens, context_size, temperature, top_k=None):\n",
    "\n",
    "    # 循环与之前相同：获取logits，并仅关注最后一步。\n",
    "    for _ in range(max_new_tokens):\n",
    "        idx_cond = idx[:, -context_size:]\n",
    "        with torch.no_grad():\n",
    "            logits = model(idx_cond)\n",
    "        logits = logits[:, -1, :]\n",
    "\n",
    "        # 使用top_k采样对logits值进行过滤\n",
    "        if top_k is not None:\n",
    "            # 仅保留top_k的值\n",
    "            top_logits, _ = torch.topk(logits, top_k)\n",
    "            min_val = top_logits[:, -1]\n",
    "            logits = torch.where(logits < min_val, torch.tensor(float('-inf')).to(logits.device), logits)\n",
    "\n",
    "        # 使用温度缩放\n",
    "        if temperature > 0.0:\n",
    "            logits = logits / temperature\n",
    "\n",
    "            # 使用softmax函数得到概率\n",
    "            probs = torch.softmax(logits, dim=-1)  # (batch_size, context_len)\n",
    "\n",
    "            # 从概率分布中采样\n",
    "            idx_next = torch.multinomial(probs, num_samples=1)  # (batch_size, 1)\n",
    "\n",
    "        # 否则和之前的generate_simple函数中的处理相同，使用argmax函数取得概率最大的token\n",
    "        else:\n",
    "            idx_next = torch.argmax(logits, dim=-1, keepdim=True)  # (batch_size, 1)\n",
    "\n",
    "        # 和之前相同的序列拼接处理\n",
    "        idx = torch.cat((idx, idx_next), dim=1)  # (batch_size, num_tokens+1)\n",
    "\n",
    "    return idx"
   ]
  },
  {
   "cell_type": "code",
   "execution_count": 75,
   "id": "b8decae5",
   "metadata": {},
   "outputs": [
    {
     "name": "stdout",
     "output_type": "stream",
     "text": [
      "Output text:\n",
      " Every effort moves you in to Gisburn. It--because he had the by his! I was: \"I\n",
      "Output text:\n",
      " Every effort moves you know to my way that my, in the to the so with a. And it was his painting\n",
      "Output text:\n",
      " Every effort moves you in the's up that, Mrs. The with't\n",
      "\"I must up and that he was\n",
      "Output text:\n",
      " Every effort moves you of that, and-rooms, of the with the- with that one of her own--and\n",
      "Output text:\n",
      " Every effort moves you?\"\n",
      "\n",
      "\".\n",
      "He he was with a and I felt of a and in him--\n",
      "Output text:\n",
      " Every effort moves you, it to to my, and he was--, it. Gisburn in him my work\n",
      "Output text:\n",
      " Every effort moves you, one of his pictures--, of a he't-hum, in him--as he was\n",
      "Output text:\n",
      " Every effort moves you?\"\n",
      "\n",
      "\n",
      "\n",
      "I felt him--'s an of the me in an and in the fact\n",
      "Output text:\n",
      " Every effort moves you, he to to my dear his he had a his of the that in a flash it the--\n",
      "Output text:\n",
      " Every effort moves you, with him, and in one of the he had with the fact of--because he was no\n"
     ]
    }
   ],
   "source": [
    "# 测试一波使用心得生成策略的文本生成函数：\n",
    "torch.manual_seed(123)\n",
    "\n",
    "for _ in range(10):\n",
    "    token_ids = generate(\n",
    "        model=model,\n",
    "        idx=text_to_token_ids(\"Every effort moves you\", tokenizer),\n",
    "        max_new_tokens=20,\n",
    "        context_size=model_config[\"ctx_len\"],\n",
    "        top_k=10,\n",
    "        temperature=1.5\n",
    "    )\n",
    "\n",
    "    print(\"Output text:\\n\", token_ids_to_text(token_ids, tokenizer))"
   ]
  },
  {
   "cell_type": "markdown",
   "id": "8e4eb0ae",
   "metadata": {},
   "source": [
    "可以看到，每次生成的文本都已经不再是相同的了。"
   ]
  },
  {
   "cell_type": "markdown",
   "id": "9615581f",
   "metadata": {},
   "source": [
    "# 6. 使用`PyTorch`保存和加载模型"
   ]
  },
  {
   "cell_type": "markdown",
   "id": "52ed30d6",
   "metadata": {},
   "source": [
    "## 6.1 保存模型以及优化器"
   ]
  },
  {
   "cell_type": "code",
   "execution_count": 76,
   "id": "22063e64",
   "metadata": {},
   "outputs": [],
   "source": [
    "torch.save(\n",
    "    obj={\n",
    "        \"model_state_dict\": model.state_dict(),\n",
    "        \"optimizer_state_dict\": optimizer.state_dict()\n",
    "    },\n",
    "    f=\"gpt2_small_and_adamw.pth\"\n",
    ")"
   ]
  },
  {
   "cell_type": "markdown",
   "id": "f93ffa8d",
   "metadata": {},
   "source": [
    "## 6.2 加载模型"
   ]
  },
  {
   "cell_type": "code",
   "execution_count": 78,
   "id": "a6e0fdbc",
   "metadata": {},
   "outputs": [
    {
     "data": {
      "text/plain": [
       "GPT2Small(\n",
       "  (tok_emb): Embedding(50257, 768)\n",
       "  (pos_emb): Embedding(256, 768)\n",
       "  (decoder): Sequential(\n",
       "    (0): TransformerDecoderOnly(\n",
       "      (drop): Dropout(p=0.1, inplace=False)\n",
       "      (norm1): LayerNorm((768,), eps=1e-05, elementwise_affine=True)\n",
       "      (mha): MultiHeadAttention(\n",
       "        (wq): Linear(in_features=768, out_features=768, bias=False)\n",
       "        (wk): Linear(in_features=768, out_features=768, bias=False)\n",
       "        (wv): Linear(in_features=768, out_features=768, bias=False)\n",
       "        (dropout): Dropout(p=0.1, inplace=False)\n",
       "        (out_proj): Linear(in_features=768, out_features=768, bias=True)\n",
       "      )\n",
       "      (norm2): LayerNorm((768,), eps=1e-05, elementwise_affine=True)\n",
       "      (ffn): FeedForward(\n",
       "        (layers): Sequential(\n",
       "          (0): Linear(in_features=768, out_features=3072, bias=True)\n",
       "          (1): GELU()\n",
       "          (2): Linear(in_features=3072, out_features=768, bias=True)\n",
       "          (3): Dropout(p=0.1, inplace=False)\n",
       "        )\n",
       "      )\n",
       "    )\n",
       "    (1): TransformerDecoderOnly(\n",
       "      (drop): Dropout(p=0.1, inplace=False)\n",
       "      (norm1): LayerNorm((768,), eps=1e-05, elementwise_affine=True)\n",
       "      (mha): MultiHeadAttention(\n",
       "        (wq): Linear(in_features=768, out_features=768, bias=False)\n",
       "        (wk): Linear(in_features=768, out_features=768, bias=False)\n",
       "        (wv): Linear(in_features=768, out_features=768, bias=False)\n",
       "        (dropout): Dropout(p=0.1, inplace=False)\n",
       "        (out_proj): Linear(in_features=768, out_features=768, bias=True)\n",
       "      )\n",
       "      (norm2): LayerNorm((768,), eps=1e-05, elementwise_affine=True)\n",
       "      (ffn): FeedForward(\n",
       "        (layers): Sequential(\n",
       "          (0): Linear(in_features=768, out_features=3072, bias=True)\n",
       "          (1): GELU()\n",
       "          (2): Linear(in_features=3072, out_features=768, bias=True)\n",
       "          (3): Dropout(p=0.1, inplace=False)\n",
       "        )\n",
       "      )\n",
       "    )\n",
       "    (2): TransformerDecoderOnly(\n",
       "      (drop): Dropout(p=0.1, inplace=False)\n",
       "      (norm1): LayerNorm((768,), eps=1e-05, elementwise_affine=True)\n",
       "      (mha): MultiHeadAttention(\n",
       "        (wq): Linear(in_features=768, out_features=768, bias=False)\n",
       "        (wk): Linear(in_features=768, out_features=768, bias=False)\n",
       "        (wv): Linear(in_features=768, out_features=768, bias=False)\n",
       "        (dropout): Dropout(p=0.1, inplace=False)\n",
       "        (out_proj): Linear(in_features=768, out_features=768, bias=True)\n",
       "      )\n",
       "      (norm2): LayerNorm((768,), eps=1e-05, elementwise_affine=True)\n",
       "      (ffn): FeedForward(\n",
       "        (layers): Sequential(\n",
       "          (0): Linear(in_features=768, out_features=3072, bias=True)\n",
       "          (1): GELU()\n",
       "          (2): Linear(in_features=3072, out_features=768, bias=True)\n",
       "          (3): Dropout(p=0.1, inplace=False)\n",
       "        )\n",
       "      )\n",
       "    )\n",
       "    (3): TransformerDecoderOnly(\n",
       "      (drop): Dropout(p=0.1, inplace=False)\n",
       "      (norm1): LayerNorm((768,), eps=1e-05, elementwise_affine=True)\n",
       "      (mha): MultiHeadAttention(\n",
       "        (wq): Linear(in_features=768, out_features=768, bias=False)\n",
       "        (wk): Linear(in_features=768, out_features=768, bias=False)\n",
       "        (wv): Linear(in_features=768, out_features=768, bias=False)\n",
       "        (dropout): Dropout(p=0.1, inplace=False)\n",
       "        (out_proj): Linear(in_features=768, out_features=768, bias=True)\n",
       "      )\n",
       "      (norm2): LayerNorm((768,), eps=1e-05, elementwise_affine=True)\n",
       "      (ffn): FeedForward(\n",
       "        (layers): Sequential(\n",
       "          (0): Linear(in_features=768, out_features=3072, bias=True)\n",
       "          (1): GELU()\n",
       "          (2): Linear(in_features=3072, out_features=768, bias=True)\n",
       "          (3): Dropout(p=0.1, inplace=False)\n",
       "        )\n",
       "      )\n",
       "    )\n",
       "    (4): TransformerDecoderOnly(\n",
       "      (drop): Dropout(p=0.1, inplace=False)\n",
       "      (norm1): LayerNorm((768,), eps=1e-05, elementwise_affine=True)\n",
       "      (mha): MultiHeadAttention(\n",
       "        (wq): Linear(in_features=768, out_features=768, bias=False)\n",
       "        (wk): Linear(in_features=768, out_features=768, bias=False)\n",
       "        (wv): Linear(in_features=768, out_features=768, bias=False)\n",
       "        (dropout): Dropout(p=0.1, inplace=False)\n",
       "        (out_proj): Linear(in_features=768, out_features=768, bias=True)\n",
       "      )\n",
       "      (norm2): LayerNorm((768,), eps=1e-05, elementwise_affine=True)\n",
       "      (ffn): FeedForward(\n",
       "        (layers): Sequential(\n",
       "          (0): Linear(in_features=768, out_features=3072, bias=True)\n",
       "          (1): GELU()\n",
       "          (2): Linear(in_features=3072, out_features=768, bias=True)\n",
       "          (3): Dropout(p=0.1, inplace=False)\n",
       "        )\n",
       "      )\n",
       "    )\n",
       "    (5): TransformerDecoderOnly(\n",
       "      (drop): Dropout(p=0.1, inplace=False)\n",
       "      (norm1): LayerNorm((768,), eps=1e-05, elementwise_affine=True)\n",
       "      (mha): MultiHeadAttention(\n",
       "        (wq): Linear(in_features=768, out_features=768, bias=False)\n",
       "        (wk): Linear(in_features=768, out_features=768, bias=False)\n",
       "        (wv): Linear(in_features=768, out_features=768, bias=False)\n",
       "        (dropout): Dropout(p=0.1, inplace=False)\n",
       "        (out_proj): Linear(in_features=768, out_features=768, bias=True)\n",
       "      )\n",
       "      (norm2): LayerNorm((768,), eps=1e-05, elementwise_affine=True)\n",
       "      (ffn): FeedForward(\n",
       "        (layers): Sequential(\n",
       "          (0): Linear(in_features=768, out_features=3072, bias=True)\n",
       "          (1): GELU()\n",
       "          (2): Linear(in_features=3072, out_features=768, bias=True)\n",
       "          (3): Dropout(p=0.1, inplace=False)\n",
       "        )\n",
       "      )\n",
       "    )\n",
       "    (6): TransformerDecoderOnly(\n",
       "      (drop): Dropout(p=0.1, inplace=False)\n",
       "      (norm1): LayerNorm((768,), eps=1e-05, elementwise_affine=True)\n",
       "      (mha): MultiHeadAttention(\n",
       "        (wq): Linear(in_features=768, out_features=768, bias=False)\n",
       "        (wk): Linear(in_features=768, out_features=768, bias=False)\n",
       "        (wv): Linear(in_features=768, out_features=768, bias=False)\n",
       "        (dropout): Dropout(p=0.1, inplace=False)\n",
       "        (out_proj): Linear(in_features=768, out_features=768, bias=True)\n",
       "      )\n",
       "      (norm2): LayerNorm((768,), eps=1e-05, elementwise_affine=True)\n",
       "      (ffn): FeedForward(\n",
       "        (layers): Sequential(\n",
       "          (0): Linear(in_features=768, out_features=3072, bias=True)\n",
       "          (1): GELU()\n",
       "          (2): Linear(in_features=3072, out_features=768, bias=True)\n",
       "          (3): Dropout(p=0.1, inplace=False)\n",
       "        )\n",
       "      )\n",
       "    )\n",
       "    (7): TransformerDecoderOnly(\n",
       "      (drop): Dropout(p=0.1, inplace=False)\n",
       "      (norm1): LayerNorm((768,), eps=1e-05, elementwise_affine=True)\n",
       "      (mha): MultiHeadAttention(\n",
       "        (wq): Linear(in_features=768, out_features=768, bias=False)\n",
       "        (wk): Linear(in_features=768, out_features=768, bias=False)\n",
       "        (wv): Linear(in_features=768, out_features=768, bias=False)\n",
       "        (dropout): Dropout(p=0.1, inplace=False)\n",
       "        (out_proj): Linear(in_features=768, out_features=768, bias=True)\n",
       "      )\n",
       "      (norm2): LayerNorm((768,), eps=1e-05, elementwise_affine=True)\n",
       "      (ffn): FeedForward(\n",
       "        (layers): Sequential(\n",
       "          (0): Linear(in_features=768, out_features=3072, bias=True)\n",
       "          (1): GELU()\n",
       "          (2): Linear(in_features=3072, out_features=768, bias=True)\n",
       "          (3): Dropout(p=0.1, inplace=False)\n",
       "        )\n",
       "      )\n",
       "    )\n",
       "    (8): TransformerDecoderOnly(\n",
       "      (drop): Dropout(p=0.1, inplace=False)\n",
       "      (norm1): LayerNorm((768,), eps=1e-05, elementwise_affine=True)\n",
       "      (mha): MultiHeadAttention(\n",
       "        (wq): Linear(in_features=768, out_features=768, bias=False)\n",
       "        (wk): Linear(in_features=768, out_features=768, bias=False)\n",
       "        (wv): Linear(in_features=768, out_features=768, bias=False)\n",
       "        (dropout): Dropout(p=0.1, inplace=False)\n",
       "        (out_proj): Linear(in_features=768, out_features=768, bias=True)\n",
       "      )\n",
       "      (norm2): LayerNorm((768,), eps=1e-05, elementwise_affine=True)\n",
       "      (ffn): FeedForward(\n",
       "        (layers): Sequential(\n",
       "          (0): Linear(in_features=768, out_features=3072, bias=True)\n",
       "          (1): GELU()\n",
       "          (2): Linear(in_features=3072, out_features=768, bias=True)\n",
       "          (3): Dropout(p=0.1, inplace=False)\n",
       "        )\n",
       "      )\n",
       "    )\n",
       "    (9): TransformerDecoderOnly(\n",
       "      (drop): Dropout(p=0.1, inplace=False)\n",
       "      (norm1): LayerNorm((768,), eps=1e-05, elementwise_affine=True)\n",
       "      (mha): MultiHeadAttention(\n",
       "        (wq): Linear(in_features=768, out_features=768, bias=False)\n",
       "        (wk): Linear(in_features=768, out_features=768, bias=False)\n",
       "        (wv): Linear(in_features=768, out_features=768, bias=False)\n",
       "        (dropout): Dropout(p=0.1, inplace=False)\n",
       "        (out_proj): Linear(in_features=768, out_features=768, bias=True)\n",
       "      )\n",
       "      (norm2): LayerNorm((768,), eps=1e-05, elementwise_affine=True)\n",
       "      (ffn): FeedForward(\n",
       "        (layers): Sequential(\n",
       "          (0): Linear(in_features=768, out_features=3072, bias=True)\n",
       "          (1): GELU()\n",
       "          (2): Linear(in_features=3072, out_features=768, bias=True)\n",
       "          (3): Dropout(p=0.1, inplace=False)\n",
       "        )\n",
       "      )\n",
       "    )\n",
       "    (10): TransformerDecoderOnly(\n",
       "      (drop): Dropout(p=0.1, inplace=False)\n",
       "      (norm1): LayerNorm((768,), eps=1e-05, elementwise_affine=True)\n",
       "      (mha): MultiHeadAttention(\n",
       "        (wq): Linear(in_features=768, out_features=768, bias=False)\n",
       "        (wk): Linear(in_features=768, out_features=768, bias=False)\n",
       "        (wv): Linear(in_features=768, out_features=768, bias=False)\n",
       "        (dropout): Dropout(p=0.1, inplace=False)\n",
       "        (out_proj): Linear(in_features=768, out_features=768, bias=True)\n",
       "      )\n",
       "      (norm2): LayerNorm((768,), eps=1e-05, elementwise_affine=True)\n",
       "      (ffn): FeedForward(\n",
       "        (layers): Sequential(\n",
       "          (0): Linear(in_features=768, out_features=3072, bias=True)\n",
       "          (1): GELU()\n",
       "          (2): Linear(in_features=3072, out_features=768, bias=True)\n",
       "          (3): Dropout(p=0.1, inplace=False)\n",
       "        )\n",
       "      )\n",
       "    )\n",
       "    (11): TransformerDecoderOnly(\n",
       "      (drop): Dropout(p=0.1, inplace=False)\n",
       "      (norm1): LayerNorm((768,), eps=1e-05, elementwise_affine=True)\n",
       "      (mha): MultiHeadAttention(\n",
       "        (wq): Linear(in_features=768, out_features=768, bias=False)\n",
       "        (wk): Linear(in_features=768, out_features=768, bias=False)\n",
       "        (wv): Linear(in_features=768, out_features=768, bias=False)\n",
       "        (dropout): Dropout(p=0.1, inplace=False)\n",
       "        (out_proj): Linear(in_features=768, out_features=768, bias=True)\n",
       "      )\n",
       "      (norm2): LayerNorm((768,), eps=1e-05, elementwise_affine=True)\n",
       "      (ffn): FeedForward(\n",
       "        (layers): Sequential(\n",
       "          (0): Linear(in_features=768, out_features=3072, bias=True)\n",
       "          (1): GELU()\n",
       "          (2): Linear(in_features=3072, out_features=768, bias=True)\n",
       "          (3): Dropout(p=0.1, inplace=False)\n",
       "        )\n",
       "      )\n",
       "    )\n",
       "  )\n",
       "  (norm): LayerNorm()\n",
       "  (out): Linear(in_features=768, out_features=50257, bias=False)\n",
       ")"
      ]
     },
     "execution_count": 78,
     "metadata": {},
     "output_type": "execute_result"
    }
   ],
   "source": [
    "ckpt = torch.load(\"gpt2_small_and_adamw.pth\")\n",
    "\n",
    "model = GPT2Small(\n",
    "    vocab_size=model_config[\"vocab_size\"],\n",
    "    ctx_len=model_config[\"ctx_len\"],\n",
    "    emb_dim=model_config[\"emb_dim\"],\n",
    "    n_heads=model_config[\"n_heads\"],\n",
    "    n_layers=model_config[\"n_layers\"],\n",
    "    dropout_rate=model_config[\"dropout_rate\"],\n",
    "    with_bias=model_config[\"with_bias\"],\n",
    "    with_mask=model_config[\"with_mask\"]\n",
    ")\n",
    "model.load_state_dict(ckpt[\"model_state_dict\"])\n",
    "optimizer = torch.optim.AdamW(model.parameters(), lr=5e-4, weight_decay=0.1)\n",
    "optimizer.load_state_dict(ckpt[\"optimizer_state_dict\"])\n",
    "model.train()"
   ]
  },
  {
   "cell_type": "markdown",
   "id": "34552f8f",
   "metadata": {},
   "source": [
    "# 7. 从OpenAI加载预训练权重"
   ]
  },
  {
   "cell_type": "markdown",
   "id": "dc6159d2",
   "metadata": {},
   "source": [
    "## 7.1 下载预训练权重"
   ]
  },
  {
   "cell_type": "markdown",
   "id": "21b95618",
   "metadata": {},
   "source": [
    "在运行随书代码的时候我们已经下载过模型权重了，\n",
    "所以这时候并不需要重新下载，只需要重用之前的权重即可。\n"
   ]
  },
  {
   "cell_type": "code",
   "execution_count": 2,
   "id": "af069b81",
   "metadata": {},
   "outputs": [
    {
     "name": "stdout",
     "output_type": "stream",
     "text": [
      "model path: /Users/eassi/ws/py/llms-from-scratch-cn/Codes/ch05/01_main-chapter-code/gpt2/124M\n",
      "model path exists: True\n"
     ]
    }
   ],
   "source": [
    "import os\n",
    "\n",
    "models_dir = \"gpt2\"\n",
    "model_size = \"124M\"\n",
    "model_path = os.path.abspath(\n",
    "    os.path.join(\n",
    "        \"../\",\n",
    "        \"../\",\n",
    "        \"Codes\",\n",
    "        \"ch05\",\n",
    "        \"01_main-chapter-code\",\n",
    "        models_dir,\n",
    "        model_size\n",
    "    )\n",
    ")\n",
    "print(f\"model path: {model_path}\")\n",
    "print(f\"model path exists: {os.path.exists(model_path)}\")\n",
    "\n"
   ]
  },
  {
   "cell_type": "code",
   "execution_count": 3,
   "id": "af57af6f",
   "metadata": {},
   "outputs": [],
   "source": [
    "import json\n",
    "\n",
    "import tensorflow as tf\n",
    "\n",
    "from gpt_download import load_gpt2_params_from_tf_ckpt\n",
    "\n",
    "tf_ckpt_path = tf.train.latest_checkpoint(model_path)\n",
    "hparams = json.load(open(os.path.join(model_path, \"hparams.json\")))\n",
    "params = load_gpt2_params_from_tf_ckpt(tf_ckpt_path, hparams)"
   ]
  },
  {
   "cell_type": "code",
   "execution_count": 4,
   "id": "9a02b3d0",
   "metadata": {},
   "outputs": [
    {
     "name": "stdout",
     "output_type": "stream",
     "text": [
      "settings: {'n_vocab': 50257, 'n_ctx': 1024, 'n_embd': 768, 'n_head': 12, 'n_layer': 12}\n"
     ]
    }
   ],
   "source": [
    "print(f\"settings: {hparams}\")"
   ]
  },
  {
   "cell_type": "code",
   "execution_count": 5,
   "id": "c89d842c",
   "metadata": {},
   "outputs": [
    {
     "name": "stdout",
     "output_type": "stream",
     "text": [
      "parameter dictionary keys: dict_keys(['blocks', 'b', 'g', 'wpe', 'wte'])\n"
     ]
    }
   ],
   "source": [
    "print(f\"parameter dictionary keys: {params.keys()}\")"
   ]
  },
  {
   "cell_type": "markdown",
   "id": "7bdc6e6e",
   "metadata": {},
   "source": [
    "## 7.2 设置实例化GPT2Small模型所需的配置"
   ]
  },
  {
   "cell_type": "code",
   "execution_count": 6,
   "id": "c38fb39d",
   "metadata": {},
   "outputs": [
    {
     "name": "stdout",
     "output_type": "stream",
     "text": [
      "{'ctx_len': 1024,\n",
      " 'dropout_rate': 0.1,\n",
      " 'emb_dim': 768,\n",
      " 'n_heads': 12,\n",
      " 'n_layers': 12,\n",
      " 'vocab_size': 50257,\n",
      " 'with_bias': True,\n",
      " 'with_mask': True}\n"
     ]
    }
   ],
   "source": [
    "model_config = hparams.copy()\n",
    "\n",
    "# 先确认一下模型初始化的参数长什么样：\n",
    "# help(GPT2Small)\n",
    "\n",
    "model_config = {\n",
    "    \"vocab_size\": hparams[\"n_vocab\"],\n",
    "    \"ctx_len\": hparams[\"n_ctx\"],\n",
    "    \"emb_dim\": hparams[\"n_embd\"],\n",
    "    \"n_heads\": hparams[\"n_head\"],\n",
    "    \"n_layers\": hparams[\"n_layer\"],\n",
    "    \"dropout_rate\": 0.1, # todo: 需要再确认\n",
    "    \"with_bias\": True,\n",
    "    \"with_mask\": True\n",
    "}\n",
    "from pprint import pprint\n",
    "pprint(model_config)"
   ]
  },
  {
   "cell_type": "markdown",
   "id": "7b6a5a5f",
   "metadata": {},
   "source": [
    "## 7.3 加载模型权重"
   ]
  },
  {
   "cell_type": "code",
   "execution_count": 11,
   "id": "d7b76e01",
   "metadata": {},
   "outputs": [],
   "source": [
    "import numpy as np\n",
    "\n",
    "\n",
    "def assign(left, right):\n",
    "    if left.shape != right.shape:\n",
    "        raise ValueError(f\"Shape mismatch. Left: {left.shape}, Right: {right.shape}\")\n",
    "    return torch.nn.Parameter(torch.tensor(right))\n",
    "\n",
    "\n",
    "def load_weights_into_gpt(gpt2, params):\n",
    "    # Weight tying\n",
    "    gpt2.pos_emb.weight = assign(gpt2.pos_emb.weight, params['wpe'])\n",
    "    gpt2.tok_emb.weight = assign(gpt2.tok_emb.weight, params['wte'])\n",
    "    \n",
    "    for b in range(len(params[\"blocks\"])):\n",
    "        wq, wk, wv = np.split((params[\"blocks\"][b][\"attn\"][\"c_attn\"])[\"w\"], 3, axis=-1)\n",
    "        gpt2.decoder[b].mha.wq.weight = assign(gpt2.decoder[b].mha.wq.weight, wq.T)\n",
    "        gpt2.decoder[b].mha.wk.weight = assign(gpt2.decoder[b].mha.wk.weight, wk.T)\n",
    "        gpt2.decoder[b].mha.wv.weight = assign(gpt2.decoder[b].mha.wv.weight, wv.T)\n",
    "    \n",
    "        q_b, k_b, v_b = np.split((params[\"blocks\"][b][\"attn\"][\"c_attn\"])[\"b\"], 3, axis=-1)\n",
    "        gpt2.decoder[b].mha.wq.bias = assign(gpt2.decoder[b].mha.wq.bias, q_b)\n",
    "        gpt2.decoder[b].mha.wk.bias = assign(gpt2.decoder[b].mha.wk.bias, k_b)\n",
    "        gpt2.decoder[b].mha.wv.bias = assign(gpt2.decoder[b].mha.wv.bias, v_b)\n",
    "    \n",
    "        gpt2.decoder[b].mha.out_proj.weight = assign(gpt2.decoder[b].mha.out_proj.weight, params[\"blocks\"][b][\"attn\"][\"c_proj\"][\"w\"].T)\n",
    "        gpt2.decoder[b].mha.out_proj.bias = assign(gpt2.decoder[b].mha.out_proj.bias, params[\"blocks\"][b][\"attn\"][\"c_proj\"][\"b\"])\n",
    "    \n",
    "        gpt2.decoder[b].ffn.layers[0].weight = assign(gpt2.decoder[b].ffn.layers[0].weight, params[\"blocks\"][b][\"mlp\"][\"c_fc\"][\"w\"].T)\n",
    "        gpt2.decoder[b].ffn.layers[0].bias = assign(gpt2.decoder[b].ffn.layers[0].bias, params[\"blocks\"][b][\"mlp\"][\"c_fc\"][\"b\"])\n",
    "        gpt2.decoder[b].ffn.layers[2].weight = assign(gpt2.decoder[b].ffn.layers[2].weight, params[\"blocks\"][b][\"mlp\"][\"c_proj\"][\"w\"].T)\n",
    "        gpt2.decoder[b].ffn.layers[2].bias = assign(gpt2.decoder[b].ffn.layers[2].bias, params[\"blocks\"][b][\"mlp\"][\"c_proj\"][\"b\"])\n",
    "    \n",
    "        gpt2.decoder[b].norm1.scale = assign(gpt2.decoder[b].norm1.scale, params[\"blocks\"][b][\"ln_1\"][\"g\"])\n",
    "        gpt2.decoder[b].norm1.shift = assign(gpt2.decoder[b].norm1.shift, params[\"blocks\"][b][\"ln_1\"][\"b\"])\n",
    "        gpt2.decoder[b].norm2.scale = assign(gpt2.decoder[b].norm2.scale, params[\"blocks\"][b][\"ln_2\"][\"g\"])\n",
    "        gpt2.decoder[b].norm2.shift = assign(gpt2.decoder[b].norm2.shift, params[\"blocks\"][b][\"ln_2\"][\"b\"])\n",
    "    \n",
    "        gpt2.norm.scale = assign(gpt2.norm.scale, params[\"g\"])\n",
    "        gpt2.norm.shift = assign(gpt2.norm.shift, params[\"b\"])\n",
    "        gpt2.out.weight = assign(gpt2.out.weight, params[\"wte\"])"
   ]
  },
  {
   "cell_type": "markdown",
   "id": "ee1daaa5",
   "metadata": {},
   "source": [
    "OK，现在可以实例化模型并加载权重了！"
   ]
  },
  {
   "cell_type": "code",
   "execution_count": 14,
   "id": "8b40e9a4",
   "metadata": {},
   "outputs": [
    {
     "data": {
      "text/plain": [
       "GPT2Small(\n",
       "  (tok_emb): Embedding(50257, 768)\n",
       "  (pos_emb): Embedding(1024, 768)\n",
       "  (decoder): Sequential(\n",
       "    (0): TransformerDecoderOnly(\n",
       "      (drop): Dropout(p=0.1, inplace=False)\n",
       "      (norm1): LayerNorm()\n",
       "      (mha): MultiHeadAttention(\n",
       "        (wq): Linear(in_features=768, out_features=768, bias=True)\n",
       "        (wk): Linear(in_features=768, out_features=768, bias=True)\n",
       "        (wv): Linear(in_features=768, out_features=768, bias=True)\n",
       "        (dropout): Dropout(p=0.1, inplace=False)\n",
       "        (out_proj): Linear(in_features=768, out_features=768, bias=True)\n",
       "      )\n",
       "      (norm2): LayerNorm()\n",
       "      (ffn): FeedForward(\n",
       "        (layers): Sequential(\n",
       "          (0): Linear(in_features=768, out_features=3072, bias=True)\n",
       "          (1): GELU()\n",
       "          (2): Linear(in_features=3072, out_features=768, bias=True)\n",
       "          (3): Dropout(p=0.1, inplace=False)\n",
       "        )\n",
       "      )\n",
       "    )\n",
       "    (1): TransformerDecoderOnly(\n",
       "      (drop): Dropout(p=0.1, inplace=False)\n",
       "      (norm1): LayerNorm()\n",
       "      (mha): MultiHeadAttention(\n",
       "        (wq): Linear(in_features=768, out_features=768, bias=True)\n",
       "        (wk): Linear(in_features=768, out_features=768, bias=True)\n",
       "        (wv): Linear(in_features=768, out_features=768, bias=True)\n",
       "        (dropout): Dropout(p=0.1, inplace=False)\n",
       "        (out_proj): Linear(in_features=768, out_features=768, bias=True)\n",
       "      )\n",
       "      (norm2): LayerNorm()\n",
       "      (ffn): FeedForward(\n",
       "        (layers): Sequential(\n",
       "          (0): Linear(in_features=768, out_features=3072, bias=True)\n",
       "          (1): GELU()\n",
       "          (2): Linear(in_features=3072, out_features=768, bias=True)\n",
       "          (3): Dropout(p=0.1, inplace=False)\n",
       "        )\n",
       "      )\n",
       "    )\n",
       "    (2): TransformerDecoderOnly(\n",
       "      (drop): Dropout(p=0.1, inplace=False)\n",
       "      (norm1): LayerNorm()\n",
       "      (mha): MultiHeadAttention(\n",
       "        (wq): Linear(in_features=768, out_features=768, bias=True)\n",
       "        (wk): Linear(in_features=768, out_features=768, bias=True)\n",
       "        (wv): Linear(in_features=768, out_features=768, bias=True)\n",
       "        (dropout): Dropout(p=0.1, inplace=False)\n",
       "        (out_proj): Linear(in_features=768, out_features=768, bias=True)\n",
       "      )\n",
       "      (norm2): LayerNorm()\n",
       "      (ffn): FeedForward(\n",
       "        (layers): Sequential(\n",
       "          (0): Linear(in_features=768, out_features=3072, bias=True)\n",
       "          (1): GELU()\n",
       "          (2): Linear(in_features=3072, out_features=768, bias=True)\n",
       "          (3): Dropout(p=0.1, inplace=False)\n",
       "        )\n",
       "      )\n",
       "    )\n",
       "    (3): TransformerDecoderOnly(\n",
       "      (drop): Dropout(p=0.1, inplace=False)\n",
       "      (norm1): LayerNorm()\n",
       "      (mha): MultiHeadAttention(\n",
       "        (wq): Linear(in_features=768, out_features=768, bias=True)\n",
       "        (wk): Linear(in_features=768, out_features=768, bias=True)\n",
       "        (wv): Linear(in_features=768, out_features=768, bias=True)\n",
       "        (dropout): Dropout(p=0.1, inplace=False)\n",
       "        (out_proj): Linear(in_features=768, out_features=768, bias=True)\n",
       "      )\n",
       "      (norm2): LayerNorm()\n",
       "      (ffn): FeedForward(\n",
       "        (layers): Sequential(\n",
       "          (0): Linear(in_features=768, out_features=3072, bias=True)\n",
       "          (1): GELU()\n",
       "          (2): Linear(in_features=3072, out_features=768, bias=True)\n",
       "          (3): Dropout(p=0.1, inplace=False)\n",
       "        )\n",
       "      )\n",
       "    )\n",
       "    (4): TransformerDecoderOnly(\n",
       "      (drop): Dropout(p=0.1, inplace=False)\n",
       "      (norm1): LayerNorm()\n",
       "      (mha): MultiHeadAttention(\n",
       "        (wq): Linear(in_features=768, out_features=768, bias=True)\n",
       "        (wk): Linear(in_features=768, out_features=768, bias=True)\n",
       "        (wv): Linear(in_features=768, out_features=768, bias=True)\n",
       "        (dropout): Dropout(p=0.1, inplace=False)\n",
       "        (out_proj): Linear(in_features=768, out_features=768, bias=True)\n",
       "      )\n",
       "      (norm2): LayerNorm()\n",
       "      (ffn): FeedForward(\n",
       "        (layers): Sequential(\n",
       "          (0): Linear(in_features=768, out_features=3072, bias=True)\n",
       "          (1): GELU()\n",
       "          (2): Linear(in_features=3072, out_features=768, bias=True)\n",
       "          (3): Dropout(p=0.1, inplace=False)\n",
       "        )\n",
       "      )\n",
       "    )\n",
       "    (5): TransformerDecoderOnly(\n",
       "      (drop): Dropout(p=0.1, inplace=False)\n",
       "      (norm1): LayerNorm()\n",
       "      (mha): MultiHeadAttention(\n",
       "        (wq): Linear(in_features=768, out_features=768, bias=True)\n",
       "        (wk): Linear(in_features=768, out_features=768, bias=True)\n",
       "        (wv): Linear(in_features=768, out_features=768, bias=True)\n",
       "        (dropout): Dropout(p=0.1, inplace=False)\n",
       "        (out_proj): Linear(in_features=768, out_features=768, bias=True)\n",
       "      )\n",
       "      (norm2): LayerNorm()\n",
       "      (ffn): FeedForward(\n",
       "        (layers): Sequential(\n",
       "          (0): Linear(in_features=768, out_features=3072, bias=True)\n",
       "          (1): GELU()\n",
       "          (2): Linear(in_features=3072, out_features=768, bias=True)\n",
       "          (3): Dropout(p=0.1, inplace=False)\n",
       "        )\n",
       "      )\n",
       "    )\n",
       "    (6): TransformerDecoderOnly(\n",
       "      (drop): Dropout(p=0.1, inplace=False)\n",
       "      (norm1): LayerNorm()\n",
       "      (mha): MultiHeadAttention(\n",
       "        (wq): Linear(in_features=768, out_features=768, bias=True)\n",
       "        (wk): Linear(in_features=768, out_features=768, bias=True)\n",
       "        (wv): Linear(in_features=768, out_features=768, bias=True)\n",
       "        (dropout): Dropout(p=0.1, inplace=False)\n",
       "        (out_proj): Linear(in_features=768, out_features=768, bias=True)\n",
       "      )\n",
       "      (norm2): LayerNorm()\n",
       "      (ffn): FeedForward(\n",
       "        (layers): Sequential(\n",
       "          (0): Linear(in_features=768, out_features=3072, bias=True)\n",
       "          (1): GELU()\n",
       "          (2): Linear(in_features=3072, out_features=768, bias=True)\n",
       "          (3): Dropout(p=0.1, inplace=False)\n",
       "        )\n",
       "      )\n",
       "    )\n",
       "    (7): TransformerDecoderOnly(\n",
       "      (drop): Dropout(p=0.1, inplace=False)\n",
       "      (norm1): LayerNorm()\n",
       "      (mha): MultiHeadAttention(\n",
       "        (wq): Linear(in_features=768, out_features=768, bias=True)\n",
       "        (wk): Linear(in_features=768, out_features=768, bias=True)\n",
       "        (wv): Linear(in_features=768, out_features=768, bias=True)\n",
       "        (dropout): Dropout(p=0.1, inplace=False)\n",
       "        (out_proj): Linear(in_features=768, out_features=768, bias=True)\n",
       "      )\n",
       "      (norm2): LayerNorm()\n",
       "      (ffn): FeedForward(\n",
       "        (layers): Sequential(\n",
       "          (0): Linear(in_features=768, out_features=3072, bias=True)\n",
       "          (1): GELU()\n",
       "          (2): Linear(in_features=3072, out_features=768, bias=True)\n",
       "          (3): Dropout(p=0.1, inplace=False)\n",
       "        )\n",
       "      )\n",
       "    )\n",
       "    (8): TransformerDecoderOnly(\n",
       "      (drop): Dropout(p=0.1, inplace=False)\n",
       "      (norm1): LayerNorm()\n",
       "      (mha): MultiHeadAttention(\n",
       "        (wq): Linear(in_features=768, out_features=768, bias=True)\n",
       "        (wk): Linear(in_features=768, out_features=768, bias=True)\n",
       "        (wv): Linear(in_features=768, out_features=768, bias=True)\n",
       "        (dropout): Dropout(p=0.1, inplace=False)\n",
       "        (out_proj): Linear(in_features=768, out_features=768, bias=True)\n",
       "      )\n",
       "      (norm2): LayerNorm()\n",
       "      (ffn): FeedForward(\n",
       "        (layers): Sequential(\n",
       "          (0): Linear(in_features=768, out_features=3072, bias=True)\n",
       "          (1): GELU()\n",
       "          (2): Linear(in_features=3072, out_features=768, bias=True)\n",
       "          (3): Dropout(p=0.1, inplace=False)\n",
       "        )\n",
       "      )\n",
       "    )\n",
       "    (9): TransformerDecoderOnly(\n",
       "      (drop): Dropout(p=0.1, inplace=False)\n",
       "      (norm1): LayerNorm()\n",
       "      (mha): MultiHeadAttention(\n",
       "        (wq): Linear(in_features=768, out_features=768, bias=True)\n",
       "        (wk): Linear(in_features=768, out_features=768, bias=True)\n",
       "        (wv): Linear(in_features=768, out_features=768, bias=True)\n",
       "        (dropout): Dropout(p=0.1, inplace=False)\n",
       "        (out_proj): Linear(in_features=768, out_features=768, bias=True)\n",
       "      )\n",
       "      (norm2): LayerNorm()\n",
       "      (ffn): FeedForward(\n",
       "        (layers): Sequential(\n",
       "          (0): Linear(in_features=768, out_features=3072, bias=True)\n",
       "          (1): GELU()\n",
       "          (2): Linear(in_features=3072, out_features=768, bias=True)\n",
       "          (3): Dropout(p=0.1, inplace=False)\n",
       "        )\n",
       "      )\n",
       "    )\n",
       "    (10): TransformerDecoderOnly(\n",
       "      (drop): Dropout(p=0.1, inplace=False)\n",
       "      (norm1): LayerNorm()\n",
       "      (mha): MultiHeadAttention(\n",
       "        (wq): Linear(in_features=768, out_features=768, bias=True)\n",
       "        (wk): Linear(in_features=768, out_features=768, bias=True)\n",
       "        (wv): Linear(in_features=768, out_features=768, bias=True)\n",
       "        (dropout): Dropout(p=0.1, inplace=False)\n",
       "        (out_proj): Linear(in_features=768, out_features=768, bias=True)\n",
       "      )\n",
       "      (norm2): LayerNorm()\n",
       "      (ffn): FeedForward(\n",
       "        (layers): Sequential(\n",
       "          (0): Linear(in_features=768, out_features=3072, bias=True)\n",
       "          (1): GELU()\n",
       "          (2): Linear(in_features=3072, out_features=768, bias=True)\n",
       "          (3): Dropout(p=0.1, inplace=False)\n",
       "        )\n",
       "      )\n",
       "    )\n",
       "    (11): TransformerDecoderOnly(\n",
       "      (drop): Dropout(p=0.1, inplace=False)\n",
       "      (norm1): LayerNorm()\n",
       "      (mha): MultiHeadAttention(\n",
       "        (wq): Linear(in_features=768, out_features=768, bias=True)\n",
       "        (wk): Linear(in_features=768, out_features=768, bias=True)\n",
       "        (wv): Linear(in_features=768, out_features=768, bias=True)\n",
       "        (dropout): Dropout(p=0.1, inplace=False)\n",
       "        (out_proj): Linear(in_features=768, out_features=768, bias=True)\n",
       "      )\n",
       "      (norm2): LayerNorm()\n",
       "      (ffn): FeedForward(\n",
       "        (layers): Sequential(\n",
       "          (0): Linear(in_features=768, out_features=3072, bias=True)\n",
       "          (1): GELU()\n",
       "          (2): Linear(in_features=3072, out_features=768, bias=True)\n",
       "          (3): Dropout(p=0.1, inplace=False)\n",
       "        )\n",
       "      )\n",
       "    )\n",
       "  )\n",
       "  (norm): LayerNorm()\n",
       "  (out): Linear(in_features=768, out_features=50257, bias=True)\n",
       ")"
      ]
     },
     "execution_count": 14,
     "metadata": {},
     "output_type": "execute_result"
    }
   ],
   "source": [
    "gpt2 = GPT2Small(\n",
    "    vocab_size=model_config[\"vocab_size\"],\n",
    "    ctx_len=model_config[\"ctx_len\"],\n",
    "    emb_dim=model_config[\"emb_dim\"],\n",
    "    n_heads=model_config[\"n_heads\"],\n",
    "    n_layers=model_config[\"n_layers\"],\n",
    "    dropout_rate=model_config[\"dropout_rate\"],\n",
    "    with_bias=model_config[\"with_bias\"],\n",
    "    with_mask=model_config[\"with_mask\"]\n",
    ")\n",
    "gpt2.eval()\n",
    "\n",
    "load_weights_into_gpt(gpt2, params)\n",
    "\n",
    "device = torch.device(\"cuda\" if torch.cuda.is_available() else \"cpu\")\n",
    "gpt2.to(device)"
   ]
  },
  {
   "cell_type": "markdown",
   "id": "806b1a47",
   "metadata": {},
   "source": [
    "## 7.4 使用预训练好的模型生成文本"
   ]
  },
  {
   "cell_type": "code",
   "execution_count": 22,
   "id": "be213f25",
   "metadata": {},
   "outputs": [
    {
     "name": "stdout",
     "output_type": "stream",
     "text": [
      "output text: \n",
      "Every effort moves you toward finding an ideal new way to practice something!\n",
      "\n",
      "What makes us want to be on top of that?\n",
      "\n",
      "\n"
     ]
    }
   ],
   "source": [
    "torch.manual_seed(123)\n",
    "tokenizer = tiktoken.get_encoding(\"gpt2\")\n",
    "output_ids = generate(\n",
    "    model=gpt2,\n",
    "    idx=text_to_token_ids(\"Every effort moves you\", tokenizer),\n",
    "    max_new_tokens=25,\n",
    "    context_size=model_config[\"ctx_len\"],\n",
    "    top_k=50,\n",
    "    temperature=1.5\n",
    ")\n",
    "output_text = token_ids_to_text(output_ids, tokenizer)\n",
    "print(f\"output text: \\n{output_text}\")"
   ]
  }
 ],
 "metadata": {
  "kernelspec": {
   "display_name": "llm",
   "language": "python",
   "name": "python3"
  },
  "language_info": {
   "codemirror_mode": {
    "name": "ipython",
    "version": 3
   },
   "file_extension": ".py",
   "mimetype": "text/x-python",
   "name": "python",
   "nbconvert_exporter": "python",
   "pygments_lexer": "ipython3",
   "version": "3.12.10"
  }
 },
 "nbformat": 4,
 "nbformat_minor": 5
}
