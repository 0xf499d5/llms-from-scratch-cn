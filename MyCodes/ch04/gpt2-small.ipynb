{
 "cells": [
  {
   "cell_type": "markdown",
   "id": "6f60c723",
   "metadata": {},
   "source": [
    "# 实现GPT2-small模型\n",
    "在本篇笔记我们将会实现GPT2-small模型，并不包含训练过程."
   ]
  },
  {
   "cell_type": "markdown",
   "id": "069fd2cd",
   "metadata": {},
   "source": [
    "## 1. 实现LayerNorm"
   ]
  },
  {
   "cell_type": "code",
   "execution_count": 43,
   "id": "91dd7481",
   "metadata": {},
   "outputs": [],
   "source": [
    "import tiktoken\n",
    "import torch"
   ]
  },
  {
   "cell_type": "code",
   "execution_count": 44,
   "id": "60c95bc7",
   "metadata": {},
   "outputs": [],
   "source": [
    "class LayerNorm(torch.nn.Module):\n",
    "    def __init__(self, d_emb: int):\n",
    "        \"\"\" \n",
    "        Args:\n",
    "            d_emb (int): 词嵌入的维度大小\n",
    "        \"\"\"\n",
    "        super().__init__()\n",
    "        self.delta = 1e-5\n",
    "        self.scale = torch.nn.Parameter(torch.ones(d_emb))\n",
    "        self.shift = torch.nn.Parameter(torch.zeros(d_emb))\n",
    "\n",
    "    def forward(self, X: torch.Tensor) -> torch.Tensor:\n",
    "        mean = X.mean(dim=-1, keepdim=True)  # 默认X张量的最后一个维度为词嵌入的维度\n",
    "        var = X.var(dim=-1, keepdim=True, unbiased=False)  # 使用有偏方差\n",
    "        X_normed = (X - mean) / torch.sqrt(var + self.delta)\n",
    "        return X_normed * self.scale + self.shift"
   ]
  },
  {
   "cell_type": "code",
   "execution_count": 45,
   "id": "fe07c294",
   "metadata": {},
   "outputs": [
    {
     "name": "stdout",
     "output_type": "stream",
     "text": [
      "X is: \n",
      "tensor([[-0.1115,  0.1204, -0.3696, -0.2404, -1.1969],\n",
      "        [ 0.2093, -0.9724, -0.7550,  0.3239, -0.1085]])\n",
      "mean is: \n",
      "tensor([[    -0.0000],\n",
      "        [     0.0000]], grad_fn=<MeanBackward1>)\n",
      "var is: \n",
      "tensor([[1.0000],\n",
      "        [1.0000]], grad_fn=<VarBackward0>)\n"
     ]
    }
   ],
   "source": [
    "# 测试一下LayerNorm：\n",
    "torch.manual_seed(123)\n",
    "\n",
    "X = torch.randn(2, 5)\n",
    "print(f\"X is: \\n{X}\")\n",
    "\n",
    "layer_norm = LayerNorm(5)\n",
    "X_normed = layer_norm(X)\n",
    "\n",
    "# 验证X_normed的均值和标准差是否分别接近0和1：\n",
    "mean = X_normed.mean(dim=-1, keepdim=True)\n",
    "var = X_normed.var(dim=-1, keepdim=True, unbiased=False)\n",
    "\n",
    "torch.set_printoptions(sci_mode=False)\n",
    "print(f\"mean is: \\n{mean}\")\n",
    "print(f\"var is: \\n{var}\")"
   ]
  },
  {
   "cell_type": "markdown",
   "id": "5526509e",
   "metadata": {},
   "source": [
    "## 2. 实现残差连接"
   ]
  },
  {
   "cell_type": "code",
   "execution_count": 46,
   "id": "ff933ac4",
   "metadata": {},
   "outputs": [],
   "source": [
    "# class Residual(torch.nn.Module):\n",
    "#     def __init__(self):\n",
    "#         super().__init__()\n",
    "\n",
    "#     def forward(self, X: torch.Tensor, R: torch.Tensor) -> torch.Tensor:\n",
    "#         \"\"\" \n",
    "#         Args:\n",
    "#             X: 主路径的输入\n",
    "#             R: 残差路径的输入，其形状必须和X的相同\n",
    "#         \"\"\"\n",
    "#         assert X.shape == R.shape, \"主路径和残差路径的输入形状必须相同\"\n",
    "#         return X + R\n",
    "\n",
    "# class Residual(torch.nn.Identity):\n",
    "    # pass"
   ]
  },
  {
   "cell_type": "code",
   "execution_count": 47,
   "id": "cb74425b",
   "metadata": {},
   "outputs": [],
   "source": [
    "# 创建一个5层、每层包含一个3*3的权重矩阵的深度网络\n",
    "from typing import List\n",
    "\n",
    "class DeepNet(torch.nn.Module):\n",
    "    def __init__(self, layer_sizes: List[int], with_residuals: bool):\n",
    "        super().__init__()\n",
    "        self.with_residuals = with_residuals\n",
    "        \n",
    "        self.layers = self._init_layers(layer_sizes)\n",
    "\n",
    "    def _init_layers(self, layer_sizes: List[int]):\n",
    "        layers = []\n",
    "        for i in range(len(layer_sizes) - 1):\n",
    "            d_in, d_out = layer_sizes[i], layer_sizes[i+1]\n",
    "            linear = torch.nn.Linear(d_in, d_out)\n",
    "            relu = torch.nn.ReLU()\n",
    "            layer = torch.nn.Sequential(linear, relu)\n",
    "            layers.append(layer)\n",
    "        return torch.nn.Sequential(*layers)\n",
    "    \n",
    "    def forward(self, X: torch.Tensor) -> torch.Tensor:\n",
    "        for layer in self.layers:\n",
    "            Y = layer(X)\n",
    "            if self.with_residuals and Y.shape == X.shape:\n",
    "                Y = Y + X\n",
    "            X = Y\n",
    "        return X\n",
    "\n",
    "\n",
    "def print_gradients(model: torch.nn.Module, X: torch.Tensor):\n",
    "    # 前向传播\n",
    "    output = model(X)\n",
    "    target = torch.tensor([[0.]])\n",
    "\n",
    "    # 根据输出和标签差距来计算损失\n",
    "    loss = torch.nn.MSELoss()\n",
    "    loss = loss(output, target)\n",
    "    \n",
    "    # 反向传播计算梯度\n",
    "    loss.backward()\n",
    "\n",
    "    for name, param in model.named_parameters():\n",
    "        if 'weight' in name:\n",
    "            # 打印权重的平均绝对梯度\n",
    "            print(f\"{name} has gradient mean of {param.grad.abs().mean().item()}\")"
   ]
  },
  {
   "cell_type": "code",
   "execution_count": 48,
   "id": "2e7b8dfb",
   "metadata": {},
   "outputs": [
    {
     "name": "stdout",
     "output_type": "stream",
     "text": [
      "layers.0.0.weight has gradient mean of 0.0006875668186694384\n",
      "layers.1.0.weight has gradient mean of 0.0019083978841081262\n",
      "layers.2.0.weight has gradient mean of 0.0038205476012080908\n",
      "layers.3.0.weight has gradient mean of 0.003861031262204051\n",
      "layers.4.0.weight has gradient mean of 0.024814950302243233\n"
     ]
    }
   ],
   "source": [
    "\n",
    "# 先观察不使用残差连接的深度网络的梯度传播情况\n",
    "layer_sizes = [3, 3, 3, 3, 3, 1]  \n",
    "\n",
    "sample_input = torch.tensor([[1., 0., -1.]])\n",
    "\n",
    "torch.manual_seed(123)\n",
    "model_without_residuals = DeepNet(layer_sizes, with_residuals=False)\n",
    "print_gradients(model_without_residuals, sample_input)"
   ]
  },
  {
   "cell_type": "markdown",
   "id": "d4e40d9c",
   "metadata": {},
   "source": [
    "可以看到，浅层（接近第1层）的梯度变得越来越少。"
   ]
  },
  {
   "cell_type": "code",
   "execution_count": 49,
   "id": "776c968d",
   "metadata": {},
   "outputs": [
    {
     "name": "stdout",
     "output_type": "stream",
     "text": [
      "layers.0.0.weight has gradient mean of 0.5557742714881897\n",
      "layers.1.0.weight has gradient mean of 0.09135335683822632\n",
      "layers.2.0.weight has gradient mean of 0.7913904190063477\n",
      "layers.3.0.weight has gradient mean of 0.21711303293704987\n",
      "layers.4.0.weight has gradient mean of 3.140749216079712\n"
     ]
    }
   ],
   "source": [
    "# 然后观察一下使用了残差连接的情况\n",
    "torch.manual_seed(123)\n",
    "\n",
    "model_with_residuals = DeepNet(layer_sizes, with_residuals=True)\n",
    "print_gradients(model_with_residuals, sample_input)"
   ]
  },
  {
   "cell_type": "markdown",
   "id": "2e8d5b47",
   "metadata": {},
   "source": [
    "- GELU ([Hendrycks and Gimpel 2016](https://arxiv.org/abs/1606.08415))用多种实现；其精确版本定义为$GELU(x)=x\\cdot \\phi(x)$，其中$\\phi(x)$是标准高斯分布的累积分布函数。\n",
    "- 在实际应用中，常常采用计算成本较低的近似形式：$\\text{GELU}(x) \\approx 0.5 \\cdot x \\cdot \\left(1 + \\tanh\\left[\\sqrt{\\frac{2}{\\pi}} \\cdot \\left(x + 0.044715 \\cdot x^3\\right)\\right]\\right)$（原始的GPT-2模型也是使用这个近似形式进行训练的）。\n",
    "\n",
    "\n",
    "## 3. 实现GELU激活函数"
   ]
  },
  {
   "cell_type": "code",
   "execution_count": 50,
   "id": "049ecd93",
   "metadata": {},
   "outputs": [],
   "source": [
    "class GELU(torch.nn.Module):\n",
    "    def __init__(self):\n",
    "        super().__init__()\n",
    "\n",
    "    def forward(self, X: torch.Tensor) -> torch.Tensor:\n",
    "        Y = 0.5 * X * (1 + torch.tanh((2 / torch.pi) ** 0.5 * (X + 0.044715 * torch.pow(X, 3))))\n",
    "        return Y"
   ]
  },
  {
   "cell_type": "code",
   "execution_count": 51,
   "id": "20676bd0",
   "metadata": {},
   "outputs": [
    {
     "data": {
      "image/png": "[encoded data removed]",
      "text/plain": [
       "<Figure size 800x300 with 2 Axes>"
      ]
     },
     "metadata": {},
     "output_type": "display_data"
    }
   ],
   "source": [
    "# 画出GELU激活函数的函数图像：\n",
    "import matplotlib.pyplot as plt\n",
    "\n",
    "gelu, relu = GELU(), torch.nn.ReLU()\n",
    "\n",
    "# 样本数据\n",
    "x = torch.linspace(-3, 3, 100)\n",
    "y_gelu, y_relu = gelu(x), relu(x)\n",
    "\n",
    "plt.figure(figsize=(8, 3))\n",
    "for i, (y, label) in enumerate(zip([y_gelu, y_relu], [\"GELU\", \"ReLU\"]), 1):\n",
    "    plt.subplot(1, 2, i)\n",
    "    plt.plot(x, y)\n",
    "    plt.title(f\"{label} activation function\")\n",
    "    plt.xlabel(\"x\")\n",
    "    plt.ylabel(f\"{label}(x)\")\n",
    "    plt.grid(True)\n",
    "\n",
    "plt.tight_layout()\n",
    "plt.show()"
   ]
  },
  {
   "attachments": {
    "ffn.webp": {
     "image/webp": "[encoded data removed]"
    }
   },
   "cell_type": "markdown",
   "id": "d42629ca",
   "metadata": {},
   "source": [
    "## 4. 实现FeedForward模块\n",
    "这里将会实现如下结构的FeedForward子网络：\n",
    "![ffn.webp](attachment:ffn.webp)"
   ]
  },
  {
   "cell_type": "code",
   "execution_count": 52,
   "id": "c403cbb0",
   "metadata": {},
   "outputs": [],
   "source": [
    "class FeedForward(torch.nn.Module):\n",
    "    def __init__(self, emb_dim: int, dropout_rate: float):\n",
    "        super().__init__()\n",
    "        self.layers = torch.nn.Sequential(\n",
    "            torch.nn.Linear(emb_dim, 4 * emb_dim),\n",
    "            GELU(),\n",
    "            torch.nn.Linear(4 * emb_dim, emb_dim),\n",
    "            torch.nn.Dropout(dropout_rate)\n",
    "        )\n",
    "\n",
    "    def forward(self, X: torch.Tensor) -> torch.Tensor:\n",
    "        Y = self.layers(X)\n",
    "        return Y"
   ]
  },
  {
   "cell_type": "code",
   "execution_count": 53,
   "id": "8348506b",
   "metadata": {},
   "outputs": [
    {
     "name": "stdout",
     "output_type": "stream",
     "text": [
      "torch.Size([2, 3, 768])\n"
     ]
    }
   ],
   "source": [
    "ffn = FeedForward(emb_dim=768, dropout_rate=0.1)\n",
    "\n",
    "# input shape: [batch_size, num_token, emb_size]\n",
    "x = torch.rand(2, 3, 768) \n",
    "out = ffn(x)\n",
    "print(out.shape)\n",
    "assert out.shape == (2, 3, 768)"
   ]
  },
  {
   "attachments": {
    "transformer-block.webp": {
     "image/webp": "[encoded data removed]"
    }
   },
   "cell_type": "markdown",
   "id": "05ca0e77",
   "metadata": {},
   "source": [
    "## 5. 封装`transformer decoder-only`模块\n",
    "我们在这里将会实现如下架构的`transormer decoder-only`模块：\n",
    "![transformer-block.webp](attachment:transformer-block.webp)"
   ]
  },
  {
   "cell_type": "code",
   "execution_count": 54,
   "id": "fed74ad6",
   "metadata": {},
   "outputs": [],
   "source": [
    "# 复用上一章实现的MultiHeadAttention:\n",
    "from typing import Tuple\n",
    "\n",
    "class MultiHeadAttention(torch.nn.Module):\n",
    "    def __init__(\n",
    "            self,\n",
    "            d_in: int,\n",
    "            d_out: int,\n",
    "            max_num_tokens: int,\n",
    "            num_heads: int,\n",
    "            dropout_rate: float,\n",
    "            with_bias: bool = False,\n",
    "            with_mask: bool = False,\n",
    "    ):\n",
    "        super().__init__()\n",
    "        self.d_in = d_in\n",
    "        self.d_out = d_out\n",
    "        self.max_num_tokens = max_num_tokens\n",
    "        self.num_heads = num_heads\n",
    "        self.dropout_rate = dropout_rate\n",
    "        self.with_bias = with_bias\n",
    "        self.with_mask = with_mask\n",
    "\n",
    "        if d_out % num_heads != 0:\n",
    "            raise ValueError(f\"d_out必须可以被num_heads整除\")\n",
    "        self.d_head = d_out // num_heads\n",
    "\n",
    "        self.wq = None\n",
    "        self.wk = None\n",
    "        self.wv = None\n",
    "        # self.mask = None\n",
    "        self.dropout = None\n",
    "        self.out_proj = None\n",
    "        self._init_parameters()\n",
    "\n",
    "    def _init_parameters(self):\n",
    "        d_in, d_out, with_bias = self.d_in, self.d_out, self.with_bias\n",
    "        self.wq = torch.nn.Linear(in_features=d_in, out_features=d_out, bias=with_bias)\n",
    "        self.wk = torch.nn.Linear(in_features=d_in, out_features=d_out, bias=with_bias)\n",
    "        self.wv = torch.nn.Linear(in_features=d_in, out_features=d_out, bias=with_bias)\n",
    "\n",
    "        block_size = self.max_num_tokens\n",
    "        if self.with_mask:\n",
    "            mask = torch.triu(torch.ones(block_size, block_size), diagonal=1).bool()\n",
    "            self.register_buffer(name=\"mask\", tensor=mask)  # 保存模型时，也会同时保存掩码\n",
    "\n",
    "        self.dropout = torch.nn.Dropout(p=self.dropout_rate)\n",
    "\n",
    "        self.out_proj = torch.nn.Linear(d_out, d_out)\n",
    "\n",
    "    def forward(self, X: torch.Tensor) -> torch.Tensor:\n",
    "        batch_size, num_tokens, d_in = X.shape  # 这里需要获取实际输入数据集的上下文长度\n",
    "        assert num_tokens <= self.max_num_tokens, f\"输入序列长度 {num_tokens} 超过最大允许长度 {self.max_num_tokens}\"\n",
    "        assert d_in == self.d_in, \"输入维度不正确\"\n",
    "\n",
    "        Q, K, V = self._compute_qkv(X)\n",
    "        Q, K, V = self._reshape_qkv(Q, K, V, num_tokens)\n",
    "        Q, K, V = self._transpose_qkv(Q, K, V)\n",
    "\n",
    "        attention_scores = self._compute_attention_scores(Q, K)\n",
    "        if self.with_mask:\n",
    "            attention_scores = self._mask_attention_scores(attention_scores, num_tokens)\n",
    "\n",
    "        attention_weights = self._compute_attention_weights(attention_scores)\n",
    "        attention_weights = self.dropout(attention_weights)\n",
    "\n",
    "        contexts = self._compute_contexts(attention_weights, V)\n",
    "        contexts = self._transpose_contexts(contexts)\n",
    "        contexts = self._reshape_contexts(contexts, num_tokens)\n",
    "        \n",
    "        Y = self.out_proj(contexts)\n",
    "        return Y\n",
    "\n",
    "\n",
    "    def _compute_qkv(self, X: torch.Tensor) -> Tuple[torch.Tensor, torch.Tensor, torch.Tensor]:\n",
    "        \"\"\" \n",
    "        X.shape:        (batch_size, num_tokens, d_in)\n",
    "        Q, K, V.shape:  (batch_size, num_tokens, d_out)\n",
    "        \"\"\"\n",
    "        Q, K, V = self.wq(X), self.wk(X), self.wv(X)\n",
    "        return Q, K, V\n",
    "    \n",
    "    def _reshape_qkv(self, Q: torch.Tensor, K: torch.Tensor, V: torch.Tensor, num_tokens: int) -> Tuple[torch.Tensor, torch.Tensor, torch.Tensor]:\n",
    "        \"\"\" \n",
    "        这里的num_tokens与self.num_tokens是不相同的，\n",
    "        这里的num_tokens指的是输入数据的token数量，\n",
    "        而self.num_tokens是初始化时设定的最大token数。\n",
    "        \"\"\"\n",
    "        batch_size = Q.shape[0]\n",
    "        \"\"\"\n",
    "        Q, K, V.shape:  (batch_size, num_tokens, d_out) -> (batch_size, num_tokens, num_heads, d_head)\n",
    "        \"\"\"\n",
    "        Q = Q.reshape(batch_size, num_tokens, self.num_heads, self.d_head)\n",
    "        K = K.reshape(batch_size, num_tokens, self.num_heads, self.d_head)\n",
    "        V = V.reshape(batch_size, num_tokens, self.num_heads, self.d_head)\n",
    "        return Q, K, V\n",
    "\n",
    "    def _transpose_qkv(self, Q: torch.Tensor, K: torch.Tensor, V: torch.Tensor) -> Tuple[torch.Tensor, torch.Tensor, torch.Tensor]:\n",
    "        \"\"\" \n",
    "        Q, K, V.shape:  (batch_size, num_tokens, num_heads, d_head) -> (batch_size, num_heads, num_tokens, d_head)\n",
    "        \"\"\"\n",
    "        Q = Q.transpose(1, 2).contiguous()\n",
    "        K = K.transpose(1, 2).contiguous()\n",
    "        V = V.transpose(1, 2).contiguous()\n",
    "        return Q, K, V\n",
    "    \n",
    "    def _compute_attention_scores(self, Q: torch.Tensor, K: torch.Tensor) -> torch.Tensor:\n",
    "        \"\"\"  \n",
    "        attention_scores.shape: (batch_size, num_heads, num_tokens, num_tokens)\n",
    "        \"\"\"\n",
    "        attention_scores = Q @ K.transpose(2, 3)\n",
    "        return attention_scores\n",
    "    \n",
    "    def _mask_attention_scores(self, attention_scores: torch.Tensor, num_tokens: int) -> torch.Tensor:\n",
    "        mask = self.mask[:num_tokens, :num_tokens]\n",
    "        mask = mask.reshape(1, 1, num_tokens, num_tokens)  # 实际输入数据的token数量未必就是初始化时的token数\n",
    "        attention_scores.masked_fill_(mask, -torch.inf)\n",
    "        return attention_scores\n",
    "\n",
    "    def _compute_attention_weights(self, attention_scores: torch.Tensor) -> torch.Tensor:\n",
    "        \"\"\"  \n",
    "        attention_weights.shape: (batch_size, num_heads, num_tokens, num_tokens)\n",
    "        \"\"\"\n",
    "        attention_weights = torch.softmax(attention_scores / self.d_head ** 0.5, dim=-1)\n",
    "        return attention_weights\n",
    "    \n",
    "    def _compute_contexts(self, attention_weights: torch.Tensor, V: torch.Tensor) -> torch.Tensor:\n",
    "        \"\"\"  \n",
    "        contexts.shape: (batch_size, num_heads, num_tokens, d_head)\n",
    "        \"\"\"\n",
    "        contexts = attention_weights @ V\n",
    "        return contexts\n",
    "    \n",
    "    def _transpose_contexts(self, contexts: torch.Tensor) -> torch.Tensor:\n",
    "        \"\"\"\n",
    "        contexts.shape: (batch_size, num_heads, num_tokens, d_head) -> (batch_size, num_tokens, num_heads, d_head)\n",
    "        \"\"\"\n",
    "        contexts = contexts.transpose(1, 2).contiguous()\n",
    "        return contexts\n",
    "    \n",
    "    def _reshape_contexts(self, contexts: torch.Tensor, num_tokens: int) -> torch.Tensor:\n",
    "        \"\"\"\n",
    "        contexts.shape: (batch_size, num_tokens, num_heads, d_head) -> (batch_size, num_tokens, d_out)\n",
    "        \"\"\"\n",
    "        batch_size = contexts.shape[0]\n",
    "        contexts = contexts.reshape(batch_size, num_tokens, self.d_out)\n",
    "        return contexts\n"
   ]
  },
  {
   "cell_type": "code",
   "execution_count": 55,
   "id": "112dbe65",
   "metadata": {},
   "outputs": [],
   "source": [
    "# 实现我们的transformer decoder-only模块\n",
    "class TransformerDecoderOnly(torch.nn.Module):\n",
    "    def __init__(\n",
    "        self,\n",
    "        d_in: int,\n",
    "        d_out: int,\n",
    "        max_num_tokens: int,\n",
    "        num_heads: int,\n",
    "        dropout_rate: float,\n",
    "        with_bias: bool = False,\n",
    "        with_mask: bool = False\n",
    "    ):\n",
    "        # 这里的d_in和d_out都是相同的\n",
    "        assert d_in == d_out, \"d_in and d_out must be equal in decoder-only.\"\n",
    "        super().__init__()\n",
    "        # Dropout是公用的：\n",
    "        self.drop = torch.nn.Dropout(dropout_rate)\n",
    "        # LN + MHA + Dropout：\n",
    "        self.norm1 = torch.nn.LayerNorm(d_in)\n",
    "        self.mha = MultiHeadAttention(\n",
    "            d_in=d_in,\n",
    "            d_out=d_out,\n",
    "            max_num_tokens=max_num_tokens,\n",
    "            num_heads=num_heads,\n",
    "            dropout_rate=dropout_rate,\n",
    "            with_bias=with_bias,\n",
    "            with_mask=with_mask\n",
    "        )\n",
    "        # LN + FFN + Dropout：\n",
    "        self.norm2 = torch.nn.LayerNorm(d_out)\n",
    "        self.ffn = FeedForward(emb_dim=d_out, dropout_rate=dropout_rate)\n",
    "\n",
    "    def forward(self, X: torch.Tensor) -> torch.Tensor:\n",
    "        shortcut = X\n",
    "        X = self.norm1(X)\n",
    "        X = self.mha(X)\n",
    "        X = self.drop(X)\n",
    "        X += shortcut\n",
    "\n",
    "        shortcut = X\n",
    "        X = self.norm2(X)\n",
    "        X = self.ffn(X)\n",
    "        X = self.drop(X)\n",
    "        X += shortcut\n",
    "        return X"
   ]
  },
  {
   "cell_type": "code",
   "execution_count": 56,
   "id": "11dbf9f7",
   "metadata": {},
   "outputs": [
    {
     "name": "stdout",
     "output_type": "stream",
     "text": [
      "Input shape: torch.Size([2, 4, 768])\n",
      "Output shape: torch.Size([2, 4, 768])\n"
     ]
    }
   ],
   "source": [
    "\"\"\" \n",
    "GPT config is: \n",
    "vocab_size: 50257\n",
    "ctx_len: 1024\n",
    "emb_dim: 768\n",
    "n_heads: 12\n",
    "n_layers: 12\n",
    "drop_rate: 0.1\n",
    "qkv_bias: False\n",
    "Input shape: torch.Size([2, 4, 768])\n",
    "Output shape: torch.Size([2, 4, 768])\n",
    "\"\"\"\n",
    "torch.manual_seed(123)\n",
    "\n",
    "X = torch.rand(2, 4, 768)\n",
    "tdo = TransformerDecoderOnly(\n",
    "    d_in=768,\n",
    "    d_out=768,\n",
    "    max_num_tokens=1024,\n",
    "    num_heads=12,\n",
    "    dropout_rate=0.1,\n",
    "    with_bias=False,\n",
    "    with_mask=True\n",
    ")\n",
    "Y = tdo(X)\n",
    "print(f\"Input shape: {X.shape}\")\n",
    "print(f\"Output shape: {Y.shape}\")\n",
    "# 输入和输出的形状应该是一样的：\n",
    "assert X.shape == Y.shape"
   ]
  },
  {
   "attachments": {
    "gpt.webp": {
     "image/webp": "[encoded data removed]"
    }
   },
   "cell_type": "markdown",
   "id": "1919d820",
   "metadata": {},
   "source": [
    "## 6. 实现GPT模型\n",
    "我们要实现的GPT架构如下：\n",
    "![gpt.webp](attachment:gpt.webp)"
   ]
  },
  {
   "cell_type": "code",
   "execution_count": 57,
   "id": "52604489",
   "metadata": {},
   "outputs": [],
   "source": [
    "\"\"\"  \n",
    "class GPTModel(nn.Module):\n",
    "    def __init__(self, cfg):\n",
    "        super().__init__()\n",
    "        self.tok_emb = nn.Embedding(cfg[\"vocab_size\"], cfg[\"emb_dim\"])\n",
    "        self.pos_emb = nn.Embedding(cfg[\"ctx_len\"], cfg[\"emb_dim\"])\n",
    "        self.drop_emb = nn.Dropout(cfg[\"drop_rate\"])\n",
    "        \n",
    "        self.trf_blocks = nn.Sequential(\n",
    "            *[TransformerBlock(cfg) for _ in range(cfg[\"n_layers\"])])\n",
    "        \n",
    "        self.final_norm = LayerNorm(cfg[\"emb_dim\"])\n",
    "        self.out_head = nn.Linear(\n",
    "            cfg[\"emb_dim\"], cfg[\"vocab_size\"], bias=False\n",
    "        )\n",
    "\n",
    "    def forward(self, in_idx):\n",
    "        batch_size, seq_len = in_idx.shape\n",
    "        tok_embeds = self.tok_emb(in_idx)\n",
    "        pos_embeds = self.pos_emb(torch.arange(seq_len, device=in_idx.device))\n",
    "        x = tok_embeds + pos_embeds  # Shape [batch_size, num_tokens, emb_size]\n",
    "        x = self.trf_blocks(x)\n",
    "        x = self.final_norm(x)\n",
    "        logits = self.out_head(x)\n",
    "        return logits\n",
    "\"\"\"\n",
    "\n",
    "class GPT2Small(torch.nn.Module):\n",
    "    def __init__(\n",
    "        self,\n",
    "        vocab_size: int,\n",
    "        ctx_len: int,\n",
    "        emb_dim: int,\n",
    "        n_heads: int,\n",
    "        n_layers: int,\n",
    "        dropout_rate: float,\n",
    "        with_bias: bool = False,\n",
    "        with_mask: bool = True\n",
    "    ):\n",
    "        super().__init__()\n",
    "\n",
    "        self.tok_emb = torch.nn.Embedding(vocab_size, emb_dim)\n",
    "        self.pos_emb = torch.nn.Embedding(ctx_len, emb_dim)\n",
    "        self.decoder = torch.nn.Sequential(\n",
    "            *[\n",
    "                TransformerDecoderOnly(\n",
    "                    d_in=emb_dim,\n",
    "                    d_out=emb_dim,\n",
    "                    max_num_tokens=ctx_len,\n",
    "                    num_heads=n_heads,\n",
    "                    dropout_rate=dropout_rate,\n",
    "                    with_bias=with_bias,\n",
    "                    with_mask=with_mask\n",
    "                ) for _ in range(n_layers)\n",
    "            ]\n",
    "        )\n",
    "        # self.norm = torch.nn.LayerNorm(emb_dim)\n",
    "        self.norm = LayerNorm(emb_dim)\n",
    "        self.out = torch.nn.Linear(emb_dim, vocab_size, bias=with_bias)\n",
    "\n",
    "    def forward(self, input_indices: torch.Tensor) -> torch.Tensor:\n",
    "        # X是输入的token索引，形状为[batch_size, seq_len]\n",
    "        batch_size, seq_len = input_indices.shape\n",
    "        token_embeds = self.tok_emb(input_indices)\n",
    "        position_embeds = self.pos_emb(torch.arange(seq_len, device=input_indices.device))\n",
    "        X = token_embeds + position_embeds\n",
    "        X = self.decoder(X)\n",
    "        X = self.norm(X)\n",
    "        Y = self.out(X)\n",
    "        return Y\n"
   ]
  },
  {
   "cell_type": "code",
   "execution_count": 58,
   "id": "0018b162",
   "metadata": {},
   "outputs": [
    {
     "name": "stdout",
     "output_type": "stream",
     "text": [
      "Input batch:\n",
      " tensor([[6109, 3626, 6100,  345],\n",
      "        [6109, 1110, 6622,  257]])\n",
      "\n",
      "Output shape: torch.Size([2, 4, 50257])\n",
      "tensor([[[ 0.0359,  0.1277, -0.3412,  ..., -0.3470,  0.8628,  0.8957],\n",
      "         [-0.1713,  1.0491, -0.8684,  ..., -0.2338, -0.1304, -0.0807],\n",
      "         [-0.3930,  0.9175, -0.5629,  ..., -0.3837, -0.4444, -0.2355],\n",
      "         [ 0.7052,  0.8655,  0.0633,  ..., -0.0181, -1.0950, -0.4965]],\n",
      "\n",
      "        [[-0.0041, -0.0847, -0.1331,  ..., -0.8487,  1.0287,  0.7838],\n",
      "         [ 0.0525,  0.6175, -0.5145,  ..., -0.0415,  0.2780, -0.5961],\n",
      "         [ 0.1981, -0.6855, -0.8513,  ..., -0.0083,  0.3735, -0.6017],\n",
      "         [ 1.0542, -0.3154,  0.0600,  ...,  0.5852,  0.4260,  0.0338]]],\n",
      "       grad_fn=<UnsafeViewBackward0>)\n"
     ]
    }
   ],
   "source": [
    "\"\"\" \n",
    "GPT config is: \n",
    "vocab_size: 50257\n",
    "ctx_len: 1024\n",
    "emb_dim: 768\n",
    "n_heads: 12\n",
    "n_layers: 12\n",
    "drop_rate: 0.1\n",
    "qkv_bias: False\n",
    "Input shape: torch.Size([2, 4, 768])\n",
    "Output shape: torch.Size([2, 4, 768])\n",
    "\"\"\"\n",
    "model = GPT2Small(\n",
    "    vocab_size=50257,\n",
    "    ctx_len=1024,\n",
    "    emb_dim=768,\n",
    "    n_heads=12,\n",
    "    n_layers=12,\n",
    "    dropout_rate=0.1,\n",
    "    with_bias=False,\n",
    "    with_mask=True\n",
    ")\n",
    "\n",
    "tokenizer = tiktoken.get_encoding(\"gpt2\")\n",
    "batch = []\n",
    "\n",
    "txt1 = \"Every effort moves you\"\n",
    "txt2 = \"Every day holds a\"\n",
    "\n",
    "batch.append(torch.tensor(tokenizer.encode(txt1)))\n",
    "batch.append(torch.tensor(tokenizer.encode(txt2)))\n",
    "batch = torch.stack(batch, dim=0)\n",
    "\n",
    "out = model(batch)\n",
    "print(\"Input batch:\\n\", batch)\n",
    "print(\"\\nOutput shape:\", out.shape)\n",
    "print(out)"
   ]
  },
  {
   "cell_type": "code",
   "execution_count": 59,
   "id": "c2607a2c",
   "metadata": {},
   "outputs": [
    {
     "name": "stdout",
     "output_type": "stream",
     "text": [
      "Total number of parameters: 163,009,536\n"
     ]
    }
   ],
   "source": [
    "# 计算一下模型的参数量：\n",
    "total_params = sum(p.numel() for p in model.parameters())\n",
    "print(f\"Total number of parameters: {total_params:,}\")\n",
    "# 163,059,793\n",
    "# assert total_params == 163009536"
   ]
  },
  {
   "cell_type": "markdown",
   "id": "6131fc75",
   "metadata": {},
   "source": [
    "## 7. 使用GPT模型生成文本"
   ]
  },
  {
   "cell_type": "code",
   "execution_count": 60,
   "id": "628de4b0",
   "metadata": {},
   "outputs": [],
   "source": [
    "def generate_text_simple(model: torch.nn.Module, indices: torch.Tensor, max_new_tokens: int, context_size: int):\n",
    "    \"\"\" \n",
    "    Args:\n",
    "        model: GPT2 Small模型\n",
    "        indices: 初始的上下文索引数组，形状为(B, T)\n",
    "        max_new_tokens: 生成的最大新token数量\n",
    "        context_size: 当前的上下文长度\n",
    "    \"\"\"\n",
    "    for _ in range(max_new_tokens):\n",
    "        # 如果当前上下文超过了支持的长度，就对当前上下文进行截断\n",
    "        # 例如，如果LLM只支持5个token，而上下文长度为10，\n",
    "        # 那么只有最后5个token会被用作上下文\n",
    "        idx_cond = indices[:, -context_size:]\n",
    "        \n",
    "        # 获取预测结果\n",
    "        with torch.no_grad():\n",
    "            logits = model(idx_cond)\n",
    "        \n",
    "        # 只关注最后一个时间步\n",
    "        # (batch, n_token, vocab_size)变为(batch, vocab_size)\n",
    "        logits = logits[:, -1, :]  \n",
    "\n",
    "        # 通过softmax函数获得对应的概率\n",
    "        probas = torch.softmax(logits, dim=-1)  # (batch, vocab_size)\n",
    "\n",
    "        # 获取概率值最高的单词索引\n",
    "        idx_next = torch.argmax(probas, dim=-1, keepdim=True)  # (batch, 1)\n",
    "\n",
    "        # 将采样到的索引添加到当前运行的上下文索引序列中\n",
    "        indices = torch.cat((indices, idx_next), dim=1)  # (batch, n_tokens+1)\n",
    "\n",
    "    return indices"
   ]
  },
  {
   "cell_type": "code",
   "execution_count": 61,
   "id": "4b0138c0",
   "metadata": {},
   "outputs": [
    {
     "name": "stdout",
     "output_type": "stream",
     "text": [
      "encoded: [15496, 11, 314, 716]\n",
      "encoded_tensor.shape: torch.Size([1, 4])\n",
      "Output: tensor([[15496,    11,   314,   716, 15086]])\n",
      "Output length: 5\n",
      "Hello, I amSil\n"
     ]
    }
   ],
   "source": [
    "# 测试一下：\n",
    "start_context = \"Hello, I am\"\n",
    "\n",
    "encoded = tokenizer.encode(start_context)\n",
    "print(\"encoded:\", encoded)\n",
    "\n",
    "encoded_tensor = torch.tensor(encoded).unsqueeze(0)\n",
    "print(\"encoded_tensor.shape:\", encoded_tensor.shape)\n",
    "\n",
    "out = generate_text_simple(\n",
    "    model=model,\n",
    "    indices=encoded_tensor,\n",
    "    max_new_tokens=1,  # 生成下一个token\n",
    "    context_size=1024\n",
    ")\n",
    "\n",
    "print(\"Output:\", out)\n",
    "print(\"Output length:\", len(out[0]))\n",
    "\n",
    "decoded_text = tokenizer.decode(out.squeeze(0).tolist())\n",
    "print(decoded_text)  # 由于分词算法使用的是基于subword粒度的BPE算法，所以解码后得到的序列长度有可能少于解码前的tokens序列长度"
   ]
  },
  {
   "cell_type": "code",
   "execution_count": 63,
   "id": "d8028748",
   "metadata": {},
   "outputs": [
    {
     "name": "stdout",
     "output_type": "stream",
     "text": [
      "tok_emb.weight: 38597376\n",
      "pos_emb.weight: 786432\n",
      "norm.scale: 768\n",
      "norm.shift: 768\n",
      "out.weight: 38597376\n",
      "decoder: 85026816\n"
     ]
    }
   ],
   "source": [
    "# 逐层打印模型的参数量：\n",
    "decoder_params_num = 0\n",
    "for name, params in model.named_parameters():\n",
    "    if name.startswith(\"decoder\"):\n",
    "        decoder_params_num += params.numel()\n",
    "    else:\n",
    "        print(f\"{name}: {params.numel()}\")\n",
    "print(f\"decoder: {decoder_params_num}\")"
   ]
  }
 ],
 "metadata": {
  "kernelspec": {
   "display_name": "llm",
   "language": "python",
   "name": "python3"
  },
  "language_info": {
   "codemirror_mode": {
    "name": "ipython",
    "version": 3
   },
   "file_extension": ".py",
   "mimetype": "text/x-python",
   "name": "python",
   "nbconvert_exporter": "python",
   "pygments_lexer": "ipython3",
   "version": "3.13.3"
  }
 },
 "nbformat": 4,
 "nbformat_minor": 5
}
